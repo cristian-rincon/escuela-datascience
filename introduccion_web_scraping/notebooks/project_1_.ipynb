{
  "nbformat": 4,
  "nbformat_minor": 0,
  "metadata": {
    "colab": {
      "name": "project_1_.ipynb",
      "provenance": [],
      "collapsed_sections": [],
      "authorship_tag": "ABX9TyMZysYwqJsLM08AnkPRjKED",
      "include_colab_link": true
    },
    "kernelspec": {
      "name": "python3",
      "display_name": "Python 3"
    }
  },
  "cells": [
    {
      "cell_type": "markdown",
      "metadata": {
        "id": "view-in-github",
        "colab_type": "text"
      },
      "source": [
        "<a href=\"https://colab.research.google.com/github/cristian-rincon/escuela-datascience/blob/master/introduccion_web_scraping/project_1_.ipynb\" target=\"_parent\"><img src=\"https://colab.research.google.com/assets/colab-badge.svg\" alt=\"Open In Colab\"/></a>"
      ]
    },
    {
      "cell_type": "markdown",
      "metadata": {
        "id": "J96ug2FORyce",
        "colab_type": "text"
      },
      "source": [
        "# Web Scraping página El Tiempo\n",
        "\n",
        "> eltiempo.com"
      ]
    },
    {
      "cell_type": "code",
      "metadata": {
        "id": "MeAMUzCSRawn",
        "colab_type": "code",
        "colab": {}
      },
      "source": [
        "import requests"
      ],
      "execution_count": 1,
      "outputs": []
    },
    {
      "cell_type": "code",
      "metadata": {
        "id": "XI74NcFySDQ_",
        "colab_type": "code",
        "colab": {}
      },
      "source": [
        "url = 'https://eltiempo.com'"
      ],
      "execution_count": 2,
      "outputs": []
    },
    {
      "cell_type": "code",
      "metadata": {
        "id": "g3vBXENpSKXq",
        "colab_type": "code",
        "colab": {}
      },
      "source": [
        "eltiempo = requests.get(url)"
      ],
      "execution_count": 3,
      "outputs": []
    },
    {
      "cell_type": "code",
      "metadata": {
        "id": "s72vkN4GSO7m",
        "colab_type": "code",
        "colab": {
          "base_uri": "https://localhost:8080/",
          "height": 33
        },
        "outputId": "ef76deef-df5b-47f1-a45e-02be7327200d"
      },
      "source": [
        "eltiempo.status_code"
      ],
      "execution_count": 4,
      "outputs": [
        {
          "output_type": "execute_result",
          "data": {
            "text/plain": [
              "200"
            ]
          },
          "metadata": {
            "tags": []
          },
          "execution_count": 4
        }
      ]
    },
    {
      "cell_type": "code",
      "metadata": {
        "id": "T0xAx5uISUHF",
        "colab_type": "code",
        "colab": {}
      },
      "source": [
        "# eltiempo.text"
      ],
      "execution_count": 5,
      "outputs": []
    },
    {
      "cell_type": "code",
      "metadata": {
        "id": "dAhHQbrgSiyk",
        "colab_type": "code",
        "colab": {}
      },
      "source": [
        "# eltiempo.content"
      ],
      "execution_count": 6,
      "outputs": []
    },
    {
      "cell_type": "code",
      "metadata": {
        "id": "XUu_hkyNSrl9",
        "colab_type": "code",
        "colab": {}
      },
      "source": [
        "# eltiempo.headers"
      ],
      "execution_count": 36,
      "outputs": []
    },
    {
      "cell_type": "code",
      "metadata": {
        "id": "LGoRHXQqS2pY",
        "colab_type": "code",
        "colab": {
          "base_uri": "https://localhost:8080/",
          "height": 33
        },
        "outputId": "92d5324e-3f29-44c2-d852-ab255493e7ca"
      },
      "source": [
        "eltiempo.request.headers"
      ],
      "execution_count": 8,
      "outputs": [
        {
          "output_type": "execute_result",
          "data": {
            "text/plain": [
              "{'User-Agent': 'python-requests/2.23.0', 'Accept-Encoding': 'gzip, deflate', 'Accept': '*/*', 'Connection': 'keep-alive'}"
            ]
          },
          "metadata": {
            "tags": []
          },
          "execution_count": 8
        }
      ]
    },
    {
      "cell_type": "code",
      "metadata": {
        "id": "RlMBG4gbTJLY",
        "colab_type": "code",
        "colab": {
          "base_uri": "https://localhost:8080/",
          "height": 34
        },
        "outputId": "ef3e2bbe-f8e3-47b1-ca73-c586154dba87"
      },
      "source": [
        "eltiempo.request.method"
      ],
      "execution_count": 9,
      "outputs": [
        {
          "output_type": "execute_result",
          "data": {
            "application/vnd.google.colaboratory.intrinsic+json": {
              "type": "string"
            },
            "text/plain": [
              "'GET'"
            ]
          },
          "metadata": {
            "tags": []
          },
          "execution_count": 9
        }
      ]
    },
    {
      "cell_type": "code",
      "metadata": {
        "id": "51Ux81QeTMm7",
        "colab_type": "code",
        "colab": {
          "base_uri": "https://localhost:8080/",
          "height": 34
        },
        "outputId": "ac5a14be-d919-4b7f-c695-8f0e5be5201c"
      },
      "source": [
        "eltiempo.request.url"
      ],
      "execution_count": 10,
      "outputs": [
        {
          "output_type": "execute_result",
          "data": {
            "application/vnd.google.colaboratory.intrinsic+json": {
              "type": "string"
            },
            "text/plain": [
              "'https://www.eltiempo.com/'"
            ]
          },
          "metadata": {
            "tags": []
          },
          "execution_count": 10
        }
      ]
    },
    {
      "cell_type": "markdown",
      "metadata": {
        "id": "H0DEGWDpToSQ",
        "colab_type": "text"
      },
      "source": [
        "## Identificar la información de interés"
      ]
    },
    {
      "cell_type": "code",
      "metadata": {
        "id": "kC8UzWfnTgSp",
        "colab_type": "code",
        "colab": {}
      },
      "source": [
        "from bs4 import BeautifulSoup"
      ],
      "execution_count": 11,
      "outputs": []
    },
    {
      "cell_type": "code",
      "metadata": {
        "id": "OFfqMpdBTl3Y",
        "colab_type": "code",
        "colab": {}
      },
      "source": [
        "soup = BeautifulSoup(eltiempo.text, 'lxml')"
      ],
      "execution_count": 12,
      "outputs": []
    },
    {
      "cell_type": "code",
      "metadata": {
        "id": "vSxwDkoHT6AC",
        "colab_type": "code",
        "colab": {
          "base_uri": "https://localhost:8080/",
          "height": 33
        },
        "outputId": "a76f2ca7-f4fd-4dc9-a79f-90c374a1552f"
      },
      "source": [
        "type(soup)"
      ],
      "execution_count": 13,
      "outputs": [
        {
          "output_type": "execute_result",
          "data": {
            "text/plain": [
              "bs4.BeautifulSoup"
            ]
          },
          "metadata": {
            "tags": []
          },
          "execution_count": 13
        }
      ]
    },
    {
      "cell_type": "code",
      "metadata": {
        "id": "bI8cXVrkT9kL",
        "colab_type": "code",
        "colab": {}
      },
      "source": [
        "# print(soup.prettify)"
      ],
      "execution_count": 35,
      "outputs": []
    },
    {
      "cell_type": "markdown",
      "metadata": {
        "id": "mu_7Gfh8ViO9",
        "colab_type": "text"
      },
      "source": [
        "### Menú principal"
      ]
    },
    {
      "cell_type": "code",
      "metadata": {
        "id": "uMA3mOsMU2Ug",
        "colab_type": "code",
        "colab": {}
      },
      "source": [
        "menu = soup.find('ul', attrs={'class':'default-menu'}).find_all('li')\n",
        "#menu"
      ],
      "execution_count": 37,
      "outputs": []
    },
    {
      "cell_type": "code",
      "metadata": {
        "id": "qaKN3X5fWNFa",
        "colab_type": "code",
        "colab": {
          "base_uri": "https://localhost:8080/",
          "height": 66
        },
        "outputId": "99516118-e175-43b5-e5dd-01c92a50198a"
      },
      "source": [
        "item_menu = menu[0]\n",
        "item_menu"
      ],
      "execution_count": 16,
      "outputs": [
        {
          "output_type": "execute_result",
          "data": {
            "text/plain": [
              "<li class=\"opinion first\" itemprop=\"name\">\n",
              "<a href=\"/opinion\" itemprop=\"url\">Opinión</a>\n",
              "</li>"
            ]
          },
          "metadata": {
            "tags": []
          },
          "execution_count": 16
        }
      ]
    },
    {
      "cell_type": "code",
      "metadata": {
        "id": "0cEviD00WUoX",
        "colab_type": "code",
        "colab": {
          "base_uri": "https://localhost:8080/",
          "height": 34
        },
        "outputId": "91e42d95-4e3d-4c09-bbc3-aaf544b3b881"
      },
      "source": [
        "# item_menu.a\n",
        "item_menu.a.get_text()"
      ],
      "execution_count": 17,
      "outputs": [
        {
          "output_type": "execute_result",
          "data": {
            "application/vnd.google.colaboratory.intrinsic+json": {
              "type": "string"
            },
            "text/plain": [
              "'Opinión'"
            ]
          },
          "metadata": {
            "tags": []
          },
          "execution_count": 17
        }
      ]
    },
    {
      "cell_type": "code",
      "metadata": {
        "id": "_Jg-2IE8Wv_f",
        "colab_type": "code",
        "colab": {
          "base_uri": "https://localhost:8080/",
          "height": 34
        },
        "outputId": "7c852bbf-f334-42fb-f8a7-ccec8013b8f1"
      },
      "source": [
        "item_menu.a.get('href')"
      ],
      "execution_count": 18,
      "outputs": [
        {
          "output_type": "execute_result",
          "data": {
            "application/vnd.google.colaboratory.intrinsic+json": {
              "type": "string"
            },
            "text/plain": [
              "'/opinion'"
            ]
          },
          "metadata": {
            "tags": []
          },
          "execution_count": 18
        }
      ]
    },
    {
      "cell_type": "code",
      "metadata": {
        "id": "lgn_zTddW0Ex",
        "colab_type": "code",
        "colab": {}
      },
      "source": [
        "links_menu = [item_menu.a.get('href') for item_menu in menu]\n",
        "# links_menu"
      ],
      "execution_count": 38,
      "outputs": []
    },
    {
      "cell_type": "code",
      "metadata": {
        "id": "1DL-JRAvXKrr",
        "colab_type": "code",
        "colab": {
          "base_uri": "https://localhost:8080/",
          "height": 33
        },
        "outputId": "5e3a85df-67f4-49f4-a94a-d3b2053ff5ec"
      },
      "source": [
        "section = requests.get( url + links_menu[0])\n",
        "section"
      ],
      "execution_count": 160,
      "outputs": [
        {
          "output_type": "execute_result",
          "data": {
            "text/plain": [
              "<Response [200]>"
            ]
          },
          "metadata": {
            "tags": []
          },
          "execution_count": 160
        }
      ]
    },
    {
      "cell_type": "code",
      "metadata": {
        "id": "QHtWqlGbX2JQ",
        "colab_type": "code",
        "colab": {}
      },
      "source": [
        "soup_section = BeautifulSoup(section.text, 'lxml')\n",
        "# soup_section.prettify()"
      ],
      "execution_count": 161,
      "outputs": []
    },
    {
      "cell_type": "code",
      "metadata": {
        "id": "rdecdS42Y4g4",
        "colab_type": "code",
        "colab": {}
      },
      "source": [
        "feature_article = soup_section.find('div', attrs={'class':'opinion-editorial-board'})\n",
        "#feature_article"
      ],
      "execution_count": 162,
      "outputs": []
    },
    {
      "cell_type": "code",
      "metadata": {
        "id": "nNB_1qXFZgia",
        "colab_type": "code",
        "colab": {
          "base_uri": "https://localhost:8080/",
          "height": 34
        },
        "outputId": "5dbfe157-18dc-4698-eb15-af5f6dee36f9"
      },
      "source": [
        "feature_article.a.get('href')"
      ],
      "execution_count": 163,
      "outputs": [
        {
          "output_type": "execute_result",
          "data": {
            "application/vnd.google.colaboratory.intrinsic+json": {
              "type": "string"
            },
            "text/plain": [
              "'/opinion/editorial'"
            ]
          },
          "metadata": {
            "tags": []
          },
          "execution_count": 163
        }
      ]
    },
    {
      "cell_type": "code",
      "metadata": {
        "id": "6mYdzyWuZn7D",
        "colab_type": "code",
        "colab": {
          "base_uri": "https://localhost:8080/",
          "height": 336
        },
        "outputId": "ecd811ec-0e0e-41ff-e735-c9d4a3a4121d"
      },
      "source": [
        "article_list = soup_section.find('div', attrs={'class':'row-author-articles'})\n",
        "article_list.find_all('a')"
      ],
      "execution_count": 164,
      "outputs": [
        {
          "output_type": "execute_result",
          "data": {
            "text/plain": [
              "[<a class=\"image page-link \" href=\"/opinion/columnistas/tomas-y-jeronimo-uribe-moreno/preso-politico-columna-de-tomas-y-jeronimo-uribe-moreno-532298\" id=\"m6683-6682-6684\" itemprop=\"image\" itemscope=\"\" itemtype=\"https://schema.org/ImageObject\"><img alt=\"Tomás y Jerónimo Uribe Moreno\" data-original=\"/files/image_80_80/uploads/2020/08/22/5f41d801a462f.jpeg\" height=\"80px\" src=\"data:image/png;base64,iVBORw0KGgoAAAANSUhEUgAAAAIAAAABCAQAAABeK7cBAAAAC0lEQVR42mNkAAIAAAoAAv/lxKUAAAAASUVORK5CYII=\" style=\" display: inline;\" width=\"80px\"/><meta content=\"80\" itemprop=\"width\"/>\n",
              " <meta content=\"80\" itemprop=\"height\"/>\n",
              " <meta content=\"https://www.eltiempo.com/files/image_80_80/uploads/2020/08/22/5f41d801a462f.jpeg\" itemprop=\"url\"/></a>,\n",
              " <a class=\"author-name page-link \" href=\"/opinion/columnistas/tomas-y-jeronimo-uribe-moreno\" id=\"m6690-1-6691\">Tomás y Jerónimo Uribe Moreno</a>,\n",
              " <a class=\"title page-link \" href=\"/opinion/columnistas/tomas-y-jeronimo-uribe-moreno/preso-politico-columna-de-tomas-y-jeronimo-uribe-moreno-532298\" id=\"m6696-2-6697\">Preso político</a>,\n",
              " <a class=\"epigraph page-link \" href=\"/opinion/columnistas/tomas-y-jeronimo-uribe-moreno/preso-politico-columna-de-tomas-y-jeronimo-uribe-moreno-532298\" id=\"m6702-3-6703\">Álvaro Uribe es una nueva víctima de esta realidad que nos quieren imponer.</a>,\n",
              " <a class=\"image page-link \" href=\"/opinion/columnistas/german-vargas-lleras/sabios-vs-populistas-columna-de-german-vargas-lleras-532238\" id=\"m6715-6714-6716\" itemprop=\"image\" itemscope=\"\" itemtype=\"https://schema.org/ImageObject\"><img alt=\"Germán Vargas Lleras\" data-original=\"/files/image_80_80/uploads/2018/01/24/5a691b4a26233.jpeg\" height=\"80px\" src=\"data:image/png;base64,iVBORw0KGgoAAAANSUhEUgAAAAIAAAABCAQAAABeK7cBAAAAC0lEQVR42mNkAAIAAAoAAv/lxKUAAAAASUVORK5CYII=\" style=\" display: inline;\" width=\"80px\"/><meta content=\"80\" itemprop=\"width\"/>\n",
              " <meta content=\"80\" itemprop=\"height\"/>\n",
              " <meta content=\"https://www.eltiempo.com/files/image_80_80/uploads/2018/01/24/5a691b4a26233.jpeg\" itemprop=\"url\"/></a>,\n",
              " <a class=\"author-name page-link \" href=\"/opinion/columnistas/german-vargas-lleras\" id=\"m6722-1-6723\">Germán Vargas Lleras</a>,\n",
              " <a class=\"title page-link \" href=\"/opinion/columnistas/german-vargas-lleras/sabios-vs-populistas-columna-de-german-vargas-lleras-532238\" id=\"m6728-2-6729\">Sabios vs. populistas</a>,\n",
              " <a class=\"epigraph page-link \" href=\"/opinion/columnistas/german-vargas-lleras/sabios-vs-populistas-columna-de-german-vargas-lleras-532238\" id=\"m6734-3-6735\">Esta comisión además de estar compuesta por expertos es ajena a los intereses sectoriales.</a>,\n",
              " <a class=\"image page-link \" href=\"/opinion/columnistas/maria-isabel-rueda/epm-patas-arriba-columna-de-maria-isabel-rueda-532288\" id=\"m6747-6746-6748\" itemprop=\"image\" itemscope=\"\" itemtype=\"https://schema.org/ImageObject\"><img alt=\"María Isabel Rueda\" data-original=\"/files/image_80_80/uploads/2018/03/13/5aa82b83711ef.jpeg\" height=\"80px\" src=\"data:image/png;base64,iVBORw0KGgoAAAANSUhEUgAAAAIAAAABCAQAAABeK7cBAAAAC0lEQVR42mNkAAIAAAoAAv/lxKUAAAAASUVORK5CYII=\" style=\" display: inline;\" width=\"80px\"/><meta content=\"80\" itemprop=\"width\"/>\n",
              " <meta content=\"80\" itemprop=\"height\"/>\n",
              " <meta content=\"https://www.eltiempo.com/files/image_80_80/uploads/2018/03/13/5aa82b83711ef.jpeg\" itemprop=\"url\"/></a>,\n",
              " <a class=\"author-name page-link \" href=\"/opinion/columnistas/maria-isabel-rueda\" id=\"m6754-1-6755\">María Isabel Rueda</a>,\n",
              " <a class=\"title page-link \" href=\"/opinion/columnistas/maria-isabel-rueda/epm-patas-arriba-columna-de-maria-isabel-rueda-532288\" id=\"m6760-2-6761\">EPM: ¡patas arriba!</a>,\n",
              " <a class=\"epigraph page-link \" href=\"/opinion/columnistas/maria-isabel-rueda/epm-patas-arriba-columna-de-maria-isabel-rueda-532288\" id=\"m6766-3-6767\">El alcalde, atortolado, ha resuelto consultar ahora sí la demanda con la nueva junta.</a>]"
            ]
          },
          "metadata": {
            "tags": []
          },
          "execution_count": 164
        }
      ]
    },
    {
      "cell_type": "markdown",
      "metadata": {
        "id": "Gzd0dWtKag9-",
        "colab_type": "text"
      },
      "source": [
        "### TODO - Escribir una función que reciba un objeto de bs y retorne el artículo principal y los secundarios"
      ]
    },
    {
      "cell_type": "code",
      "metadata": {
        "id": "n-HRiQ4ruR5v",
        "colab_type": "code",
        "colab": {}
      },
      "source": [
        "def get_articles(BSObject, f_articles_attrs='opinion-editorial-board', a_list_attrs='row-author-articles'):\n",
        "\n",
        "    # Getting promotional article\n",
        "    posts_list = []\n",
        "    feature_article = BSObject.find('div', attrs={'class':f_articles_attrs})\n",
        "    if feature_article:\n",
        "        posts_list.append(feature_article.a.get('href'))\n",
        "\n",
        "    # Getting list of articles\n",
        "    articles_list = BSObject.find('div', attrs={'class':a_list_attrs})\n",
        "    for article in article_list.find_all('a'):\n",
        "        posts_list.append(article.get('href'))\n",
        "\n",
        "    return posts_list"
      ],
      "execution_count": 165,
      "outputs": []
    },
    {
      "cell_type": "code",
      "metadata": {
        "id": "4oWXyXbYvo9n",
        "colab_type": "code",
        "colab": {
          "base_uri": "https://localhost:8080/",
          "height": 233
        },
        "outputId": "7b21afe2-ac71-4353-ce37-b17c2660870c"
      },
      "source": [
        "articulos = get_articles(soup_section)\n",
        "articulos"
      ],
      "execution_count": 166,
      "outputs": [
        {
          "output_type": "execute_result",
          "data": {
            "text/plain": [
              "['/opinion/editorial',\n",
              " '/opinion/columnistas/tomas-y-jeronimo-uribe-moreno/preso-politico-columna-de-tomas-y-jeronimo-uribe-moreno-532298',\n",
              " '/opinion/columnistas/tomas-y-jeronimo-uribe-moreno',\n",
              " '/opinion/columnistas/tomas-y-jeronimo-uribe-moreno/preso-politico-columna-de-tomas-y-jeronimo-uribe-moreno-532298',\n",
              " '/opinion/columnistas/tomas-y-jeronimo-uribe-moreno/preso-politico-columna-de-tomas-y-jeronimo-uribe-moreno-532298',\n",
              " '/opinion/columnistas/german-vargas-lleras/sabios-vs-populistas-columna-de-german-vargas-lleras-532238',\n",
              " '/opinion/columnistas/german-vargas-lleras',\n",
              " '/opinion/columnistas/german-vargas-lleras/sabios-vs-populistas-columna-de-german-vargas-lleras-532238',\n",
              " '/opinion/columnistas/german-vargas-lleras/sabios-vs-populistas-columna-de-german-vargas-lleras-532238',\n",
              " '/opinion/columnistas/maria-isabel-rueda/epm-patas-arriba-columna-de-maria-isabel-rueda-532288',\n",
              " '/opinion/columnistas/maria-isabel-rueda',\n",
              " '/opinion/columnistas/maria-isabel-rueda/epm-patas-arriba-columna-de-maria-isabel-rueda-532288',\n",
              " '/opinion/columnistas/maria-isabel-rueda/epm-patas-arriba-columna-de-maria-isabel-rueda-532288']"
            ]
          },
          "metadata": {
            "tags": []
          },
          "execution_count": 166
        }
      ]
    },
    {
      "cell_type": "code",
      "metadata": {
        "id": "P88ySO0TzNKR",
        "colab_type": "code",
        "colab": {
          "base_uri": "https://localhost:8080/",
          "height": 33
        },
        "outputId": "57b80892-5a28-4af8-ad52-66cd6e93b841"
      },
      "source": [
        "r = requests.get(url)\n",
        "r"
      ],
      "execution_count": 167,
      "outputs": [
        {
          "output_type": "execute_result",
          "data": {
            "text/plain": [
              "<Response [200]>"
            ]
          },
          "metadata": {
            "tags": []
          },
          "execution_count": 167
        }
      ]
    },
    {
      "cell_type": "code",
      "metadata": {
        "id": "slztl1etzVXF",
        "colab_type": "code",
        "colab": {}
      },
      "source": [
        "if r.status_code == 200:\n",
        "    pass\n",
        "else:\n",
        "    pass"
      ],
      "execution_count": 168,
      "outputs": []
    },
    {
      "cell_type": "code",
      "metadata": {
        "id": "ZVcT09yHzirP",
        "colab_type": "code",
        "colab": {
          "base_uri": "https://localhost:8080/",
          "height": 34
        },
        "outputId": "e7889d7d-fe06-4c0d-f821-deebce3f9367"
      },
      "source": [
        "bad_url = url.replace('e','i')\n",
        "bad_url"
      ],
      "execution_count": 169,
      "outputs": [
        {
          "output_type": "execute_result",
          "data": {
            "application/vnd.google.colaboratory.intrinsic+json": {
              "type": "string"
            },
            "text/plain": [
              "'https://iltiimpo.com'"
            ]
          },
          "metadata": {
            "tags": []
          },
          "execution_count": 169
        }
      ]
    },
    {
      "cell_type": "code",
      "metadata": {
        "id": "ERpAulkkzue9",
        "colab_type": "code",
        "colab": {
          "base_uri": "https://localhost:8080/",
          "height": 86
        },
        "outputId": "8a33751e-4e70-47a8-f381-4cfb258df3ca"
      },
      "source": [
        "try:\n",
        "    requests.get(bad_url)\n",
        "except Exception as e:\n",
        "    print('Error en la request \\n')\n",
        "    print(e)"
      ],
      "execution_count": 170,
      "outputs": [
        {
          "output_type": "stream",
          "text": [
            "Error en la request \n",
            "\n",
            "HTTPSConnectionPool(host='iltiimpo.com', port=443): Max retries exceeded with url: / (Caused by NewConnectionError('<urllib3.connection.VerifiedHTTPSConnection object at 0x7fdfde80bc50>: Failed to establish a new connection: [Errno -2] Name or service not known',))\n"
          ],
          "name": "stdout"
        }
      ]
    },
    {
      "cell_type": "markdown",
      "metadata": {
        "id": "OGo6T2dy1aQ6",
        "colab_type": "text"
      },
      "source": [
        "### Descargando contenido"
      ]
    },
    {
      "cell_type": "code",
      "metadata": {
        "id": "tDumARdn1YBG",
        "colab_type": "code",
        "colab": {
          "base_uri": "https://localhost:8080/",
          "height": 34
        },
        "outputId": "d3d2c4df-c748-403f-d5a0-1de8eda829f0"
      },
      "source": [
        "url_articulo_1 = articulos[0]\n",
        "url + url_articulo_1"
      ],
      "execution_count": 171,
      "outputs": [
        {
          "output_type": "execute_result",
          "data": {
            "application/vnd.google.colaboratory.intrinsic+json": {
              "type": "string"
            },
            "text/plain": [
              "'https://eltiempo.com/opinion/editorial'"
            ]
          },
          "metadata": {
            "tags": []
          },
          "execution_count": 171
        }
      ]
    },
    {
      "cell_type": "code",
      "metadata": {
        "id": "QhlNMKdX1-Pj",
        "colab_type": "code",
        "colab": {}
      },
      "source": [
        "import datetime\n",
        "\n",
        "def scrap_article(url_articulo):\n",
        "    try:\n",
        "        articulo = requests.get(url_articulo)\n",
        "        if articulo.status_code == 200:\n",
        "            s_articulo = BeautifulSoup(articulo.text,'lxml')\n",
        "            # Extraer Título\n",
        "            titulo = s_articulo.find('h1', attrs={'class':'title'})\n",
        "            print(titulo.text)\n",
        "            # Extraer volanta\n",
        "            volanta = s_articulo.find('p', attrs={'class':'epigraph'})\n",
        "            print(volanta.text)\n",
        "            # Extraer Fecha\n",
        "            fecha = s_articulo.find('span', attrs={'class':'fecha'})\n",
        "            print(fecha.text)\n",
        "            # Extraer Autor\n",
        "            autor = s_articulo.find('span', attrs={'class':'nombre'})\n",
        "            print(f'Por: {autor.text}')\n",
        "            # Extraer texto\n",
        "            textos = s_articulo.find_all('p', attrs={'class':'contenido'})\n",
        "            for texto in textos:\n",
        "                print(texto.text)\n",
        "    except Exception as e:\n",
        "        print('Error:')\n",
        "        print(e)\n",
        "        print('\\n')"
      ],
      "execution_count": 172,
      "outputs": []
    },
    {
      "cell_type": "code",
      "metadata": {
        "id": "BGi35NU-2-q2",
        "colab_type": "code",
        "colab": {
          "base_uri": "https://localhost:8080/",
          "height": 170
        },
        "outputId": "3875c9aa-42ca-4429-9cc3-6a1a5e2b3063"
      },
      "source": [
        "articulo_2 = str(url + articulos[1])\n",
        "scrap_article(articulo_2)"
      ],
      "execution_count": 173,
      "outputs": [
        {
          "output_type": "stream",
          "text": [
            "Preso político\n",
            "Álvaro Uribe es una nueva víctima de esta realidad que nos quieren imponer.\n",
            "\n",
            "23 de agosto 2020 , 09:10 a.m.\n",
            "\n",
            "Por: Tomás y Jerónimo Uribe Moreno\n",
            "La majestad de la justicia es la consecuencia de la majestad de jueces, y ellos no son infalibles. La psicología conductual ha probado que los jueces no son ajenos a fallar instintivamente, a racionalizar en sus providencias sus afinidades o antipatías. Sufren, como todos, de sesgos cognitivos que nublan su racionalidad. Por lo anterior, tenemos el deber de cuestionar sus decisiones. Esto no puede ser descartado como amenaza institucional. No se puede cercenar el debate tildándolo de polarización. La polarización no la generan los discursos, sino los hechos, en este caso una detención preventiva, que para revestirla de aparente sofisticación necesitó mil quinientas páginas. Solo algo inexplicable requiere tantas páginas.\n",
            "Pero esas son formas, nos preocupan los hechos. El proceso se ha filtrado sistemática y selectivamente a periodistas que llevan años creando un clima de opinión de odio hacia Uribe. Nace de unos chats de Cepeda con Monsalve, principal testigo, que no fueron aportados con idoneidad técnica y que Cepeda borró. ¿Qué supuesta víctima borra evidencia del delito que la afecta? Cepeda visitó más de 11 veces a Monsalve en la cárcel, y una fundación beneficiaria de sus aportes le giró más de 12 millones. Barceló interceptó 22.000 comunicaciones de Álvaro Uribe “por error” y, aun así, Reyes basa toda la decisión en inferencias; no pudo encontrar ninguna orden directa de un ilícito. Compulsa copias contra los testigos a favor de Uribe; ¡sin haber juzgado a Uribe, coacciona a todos los testigos a su favor!Nos duelen estos hechos porque hemos sido testigos de una trayectoria intachable. El 7 de agosto de 2002, Álvaro Uribe tomó posesión como presidente, el primero avalado por firmas ciudadanas y después de una contundente victoria en primera vuelta. Ese mismo día llovieron sobre el Palacio de Nariño pipetas bomba de las milicias urbanas de las Farc. Ocho años después, más de 50.000 guerrilleros y paramilitares se habían desmovilizado, la cúpula de las Auc estaba detenida y las Farc eran un reducto de cartel sin ninguna resonancia política.La última década, Álvaro Uribe se jugó su credibilidad advirtiendo sobre los riesgos del galopante socialismo del siglo XXI. Recordamos las miradas incrédulas de algunos que pensaban que era una simple estrategia electoral. El tiempo le ha dado la razón. Hoy, el chavismo está incólume en Venezuela y las Farc, impunes en Colombia. Siguen negando el reclutamiento y la violación sistemática de menores. Nunca entregaron información valiosa para desmantelar las fuentes de financiación de sus disidencias. No han revelado verdad absoluta sobre masacres y crímenes tan abominables como los de El Nogal, Bojayá, la familia Turbay Cote, las víctimas de la Corporación Rosa Blanca o el rapto de Emanuel, el hijo de Clara Rojas, que tanto negaron. Tampoco han dicho quiénes fueron sus adalides en la política.Álvaro Uribe es una nueva víctima de esta realidad que nos quieren imponer. “Uribe vs. las instituciones” es un planteamiento falaz sobre quien siempre ha estado del lado de la democracia. Quienes amenazan las instituciones son aquellos sentados en el Congreso sin pagar un solo día de cárcel a pesar de sus atrocidades. Desde allí, con alias Tornillo, celebran su promisorio futuro en 2022.TOMÁS Y JERÓNIMO URIBE MORENO\n"
          ],
          "name": "stdout"
        }
      ]
    },
    {
      "cell_type": "code",
      "metadata": {
        "id": "NUTGMuxjGKlI",
        "colab_type": "code",
        "colab": {
          "base_uri": "https://localhost:8080/",
          "height": 103
        },
        "outputId": "c6d131c6-b1ff-47e2-8df1-8d5725eafb55"
      },
      "source": [
        "a_3 = url + str(url + articulos[8])\n",
        "\n",
        "scrap_article(a_3)"
      ],
      "execution_count": 191,
      "outputs": [
        {
          "output_type": "stream",
          "text": [
            "Error:\n",
            "HTTPSConnectionPool(host='eltiempo.comhttps', port=443): Max retries exceeded with url: //eltiempo.com/opinion/columnistas/german-vargas-lleras/sabios-vs-populistas-columna-de-german-vargas-lleras-532238 (Caused by NewConnectionError('<urllib3.connection.VerifiedHTTPSConnection object at 0x7fdfde963dd8>: Failed to establish a new connection: [Errno -2] Name or service not known',))\n",
            "\n",
            "\n"
          ],
          "name": "stdout"
        }
      ]
    }
  ]
}