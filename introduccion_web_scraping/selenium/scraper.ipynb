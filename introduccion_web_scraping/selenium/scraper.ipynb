{
 "cells": [
  {
   "cell_type": "code",
   "execution_count": 1,
   "metadata": {
    "collapsed": true,
    "jupyter": {
     "outputs_hidden": true
    }
   },
   "outputs": [],
   "source": [
    "import requests\n",
    "from bs4 import BeautifulSoup"
   ]
  },
  {
   "cell_type": "code",
   "execution_count": 2,
   "metadata": {
    "collapsed": true,
    "jupyter": {
     "outputs_hidden": true
    }
   },
   "outputs": [],
   "source": [
    "url = 'https://www.latam.com/es_co/apps/personas/booking?fecha1_dia=31&fecha1_anomes=2020-12&auAvailability=1&ida_vuelta=ida&vuelos_origen=Bogot%C3%A1&from_city1=BOG&vuelos_destino=Ciudad%20de%20M%C3%A9xico&to_city1=MEX&flex=1&vuelos_fecha_salida_ddmmaaaa=11/09/2020&cabina=Y&nadults=2&nchildren=0&ninfants=0&cod_promo=&stopover_outbound_days=0&stopover_inbound_days=0&application=#/'"
   ]
  },
  {
   "cell_type": "code",
   "execution_count": 30,
   "metadata": {},
   "outputs": [],
   "source": [
    "# To handle 403 error\n",
    "#headers = {'User-Agent': 'Chrome/85.0.4183.83'}\n",
    "#r = requests.get(url, headers=headers)"
   ]
  },
  {
   "cell_type": "code",
   "execution_count": 31,
   "metadata": {},
   "outputs": [],
   "source": [
    "#r.status_code"
   ]
  },
  {
   "cell_type": "code",
   "execution_count": 32,
   "metadata": {},
   "outputs": [],
   "source": [
    "#s = BeautifulSoup(r.text,'lxml')"
   ]
  },
  {
   "cell_type": "code",
   "execution_count": 6,
   "metadata": {
    "collapsed": true,
    "jupyter": {
     "outputs_hidden": true
    }
   },
   "outputs": [],
   "source": [
    "# print(s.prettify())"
   ]
  },
  {
   "cell_type": "markdown",
   "metadata": {},
   "source": [
    "## Importando selenium"
   ]
  },
  {
   "cell_type": "markdown",
   "metadata": {},
   "source": [
    "# XPATH CheatSheet"
   ]
  },
  {
   "cell_type": "markdown",
   "metadata": {},
   "source": [
    "http://labs.timtom.ch/library-webscraping/extras/xpath-cheatsheet.md.pdf"
   ]
  },
  {
   "cell_type": "code",
   "execution_count": 7,
   "metadata": {
    "collapsed": true,
    "jupyter": {
     "outputs_hidden": true
    }
   },
   "outputs": [],
   "source": [
    "from selenium import webdriver"
   ]
  },
  {
   "cell_type": "markdown",
   "metadata": {},
   "source": [
    "## 1. Instanciando el driver de Chrome"
   ]
  },
  {
   "cell_type": "code",
   "execution_count": 13,
   "metadata": {
    "collapsed": true,
    "jupyter": {
     "outputs_hidden": true
    }
   },
   "outputs": [],
   "source": [
    "options = webdriver.ChromeOptions()\n",
    "options.add_argument('--incognito')\n",
    "driver = webdriver.Chrome(options=options)"
   ]
  },
  {
   "cell_type": "markdown",
   "metadata": {},
   "source": [
    "## 2. Cargar la url en el navegador"
   ]
  },
  {
   "cell_type": "code",
   "execution_count": 14,
   "metadata": {
    "collapsed": true,
    "jupyter": {
     "outputs_hidden": true
    }
   },
   "outputs": [],
   "source": [
    "driver.get(url)"
   ]
  },
  {
   "cell_type": "markdown",
   "metadata": {},
   "source": [
    "## 3. Extraer la información de la página"
   ]
  },
  {
   "cell_type": "code",
   "execution_count": 16,
   "metadata": {
    "collapsed": true,
    "jupyter": {
     "outputs_hidden": true
    }
   },
   "outputs": [
    {
     "data": {
      "text/plain": [
       "[<selenium.webdriver.remote.webelement.WebElement (session=\"0226090b050980c2fe860ab1f60d3c25\", element=\"b7d68702-93dc-45ea-a615-ab31a001855e\")>,\n",
       " <selenium.webdriver.remote.webelement.WebElement (session=\"0226090b050980c2fe860ab1f60d3c25\", element=\"3dcb7f44-27a4-4b56-852c-8f81c4ea4df0\")>,\n",
       " <selenium.webdriver.remote.webelement.WebElement (session=\"0226090b050980c2fe860ab1f60d3c25\", element=\"bd878c95-acf5-4940-8744-263e0a60d2f6\")>,\n",
       " <selenium.webdriver.remote.webelement.WebElement (session=\"0226090b050980c2fe860ab1f60d3c25\", element=\"730cce0b-d5d6-465f-bb92-03ba6bd3d0b5\")>]"
      ]
     },
     "execution_count": 16,
     "metadata": {},
     "output_type": "execute_result"
    }
   ],
   "source": [
    "vuelos = driver.find_elements_by_xpath('//li[@class=\"flight\"]')\n",
    "vuelos"
   ]
  },
  {
   "cell_type": "code",
   "execution_count": 18,
   "metadata": {
    "collapsed": true,
    "jupyter": {
     "outputs_hidden": true
    }
   },
   "outputs": [
    {
     "data": {
      "text/plain": [
       "<selenium.webdriver.remote.webelement.WebElement (session=\"0226090b050980c2fe860ab1f60d3c25\", element=\"b7d68702-93dc-45ea-a615-ab31a001855e\")>"
      ]
     },
     "execution_count": 18,
     "metadata": {},
     "output_type": "execute_result"
    }
   ],
   "source": [
    "vuelo = vuelos[0]\n",
    "vuelo"
   ]
  },
  {
   "cell_type": "markdown",
   "metadata": {},
   "source": [
    "### Hora de salida primer vuelo de la lista"
   ]
  },
  {
   "cell_type": "code",
   "execution_count": 20,
   "metadata": {
    "collapsed": true,
    "jupyter": {
     "outputs_hidden": true
    }
   },
   "outputs": [
    {
     "data": {
      "text/plain": [
       "'18:22'"
      ]
     },
     "execution_count": 20,
     "metadata": {},
     "output_type": "execute_result"
    }
   ],
   "source": [
    "vuelo.find_element_by_xpath('.//div[@class=\"departure\"]/time').get_attribute('datetime')"
   ]
  },
  {
   "cell_type": "markdown",
   "metadata": {},
   "source": [
    "### >>> Reto: \n",
    "\n",
    "Colocar la hora de llegada y la duración del vuelo"
   ]
  },
  {
   "cell_type": "markdown",
   "metadata": {},
   "source": [
    "### Hora de llegada primer vuelo"
   ]
  },
  {
   "cell_type": "code",
   "execution_count": 21,
   "metadata": {
    "collapsed": true,
    "jupyter": {
     "outputs_hidden": true
    }
   },
   "outputs": [
    {
     "data": {
      "text/plain": [
       "'14:35'"
      ]
     },
     "execution_count": 21,
     "metadata": {},
     "output_type": "execute_result"
    }
   ],
   "source": [
    "vuelo.find_element_by_xpath('.//div[@class=\"arrival\"]/time').get_attribute('datetime')"
   ]
  },
  {
   "cell_type": "markdown",
   "metadata": {},
   "source": [
    "### Duración del vuelo"
   ]
  },
  {
   "cell_type": "code",
   "execution_count": 40,
   "metadata": {},
   "outputs": [
    {
     "data": {
      "text/plain": [
       "'PT21H13M'"
      ]
     },
     "execution_count": 40,
     "metadata": {},
     "output_type": "execute_result"
    }
   ],
   "source": [
    "vuelo.find_element_by_xpath('.//span[@class=\"duration\"]/time').get_attribute('datetime')"
   ]
  },
  {
   "cell_type": "code",
   "execution_count": 41,
   "metadata": {},
   "outputs": [],
   "source": [
    "boton_escalas = vuelo.find_element_by_xpath('.//div[@class=\"flight-summary-stops-description\"]/button')\n",
    "# Abrir el botón\n",
    "boton_escalas.click()"
   ]
  },
  {
   "cell_type": "code",
   "execution_count": 43,
   "metadata": {},
   "outputs": [
    {
     "data": {
      "text/plain": [
       "[<selenium.webdriver.remote.webelement.WebElement (session=\"0226090b050980c2fe860ab1f60d3c25\", element=\"5f31e8e6-fc86-48f3-aaf6-b0597a1650ee\")>,\n",
       " <selenium.webdriver.remote.webelement.WebElement (session=\"0226090b050980c2fe860ab1f60d3c25\", element=\"696990a5-9d3a-4978-8e33-c04007165748\")>]"
      ]
     },
     "execution_count": 43,
     "metadata": {},
     "output_type": "execute_result"
    }
   ],
   "source": [
    "segmentos = vuelo.find_elements_by_xpath('//div[@class=\"sc-hZSUBg gfeULV\"]/div[@class=\"sc-cLQEGU hyoued\"]')\n",
    "segmentos"
   ]
  },
  {
   "cell_type": "code",
   "execution_count": 45,
   "metadata": {},
   "outputs": [
    {
     "data": {
      "text/plain": [
       "1"
      ]
     },
     "execution_count": 45,
     "metadata": {},
     "output_type": "execute_result"
    }
   ],
   "source": [
    "escalas = len(segmentos) - 1\n",
    "escalas"
   ]
  },
  {
   "cell_type": "code",
   "execution_count": 46,
   "metadata": {},
   "outputs": [],
   "source": [
    "segmento = segmentos[0]"
   ]
  },
  {
   "cell_type": "code",
   "execution_count": 50,
   "metadata": {},
   "outputs": [
    {
     "data": {
      "text/plain": [
       "'El Dorado Intl.'"
      ]
     },
     "execution_count": 50,
     "metadata": {},
     "output_type": "execute_result"
    }
   ],
   "source": [
    "# Aeropuerto\n",
    "segmento.find_element_by_xpath('.//span[@class=\"sc-eTuwsz eumCTU\"]/span[@class=\"sc-hXRMBi gVvErD\"]').text"
   ]
  },
  {
   "cell_type": "code",
   "execution_count": 53,
   "metadata": {},
   "outputs": [
    {
     "data": {
      "text/plain": [
       "'18:22'"
      ]
     },
     "execution_count": 53,
     "metadata": {},
     "output_type": "execute_result"
    }
   ],
   "source": [
    "# Hora de salida del primer vuelo\n",
    "segmento.find_element_by_xpath('.//div[@class=\"sc-bwCtUz iybVbT\"]/time').get_attribute('datetime')"
   ]
  },
  {
   "cell_type": "markdown",
   "metadata": {},
   "source": [
    "---"
   ]
  },
  {
   "cell_type": "markdown",
   "metadata": {},
   "source": [
    "### >>> Reto: \n",
    "\n",
    "1. Destino de cada escala\n",
    "2. Hora de llegada de cada escala\n",
    "3. Duración de cada vuelo\n",
    "4. Duración de la escala\n",
    "5. Número de vuelo\n",
    "6. Modelo del avión"
   ]
  },
  {
   "cell_type": "code",
   "execution_count": 71,
   "metadata": {},
   "outputs": [
    {
     "name": "stdout",
     "output_type": "stream",
     "text": [
      ">>> Destinos de cada escala:\n"
     ]
    },
    {
     "data": {
      "text/plain": [
       "['BOG', 'LIM', 'LIM', 'MEX']"
      ]
     },
     "execution_count": 71,
     "metadata": {},
     "output_type": "execute_result"
    }
   ],
   "source": [
    "destinos = segmento.find_elements_by_xpath('//div[@class=\"sc-bwCtUz iybVbT\"]/abbr')\n",
    "print('>>> Destinos de cada escala:')\n",
    "[destino.text for destino in destinos]"
   ]
  },
  {
   "cell_type": "code",
   "execution_count": 128,
   "metadata": {},
   "outputs": [
    {
     "name": "stdout",
     "output_type": "stream",
     "text": [
      ">>> Hora llegada por cada escala:\n"
     ]
    },
    {
     "data": {
      "text/plain": [
       "'09:25'"
      ]
     },
     "execution_count": 128,
     "metadata": {},
     "output_type": "execute_result"
    }
   ],
   "source": [
    "horas_llegada_por_escala = segmento.find_elements_by_xpath('//div[@class=\"sc-bwCtUz iybVbT\"]/time')\n",
    "print('>>> Hora llegada por cada escala:')\n",
    "[hora.get_attribute('datetime') for hora in horas_llegada_por_escala][2]"
   ]
  },
  {
   "cell_type": "code",
   "execution_count": 142,
   "metadata": {},
   "outputs": [
    {
     "name": "stdout",
     "output_type": "stream",
     "text": [
      ">>> Duracion por vuelo:\n"
     ]
    },
    {
     "data": {
      "text/plain": [
       "['3:3', '6:10']"
      ]
     },
     "execution_count": 142,
     "metadata": {},
     "output_type": "execute_result"
    }
   ],
   "source": [
    "duracion_por_vuelo = segmento.find_elements_by_xpath('//span[@class=\"sc-esjQYD dMquDU\"]/time')\n",
    "print('>>> Duracion por vuelo:')\n",
    "duraciones = [duracion.get_attribute('datetime') for duracion in duracion_por_vuelo]\n",
    "duraciones_vuelos = [duraciones[0] , duraciones[-1]]\n",
    "duraciones_vuelos"
   ]
  },
  {
   "cell_type": "code",
   "execution_count": 143,
   "metadata": {},
   "outputs": [
    {
     "name": "stdout",
     "output_type": "stream",
     "text": [
      ">>> Duracion por escala:\n"
     ]
    },
    {
     "data": {
      "text/plain": [
       "'12:0'"
      ]
     },
     "execution_count": 143,
     "metadata": {},
     "output_type": "execute_result"
    }
   ],
   "source": [
    "duracion_escalas = segmento.find_elements_by_xpath('//span[@class=\"sc-esjQYD dMquDU\"]/time')\n",
    "print('>>> Duracion por escala:')\n",
    "[duracion.get_attribute('datetime') for duracion in duracion_escalas][1]"
   ]
  },
  {
   "cell_type": "code",
   "execution_count": 144,
   "metadata": {},
   "outputs": [
    {
     "name": "stdout",
     "output_type": "stream",
     "text": [
      ">>> Número de vuelo:\n"
     ]
    },
    {
     "data": {
      "text/plain": [
       "['LA2447', 'LA2472']"
      ]
     },
     "execution_count": 144,
     "metadata": {},
     "output_type": "execute_result"
    }
   ],
   "source": [
    "numeros_vuelos = segmento.find_elements_by_xpath('//div[@class=\"airline-flight-details\"]/b')\n",
    "print('>>> Número de vuelo:')\n",
    "[numero_vuelo.text for numero_vuelo in numeros_vuelos]"
   ]
  },
  {
   "cell_type": "code",
   "execution_count": 147,
   "metadata": {},
   "outputs": [
    {
     "name": "stdout",
     "output_type": "stream",
     "text": [
      ">>> Modelo Aviones:\n"
     ]
    },
    {
     "data": {
      "text/plain": [
       "['Airbus 320-200', 'Boeing 767-300']"
      ]
     },
     "execution_count": 147,
     "metadata": {},
     "output_type": "execute_result"
    }
   ],
   "source": [
    "modelo_aviones = segmento.find_elements_by_xpath('//div[@class=\"airline-flight-details\"]/span[@class=\"sc-gzOgki uTyOl\"]')\n",
    "print('>>> Modelo Aviones:')\n",
    "[modelo_avion.text for modelo_avion in modelo_aviones]"
   ]
  },
  {
   "cell_type": "markdown",
   "metadata": {},
   "source": [
    "### Cerrar el modal"
   ]
  },
  {
   "cell_type": "code",
   "execution_count": 150,
   "metadata": {},
   "outputs": [],
   "source": [
    "driver.find_element_by_xpath('//div[@class=\"modal-content sc-iwsKbI eHVGAN\"]//button[@class=\"close\"]').click()"
   ]
  },
  {
   "cell_type": "markdown",
   "metadata": {},
   "source": [
    "### Abrir precios"
   ]
  },
  {
   "cell_type": "code",
   "execution_count": 152,
   "metadata": {},
   "outputs": [],
   "source": [
    "vuelo.click()"
   ]
  },
  {
   "cell_type": "code",
   "execution_count": 154,
   "metadata": {},
   "outputs": [],
   "source": [
    "tarifas = vuelo.find_elements_by_xpath('.//div[@class=\"fares-table-container\"]//tfoot//td[contains(@class,\"fare-\")]')"
   ]
  },
  {
   "cell_type": "markdown",
   "metadata": {},
   "source": [
    "---"
   ]
  },
  {
   "cell_type": "markdown",
   "metadata": {},
   "source": [
    "\n",
    "\n",
    "### >>> Reto\n",
    "\n",
    "1. Extraer el símbolo de la moneda\n",
    "2. Extraer el precio de cada categoría"
   ]
  },
  {
   "cell_type": "code",
   "execution_count": 163,
   "metadata": {},
   "outputs": [
    {
     "data": {
      "text/plain": [
       "['$', '$', '$']"
      ]
     },
     "execution_count": 163,
     "metadata": {},
     "output_type": "execute_result"
    }
   ],
   "source": [
    "moneda = [\n",
    "    tarifa.find_element_by_xpath('.//span[@class=\"price\"]/span[@class=\"currency-symbol\"]').text\n",
    "    for tarifa in tarifas]\n",
    "moneda"
   ]
  },
  {
   "cell_type": "code",
   "execution_count": 162,
   "metadata": {},
   "outputs": [
    {
     "data": {
      "text/plain": [
       "['1.592.820', '1.903.940', '2.090.630']"
      ]
     },
     "execution_count": 162,
     "metadata": {},
     "output_type": "execute_result"
    }
   ],
   "source": [
    "precios = [tarifa.find_element_by_xpath('.//span[@class=\"price\"]/span[@class=\"value\"]').text for tarifa in tarifas]\n",
    "precios"
   ]
  },
  {
   "cell_type": "markdown",
   "metadata": {},
   "source": [
    "## 4. Cerrar el navegador"
   ]
  },
  {
   "cell_type": "code",
   "execution_count": 165,
   "metadata": {},
   "outputs": [],
   "source": [
    "#driver.close()"
   ]
  }
 ],
 "metadata": {
  "kernelspec": {
   "display_name": "Python 3",
   "language": "python",
   "name": "python3"
  },
  "language_info": {
   "codemirror_mode": {
    "name": "ipython",
    "version": 3
   },
   "file_extension": ".py",
   "mimetype": "text/x-python",
   "name": "python",
   "nbconvert_exporter": "python",
   "pygments_lexer": "ipython3",
   "version": "3.8.2"
  }
 },
 "nbformat": 4,
 "nbformat_minor": 4
}
