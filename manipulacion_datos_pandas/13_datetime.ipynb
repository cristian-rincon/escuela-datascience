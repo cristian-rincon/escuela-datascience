{
  "nbformat": 4,
  "nbformat_minor": 0,
  "metadata": {
    "colab": {
      "name": "13_datetime.ipynb",
      "provenance": [],
      "collapsed_sections": [],
      "authorship_tag": "ABX9TyPZC4VJEbOpxZoI73KsAW/c",
      "include_colab_link": true
    },
    "kernelspec": {
      "name": "python3",
      "display_name": "Python 3"
    }
  },
  "cells": [
    {
      "cell_type": "markdown",
      "metadata": {
        "id": "view-in-github",
        "colab_type": "text"
      },
      "source": [
        "<a href=\"https://colab.research.google.com/github/cristian-rincon/escuela-datascience/blob/master/manipulacion_datos_pandas/13_datetime.ipynb\" target=\"_parent\"><img src=\"https://colab.research.google.com/assets/colab-badge.svg\" alt=\"Open In Colab\"/></a>"
      ]
    },
    {
      "cell_type": "code",
      "metadata": {
        "id": "bX17MeISOqlc",
        "colab_type": "code",
        "colab": {
          "base_uri": "https://localhost:8080/",
          "height": 122
        },
        "outputId": "7bb00f02-d972-43fa-ab04-899129395eb0"
      },
      "source": [
        "from google.colab import drive\n",
        "drive.mount('/content/drive/')"
      ],
      "execution_count": 2,
      "outputs": [
        {
          "output_type": "stream",
          "text": [
            "Go to this URL in a browser: https://accounts.google.com/o/oauth2/auth?client_id=947318989803-6bn6qk8qdgf4n4g3pfee6491hc0brc4i.apps.googleusercontent.com&redirect_uri=urn%3aietf%3awg%3aoauth%3a2.0%3aoob&scope=email%20https%3a%2f%2fwww.googleapis.com%2fauth%2fdocs.test%20https%3a%2f%2fwww.googleapis.com%2fauth%2fdrive%20https%3a%2f%2fwww.googleapis.com%2fauth%2fdrive.photos.readonly%20https%3a%2f%2fwww.googleapis.com%2fauth%2fpeopleapi.readonly&response_type=code\n",
            "\n",
            "Enter your authorization code:\n",
            "··········\n",
            "Mounted at /content/drive/\n"
          ],
          "name": "stdout"
        }
      ]
    },
    {
      "cell_type": "code",
      "metadata": {
        "id": "KE8imzeCO85U",
        "colab_type": "code",
        "colab": {
          "base_uri": "https://localhost:8080/",
          "height": 102
        },
        "outputId": "9460f54f-aa38-4666-9aeb-4348ca9e201f"
      },
      "source": [
        "%cd '/content/drive/My Drive/Colab Notebooks/db'\n",
        "!ls"
      ],
      "execution_count": 3,
      "outputs": [
        {
          "output_type": "stream",
          "text": [
            "/content/drive/My Drive/Colab Notebooks/db\n",
            "API_SP.POP.TOTL_DS2_en_csv_v2_1308146  poblacion.csv  test.parquet\n",
            "covid_19_data.csv\t\t       test.csv       test.pkl\n",
            "dataset_london_bikeshare.csv\t       test.hdf       test.xlsx\n",
            "Meteorite_Landings.csv\t\t       test.json\n"
          ],
          "name": "stdout"
        }
      ]
    },
    {
      "cell_type": "code",
      "metadata": {
        "id": "8F0QCY73PHTO",
        "colab_type": "code",
        "colab": {
          "base_uri": "https://localhost:8080/",
          "height": 35
        },
        "outputId": "ae480846-91e4-4c84-ae0e-b86c23ea06df"
      },
      "source": [
        "import pandas as pd\n",
        "pd.__version__"
      ],
      "execution_count": 4,
      "outputs": [
        {
          "output_type": "execute_result",
          "data": {
            "application/vnd.google.colaboratory.intrinsic+json": {
              "type": "string"
            },
            "text/plain": [
              "'1.0.5'"
            ]
          },
          "metadata": {
            "tags": []
          },
          "execution_count": 4
        }
      ]
    },
    {
      "cell_type": "code",
      "metadata": {
        "id": "Fah1qv_uPME_",
        "colab_type": "code",
        "colab": {
          "base_uri": "https://localhost:8080/",
          "height": 153
        },
        "outputId": "d5d1c410-e655-493e-de07-f85d1f8f1af4"
      },
      "source": [
        "df = pd.read_csv('covid_19_data.csv')\n",
        "df.sample(10)\n",
        "df['ObservationDate'] = pd.to_datetime(df['ObservationDate'])\n",
        "list(df)"
      ],
      "execution_count": 5,
      "outputs": [
        {
          "output_type": "execute_result",
          "data": {
            "text/plain": [
              "['SNo',\n",
              " 'ObservationDate',\n",
              " 'Province/State',\n",
              " 'Country/Region',\n",
              " 'Last Update',\n",
              " 'Confirmed',\n",
              " 'Deaths',\n",
              " 'Recovered']"
            ]
          },
          "metadata": {
            "tags": []
          },
          "execution_count": 5
        }
      ]
    },
    {
      "cell_type": "code",
      "metadata": {
        "id": "hFMfPeq1PjWv",
        "colab_type": "code",
        "colab": {
          "base_uri": "https://localhost:8080/",
          "height": 419
        },
        "outputId": "a82f3972-60bb-4649-e9d8-b1f1d68e6b82"
      },
      "source": [
        "df = df[[\n",
        " 'ObservationDate',\n",
        " 'Country/Region',\n",
        " 'Confirmed',\n",
        " 'Deaths',\n",
        " 'Recovered']]\n",
        "\n",
        "df"
      ],
      "execution_count": 6,
      "outputs": [
        {
          "output_type": "execute_result",
          "data": {
            "text/html": [
              "<div>\n",
              "<style scoped>\n",
              "    .dataframe tbody tr th:only-of-type {\n",
              "        vertical-align: middle;\n",
              "    }\n",
              "\n",
              "    .dataframe tbody tr th {\n",
              "        vertical-align: top;\n",
              "    }\n",
              "\n",
              "    .dataframe thead th {\n",
              "        text-align: right;\n",
              "    }\n",
              "</style>\n",
              "<table border=\"1\" class=\"dataframe\">\n",
              "  <thead>\n",
              "    <tr style=\"text-align: right;\">\n",
              "      <th></th>\n",
              "      <th>ObservationDate</th>\n",
              "      <th>Country/Region</th>\n",
              "      <th>Confirmed</th>\n",
              "      <th>Deaths</th>\n",
              "      <th>Recovered</th>\n",
              "    </tr>\n",
              "  </thead>\n",
              "  <tbody>\n",
              "    <tr>\n",
              "      <th>0</th>\n",
              "      <td>2020-01-22</td>\n",
              "      <td>Mainland China</td>\n",
              "      <td>1.0</td>\n",
              "      <td>0.0</td>\n",
              "      <td>0.0</td>\n",
              "    </tr>\n",
              "    <tr>\n",
              "      <th>1</th>\n",
              "      <td>2020-01-22</td>\n",
              "      <td>Mainland China</td>\n",
              "      <td>14.0</td>\n",
              "      <td>0.0</td>\n",
              "      <td>0.0</td>\n",
              "    </tr>\n",
              "    <tr>\n",
              "      <th>2</th>\n",
              "      <td>2020-01-22</td>\n",
              "      <td>Mainland China</td>\n",
              "      <td>6.0</td>\n",
              "      <td>0.0</td>\n",
              "      <td>0.0</td>\n",
              "    </tr>\n",
              "    <tr>\n",
              "      <th>3</th>\n",
              "      <td>2020-01-22</td>\n",
              "      <td>Mainland China</td>\n",
              "      <td>1.0</td>\n",
              "      <td>0.0</td>\n",
              "      <td>0.0</td>\n",
              "    </tr>\n",
              "    <tr>\n",
              "      <th>4</th>\n",
              "      <td>2020-01-22</td>\n",
              "      <td>Mainland China</td>\n",
              "      <td>0.0</td>\n",
              "      <td>0.0</td>\n",
              "      <td>0.0</td>\n",
              "    </tr>\n",
              "    <tr>\n",
              "      <th>...</th>\n",
              "      <td>...</td>\n",
              "      <td>...</td>\n",
              "      <td>...</td>\n",
              "      <td>...</td>\n",
              "      <td>...</td>\n",
              "    </tr>\n",
              "    <tr>\n",
              "      <th>83406</th>\n",
              "      <td>2020-08-09</td>\n",
              "      <td>Ukraine</td>\n",
              "      <td>937.0</td>\n",
              "      <td>22.0</td>\n",
              "      <td>652.0</td>\n",
              "    </tr>\n",
              "    <tr>\n",
              "      <th>83407</th>\n",
              "      <td>2020-08-09</td>\n",
              "      <td>Netherlands</td>\n",
              "      <td>918.0</td>\n",
              "      <td>69.0</td>\n",
              "      <td>0.0</td>\n",
              "    </tr>\n",
              "    <tr>\n",
              "      <th>83408</th>\n",
              "      <td>2020-08-09</td>\n",
              "      <td>Mainland China</td>\n",
              "      <td>1273.0</td>\n",
              "      <td>1.0</td>\n",
              "      <td>1268.0</td>\n",
              "    </tr>\n",
              "    <tr>\n",
              "      <th>83409</th>\n",
              "      <td>2020-08-09</td>\n",
              "      <td>Ukraine</td>\n",
              "      <td>2131.0</td>\n",
              "      <td>41.0</td>\n",
              "      <td>1524.0</td>\n",
              "    </tr>\n",
              "    <tr>\n",
              "      <th>83410</th>\n",
              "      <td>2020-08-09</td>\n",
              "      <td>Netherlands</td>\n",
              "      <td>14931.0</td>\n",
              "      <td>1312.0</td>\n",
              "      <td>0.0</td>\n",
              "    </tr>\n",
              "  </tbody>\n",
              "</table>\n",
              "<p>83411 rows × 5 columns</p>\n",
              "</div>"
            ],
            "text/plain": [
              "      ObservationDate  Country/Region  Confirmed  Deaths  Recovered\n",
              "0          2020-01-22  Mainland China        1.0     0.0        0.0\n",
              "1          2020-01-22  Mainland China       14.0     0.0        0.0\n",
              "2          2020-01-22  Mainland China        6.0     0.0        0.0\n",
              "3          2020-01-22  Mainland China        1.0     0.0        0.0\n",
              "4          2020-01-22  Mainland China        0.0     0.0        0.0\n",
              "...               ...             ...        ...     ...        ...\n",
              "83406      2020-08-09         Ukraine      937.0    22.0      652.0\n",
              "83407      2020-08-09     Netherlands      918.0    69.0        0.0\n",
              "83408      2020-08-09  Mainland China     1273.0     1.0     1268.0\n",
              "83409      2020-08-09         Ukraine     2131.0    41.0     1524.0\n",
              "83410      2020-08-09     Netherlands    14931.0  1312.0        0.0\n",
              "\n",
              "[83411 rows x 5 columns]"
            ]
          },
          "metadata": {
            "tags": []
          },
          "execution_count": 6
        }
      ]
    },
    {
      "cell_type": "code",
      "metadata": {
        "id": "V6w9i_mRP2hD",
        "colab_type": "code",
        "colab": {
          "base_uri": "https://localhost:8080/",
          "height": 235
        },
        "outputId": "21d9aa68-b63d-4713-95f5-387d61a72be4"
      },
      "source": [
        "df_time = df.groupby('ObservationDate').sum()\n",
        "df_time.head(5)"
      ],
      "execution_count": 7,
      "outputs": [
        {
          "output_type": "execute_result",
          "data": {
            "text/html": [
              "<div>\n",
              "<style scoped>\n",
              "    .dataframe tbody tr th:only-of-type {\n",
              "        vertical-align: middle;\n",
              "    }\n",
              "\n",
              "    .dataframe tbody tr th {\n",
              "        vertical-align: top;\n",
              "    }\n",
              "\n",
              "    .dataframe thead th {\n",
              "        text-align: right;\n",
              "    }\n",
              "</style>\n",
              "<table border=\"1\" class=\"dataframe\">\n",
              "  <thead>\n",
              "    <tr style=\"text-align: right;\">\n",
              "      <th></th>\n",
              "      <th>Confirmed</th>\n",
              "      <th>Deaths</th>\n",
              "      <th>Recovered</th>\n",
              "    </tr>\n",
              "    <tr>\n",
              "      <th>ObservationDate</th>\n",
              "      <th></th>\n",
              "      <th></th>\n",
              "      <th></th>\n",
              "    </tr>\n",
              "  </thead>\n",
              "  <tbody>\n",
              "    <tr>\n",
              "      <th>2020-01-22</th>\n",
              "      <td>555.0</td>\n",
              "      <td>17.0</td>\n",
              "      <td>28.0</td>\n",
              "    </tr>\n",
              "    <tr>\n",
              "      <th>2020-01-23</th>\n",
              "      <td>653.0</td>\n",
              "      <td>18.0</td>\n",
              "      <td>30.0</td>\n",
              "    </tr>\n",
              "    <tr>\n",
              "      <th>2020-01-24</th>\n",
              "      <td>941.0</td>\n",
              "      <td>26.0</td>\n",
              "      <td>36.0</td>\n",
              "    </tr>\n",
              "    <tr>\n",
              "      <th>2020-01-25</th>\n",
              "      <td>1438.0</td>\n",
              "      <td>42.0</td>\n",
              "      <td>39.0</td>\n",
              "    </tr>\n",
              "    <tr>\n",
              "      <th>2020-01-26</th>\n",
              "      <td>2118.0</td>\n",
              "      <td>56.0</td>\n",
              "      <td>52.0</td>\n",
              "    </tr>\n",
              "  </tbody>\n",
              "</table>\n",
              "</div>"
            ],
            "text/plain": [
              "                 Confirmed  Deaths  Recovered\n",
              "ObservationDate                              \n",
              "2020-01-22           555.0    17.0       28.0\n",
              "2020-01-23           653.0    18.0       30.0\n",
              "2020-01-24           941.0    26.0       36.0\n",
              "2020-01-25          1438.0    42.0       39.0\n",
              "2020-01-26          2118.0    56.0       52.0"
            ]
          },
          "metadata": {
            "tags": []
          },
          "execution_count": 7
        }
      ]
    },
    {
      "cell_type": "code",
      "metadata": {
        "id": "vg9M6Sv2QO7R",
        "colab_type": "code",
        "colab": {
          "base_uri": "https://localhost:8080/",
          "height": 136
        },
        "outputId": "b285f03c-5d56-46de-e3ae-dbec1db1c7ff"
      },
      "source": [
        "df1 = df_time['Confirmed'].iloc[10:15]\n",
        "df1"
      ],
      "execution_count": 8,
      "outputs": [
        {
          "output_type": "execute_result",
          "data": {
            "text/plain": [
              "ObservationDate\n",
              "2020-02-01    12038.0\n",
              "2020-02-02    16787.0\n",
              "2020-02-03    19881.0\n",
              "2020-02-04    23892.0\n",
              "2020-02-05    27636.0\n",
              "Name: Confirmed, dtype: float64"
            ]
          },
          "metadata": {
            "tags": []
          },
          "execution_count": 8
        }
      ]
    },
    {
      "cell_type": "code",
      "metadata": {
        "id": "2FfH089NQU4i",
        "colab_type": "code",
        "colab": {
          "base_uri": "https://localhost:8080/",
          "height": 136
        },
        "outputId": "dc0e0ca8-66a0-4a66-8d0f-d47c113f9ec7"
      },
      "source": [
        "df2 = df_time['Deaths'].iloc[12:17]\n",
        "df2"
      ],
      "execution_count": 9,
      "outputs": [
        {
          "output_type": "execute_result",
          "data": {
            "text/plain": [
              "ObservationDate\n",
              "2020-02-03    426.0\n",
              "2020-02-04    492.0\n",
              "2020-02-05    564.0\n",
              "2020-02-06    634.0\n",
              "2020-02-07    719.0\n",
              "Name: Deaths, dtype: float64"
            ]
          },
          "metadata": {
            "tags": []
          },
          "execution_count": 9
        }
      ]
    },
    {
      "cell_type": "code",
      "metadata": {
        "id": "q9ttmAlXQpTh",
        "colab_type": "code",
        "colab": {
          "base_uri": "https://localhost:8080/",
          "height": 170
        },
        "outputId": "a4d98501-8b36-49b3-9f13-dbebde5ca5af"
      },
      "source": [
        "df1 - df2"
      ],
      "execution_count": 10,
      "outputs": [
        {
          "output_type": "execute_result",
          "data": {
            "text/plain": [
              "ObservationDate\n",
              "2020-02-01        NaN\n",
              "2020-02-02        NaN\n",
              "2020-02-03    19455.0\n",
              "2020-02-04    23400.0\n",
              "2020-02-05    27072.0\n",
              "2020-02-06        NaN\n",
              "2020-02-07        NaN\n",
              "dtype: float64"
            ]
          },
          "metadata": {
            "tags": []
          },
          "execution_count": 10
        }
      ]
    },
    {
      "cell_type": "code",
      "metadata": {
        "id": "WPG5l_zDRG_F",
        "colab_type": "code",
        "colab": {
          "base_uri": "https://localhost:8080/",
          "height": 450
        },
        "outputId": "fe8d5a9e-8888-4064-a0b7-d217cc79d1a6"
      },
      "source": [
        "df_time"
      ],
      "execution_count": 11,
      "outputs": [
        {
          "output_type": "execute_result",
          "data": {
            "text/html": [
              "<div>\n",
              "<style scoped>\n",
              "    .dataframe tbody tr th:only-of-type {\n",
              "        vertical-align: middle;\n",
              "    }\n",
              "\n",
              "    .dataframe tbody tr th {\n",
              "        vertical-align: top;\n",
              "    }\n",
              "\n",
              "    .dataframe thead th {\n",
              "        text-align: right;\n",
              "    }\n",
              "</style>\n",
              "<table border=\"1\" class=\"dataframe\">\n",
              "  <thead>\n",
              "    <tr style=\"text-align: right;\">\n",
              "      <th></th>\n",
              "      <th>Confirmed</th>\n",
              "      <th>Deaths</th>\n",
              "      <th>Recovered</th>\n",
              "    </tr>\n",
              "    <tr>\n",
              "      <th>ObservationDate</th>\n",
              "      <th></th>\n",
              "      <th></th>\n",
              "      <th></th>\n",
              "    </tr>\n",
              "  </thead>\n",
              "  <tbody>\n",
              "    <tr>\n",
              "      <th>2020-01-22</th>\n",
              "      <td>555.0</td>\n",
              "      <td>17.0</td>\n",
              "      <td>28.0</td>\n",
              "    </tr>\n",
              "    <tr>\n",
              "      <th>2020-01-23</th>\n",
              "      <td>653.0</td>\n",
              "      <td>18.0</td>\n",
              "      <td>30.0</td>\n",
              "    </tr>\n",
              "    <tr>\n",
              "      <th>2020-01-24</th>\n",
              "      <td>941.0</td>\n",
              "      <td>26.0</td>\n",
              "      <td>36.0</td>\n",
              "    </tr>\n",
              "    <tr>\n",
              "      <th>2020-01-25</th>\n",
              "      <td>1438.0</td>\n",
              "      <td>42.0</td>\n",
              "      <td>39.0</td>\n",
              "    </tr>\n",
              "    <tr>\n",
              "      <th>2020-01-26</th>\n",
              "      <td>2118.0</td>\n",
              "      <td>56.0</td>\n",
              "      <td>52.0</td>\n",
              "    </tr>\n",
              "    <tr>\n",
              "      <th>...</th>\n",
              "      <td>...</td>\n",
              "      <td>...</td>\n",
              "      <td>...</td>\n",
              "    </tr>\n",
              "    <tr>\n",
              "      <th>2020-08-05</th>\n",
              "      <td>18811953.0</td>\n",
              "      <td>707820.0</td>\n",
              "      <td>11356275.0</td>\n",
              "    </tr>\n",
              "    <tr>\n",
              "      <th>2020-08-06</th>\n",
              "      <td>19097149.0</td>\n",
              "      <td>714940.0</td>\n",
              "      <td>11545401.0</td>\n",
              "    </tr>\n",
              "    <tr>\n",
              "      <th>2020-08-07</th>\n",
              "      <td>19378036.0</td>\n",
              "      <td>721324.0</td>\n",
              "      <td>11737927.0</td>\n",
              "    </tr>\n",
              "    <tr>\n",
              "      <th>2020-08-08</th>\n",
              "      <td>19637506.0</td>\n",
              "      <td>726781.0</td>\n",
              "      <td>11939109.0</td>\n",
              "    </tr>\n",
              "    <tr>\n",
              "      <th>2020-08-09</th>\n",
              "      <td>19861683.0</td>\n",
              "      <td>731326.0</td>\n",
              "      <td>12115825.0</td>\n",
              "    </tr>\n",
              "  </tbody>\n",
              "</table>\n",
              "<p>201 rows × 3 columns</p>\n",
              "</div>"
            ],
            "text/plain": [
              "                  Confirmed    Deaths   Recovered\n",
              "ObservationDate                                  \n",
              "2020-01-22            555.0      17.0        28.0\n",
              "2020-01-23            653.0      18.0        30.0\n",
              "2020-01-24            941.0      26.0        36.0\n",
              "2020-01-25           1438.0      42.0        39.0\n",
              "2020-01-26           2118.0      56.0        52.0\n",
              "...                     ...       ...         ...\n",
              "2020-08-05       18811953.0  707820.0  11356275.0\n",
              "2020-08-06       19097149.0  714940.0  11545401.0\n",
              "2020-08-07       19378036.0  721324.0  11737927.0\n",
              "2020-08-08       19637506.0  726781.0  11939109.0\n",
              "2020-08-09       19861683.0  731326.0  12115825.0\n",
              "\n",
              "[201 rows x 3 columns]"
            ]
          },
          "metadata": {
            "tags": []
          },
          "execution_count": 11
        }
      ]
    },
    {
      "cell_type": "code",
      "metadata": {
        "id": "8DKqWNrLRPKY",
        "colab_type": "code",
        "colab": {
          "base_uri": "https://localhost:8080/",
          "height": 85
        },
        "outputId": "7ec7bb74-9f09-48e5-c902-b7bf4d07fce1"
      },
      "source": [
        "df_time.diff().mean()"
      ],
      "execution_count": 12,
      "outputs": [
        {
          "output_type": "execute_result",
          "data": {
            "text/plain": [
              "Confirmed    99305.640\n",
              "Deaths        3656.545\n",
              "Recovered    60578.985\n",
              "dtype: float64"
            ]
          },
          "metadata": {
            "tags": []
          },
          "execution_count": 12
        }
      ]
    },
    {
      "cell_type": "code",
      "metadata": {
        "id": "iHY77d9bRYek",
        "colab_type": "code",
        "colab": {
          "base_uri": "https://localhost:8080/",
          "height": 450
        },
        "outputId": "3e1c547d-2843-440d-9f2c-67e83c0a4b08"
      },
      "source": [
        "df_diff = df_time.diff()\n",
        "df_diff"
      ],
      "execution_count": 13,
      "outputs": [
        {
          "output_type": "execute_result",
          "data": {
            "text/html": [
              "<div>\n",
              "<style scoped>\n",
              "    .dataframe tbody tr th:only-of-type {\n",
              "        vertical-align: middle;\n",
              "    }\n",
              "\n",
              "    .dataframe tbody tr th {\n",
              "        vertical-align: top;\n",
              "    }\n",
              "\n",
              "    .dataframe thead th {\n",
              "        text-align: right;\n",
              "    }\n",
              "</style>\n",
              "<table border=\"1\" class=\"dataframe\">\n",
              "  <thead>\n",
              "    <tr style=\"text-align: right;\">\n",
              "      <th></th>\n",
              "      <th>Confirmed</th>\n",
              "      <th>Deaths</th>\n",
              "      <th>Recovered</th>\n",
              "    </tr>\n",
              "    <tr>\n",
              "      <th>ObservationDate</th>\n",
              "      <th></th>\n",
              "      <th></th>\n",
              "      <th></th>\n",
              "    </tr>\n",
              "  </thead>\n",
              "  <tbody>\n",
              "    <tr>\n",
              "      <th>2020-01-22</th>\n",
              "      <td>NaN</td>\n",
              "      <td>NaN</td>\n",
              "      <td>NaN</td>\n",
              "    </tr>\n",
              "    <tr>\n",
              "      <th>2020-01-23</th>\n",
              "      <td>98.0</td>\n",
              "      <td>1.0</td>\n",
              "      <td>2.0</td>\n",
              "    </tr>\n",
              "    <tr>\n",
              "      <th>2020-01-24</th>\n",
              "      <td>288.0</td>\n",
              "      <td>8.0</td>\n",
              "      <td>6.0</td>\n",
              "    </tr>\n",
              "    <tr>\n",
              "      <th>2020-01-25</th>\n",
              "      <td>497.0</td>\n",
              "      <td>16.0</td>\n",
              "      <td>3.0</td>\n",
              "    </tr>\n",
              "    <tr>\n",
              "      <th>2020-01-26</th>\n",
              "      <td>680.0</td>\n",
              "      <td>14.0</td>\n",
              "      <td>13.0</td>\n",
              "    </tr>\n",
              "    <tr>\n",
              "      <th>...</th>\n",
              "      <td>...</td>\n",
              "      <td>...</td>\n",
              "      <td>...</td>\n",
              "    </tr>\n",
              "    <tr>\n",
              "      <th>2020-08-05</th>\n",
              "      <td>271164.0</td>\n",
              "      <td>7084.0</td>\n",
              "      <td>221540.0</td>\n",
              "    </tr>\n",
              "    <tr>\n",
              "      <th>2020-08-06</th>\n",
              "      <td>285196.0</td>\n",
              "      <td>7120.0</td>\n",
              "      <td>189126.0</td>\n",
              "    </tr>\n",
              "    <tr>\n",
              "      <th>2020-08-07</th>\n",
              "      <td>280887.0</td>\n",
              "      <td>6384.0</td>\n",
              "      <td>192526.0</td>\n",
              "    </tr>\n",
              "    <tr>\n",
              "      <th>2020-08-08</th>\n",
              "      <td>259470.0</td>\n",
              "      <td>5457.0</td>\n",
              "      <td>201182.0</td>\n",
              "    </tr>\n",
              "    <tr>\n",
              "      <th>2020-08-09</th>\n",
              "      <td>224177.0</td>\n",
              "      <td>4545.0</td>\n",
              "      <td>176716.0</td>\n",
              "    </tr>\n",
              "  </tbody>\n",
              "</table>\n",
              "<p>201 rows × 3 columns</p>\n",
              "</div>"
            ],
            "text/plain": [
              "                 Confirmed  Deaths  Recovered\n",
              "ObservationDate                              \n",
              "2020-01-22             NaN     NaN        NaN\n",
              "2020-01-23            98.0     1.0        2.0\n",
              "2020-01-24           288.0     8.0        6.0\n",
              "2020-01-25           497.0    16.0        3.0\n",
              "2020-01-26           680.0    14.0       13.0\n",
              "...                    ...     ...        ...\n",
              "2020-08-05        271164.0  7084.0   221540.0\n",
              "2020-08-06        285196.0  7120.0   189126.0\n",
              "2020-08-07        280887.0  6384.0   192526.0\n",
              "2020-08-08        259470.0  5457.0   201182.0\n",
              "2020-08-09        224177.0  4545.0   176716.0\n",
              "\n",
              "[201 rows x 3 columns]"
            ]
          },
          "metadata": {
            "tags": []
          },
          "execution_count": 13
        }
      ]
    },
    {
      "cell_type": "code",
      "metadata": {
        "id": "SV_FJVofRf5o",
        "colab_type": "code",
        "colab": {
          "base_uri": "https://localhost:8080/",
          "height": 68
        },
        "outputId": "7e91fe4f-5de7-49ee-f745-78d255b9c24c"
      },
      "source": [
        "df_time.head(1).to_dict()"
      ],
      "execution_count": 14,
      "outputs": [
        {
          "output_type": "execute_result",
          "data": {
            "text/plain": [
              "{'Confirmed': {Timestamp('2020-01-22 00:00:00'): 555.0},\n",
              " 'Deaths': {Timestamp('2020-01-22 00:00:00'): 17.0},\n",
              " 'Recovered': {Timestamp('2020-01-22 00:00:00'): 28.0}}"
            ]
          },
          "metadata": {
            "tags": []
          },
          "execution_count": 14
        }
      ]
    },
    {
      "cell_type": "code",
      "metadata": {
        "id": "Sd1SdyXSRxs4",
        "colab_type": "code",
        "colab": {}
      },
      "source": [
        "df_diff = df_diff.fillna({'Confirmed':  555.0,\n",
        " 'Deaths': 17.0,\n",
        " 'Recovered': 28.0})"
      ],
      "execution_count": 15,
      "outputs": []
    },
    {
      "cell_type": "code",
      "metadata": {
        "id": "rpK5R1tRSJI2",
        "colab_type": "code",
        "colab": {
          "base_uri": "https://localhost:8080/",
          "height": 450
        },
        "outputId": "db5b2f2c-e510-4544-c00e-bb6c40dc079b"
      },
      "source": [
        "df_diff"
      ],
      "execution_count": 16,
      "outputs": [
        {
          "output_type": "execute_result",
          "data": {
            "text/html": [
              "<div>\n",
              "<style scoped>\n",
              "    .dataframe tbody tr th:only-of-type {\n",
              "        vertical-align: middle;\n",
              "    }\n",
              "\n",
              "    .dataframe tbody tr th {\n",
              "        vertical-align: top;\n",
              "    }\n",
              "\n",
              "    .dataframe thead th {\n",
              "        text-align: right;\n",
              "    }\n",
              "</style>\n",
              "<table border=\"1\" class=\"dataframe\">\n",
              "  <thead>\n",
              "    <tr style=\"text-align: right;\">\n",
              "      <th></th>\n",
              "      <th>Confirmed</th>\n",
              "      <th>Deaths</th>\n",
              "      <th>Recovered</th>\n",
              "    </tr>\n",
              "    <tr>\n",
              "      <th>ObservationDate</th>\n",
              "      <th></th>\n",
              "      <th></th>\n",
              "      <th></th>\n",
              "    </tr>\n",
              "  </thead>\n",
              "  <tbody>\n",
              "    <tr>\n",
              "      <th>2020-01-22</th>\n",
              "      <td>555.0</td>\n",
              "      <td>17.0</td>\n",
              "      <td>28.0</td>\n",
              "    </tr>\n",
              "    <tr>\n",
              "      <th>2020-01-23</th>\n",
              "      <td>98.0</td>\n",
              "      <td>1.0</td>\n",
              "      <td>2.0</td>\n",
              "    </tr>\n",
              "    <tr>\n",
              "      <th>2020-01-24</th>\n",
              "      <td>288.0</td>\n",
              "      <td>8.0</td>\n",
              "      <td>6.0</td>\n",
              "    </tr>\n",
              "    <tr>\n",
              "      <th>2020-01-25</th>\n",
              "      <td>497.0</td>\n",
              "      <td>16.0</td>\n",
              "      <td>3.0</td>\n",
              "    </tr>\n",
              "    <tr>\n",
              "      <th>2020-01-26</th>\n",
              "      <td>680.0</td>\n",
              "      <td>14.0</td>\n",
              "      <td>13.0</td>\n",
              "    </tr>\n",
              "    <tr>\n",
              "      <th>...</th>\n",
              "      <td>...</td>\n",
              "      <td>...</td>\n",
              "      <td>...</td>\n",
              "    </tr>\n",
              "    <tr>\n",
              "      <th>2020-08-05</th>\n",
              "      <td>271164.0</td>\n",
              "      <td>7084.0</td>\n",
              "      <td>221540.0</td>\n",
              "    </tr>\n",
              "    <tr>\n",
              "      <th>2020-08-06</th>\n",
              "      <td>285196.0</td>\n",
              "      <td>7120.0</td>\n",
              "      <td>189126.0</td>\n",
              "    </tr>\n",
              "    <tr>\n",
              "      <th>2020-08-07</th>\n",
              "      <td>280887.0</td>\n",
              "      <td>6384.0</td>\n",
              "      <td>192526.0</td>\n",
              "    </tr>\n",
              "    <tr>\n",
              "      <th>2020-08-08</th>\n",
              "      <td>259470.0</td>\n",
              "      <td>5457.0</td>\n",
              "      <td>201182.0</td>\n",
              "    </tr>\n",
              "    <tr>\n",
              "      <th>2020-08-09</th>\n",
              "      <td>224177.0</td>\n",
              "      <td>4545.0</td>\n",
              "      <td>176716.0</td>\n",
              "    </tr>\n",
              "  </tbody>\n",
              "</table>\n",
              "<p>201 rows × 3 columns</p>\n",
              "</div>"
            ],
            "text/plain": [
              "                 Confirmed  Deaths  Recovered\n",
              "ObservationDate                              \n",
              "2020-01-22           555.0    17.0       28.0\n",
              "2020-01-23            98.0     1.0        2.0\n",
              "2020-01-24           288.0     8.0        6.0\n",
              "2020-01-25           497.0    16.0        3.0\n",
              "2020-01-26           680.0    14.0       13.0\n",
              "...                    ...     ...        ...\n",
              "2020-08-05        271164.0  7084.0   221540.0\n",
              "2020-08-06        285196.0  7120.0   189126.0\n",
              "2020-08-07        280887.0  6384.0   192526.0\n",
              "2020-08-08        259470.0  5457.0   201182.0\n",
              "2020-08-09        224177.0  4545.0   176716.0\n",
              "\n",
              "[201 rows x 3 columns]"
            ]
          },
          "metadata": {
            "tags": []
          },
          "execution_count": 16
        }
      ]
    },
    {
      "cell_type": "code",
      "metadata": {
        "id": "JLeUd7bWSNnk",
        "colab_type": "code",
        "colab": {
          "base_uri": "https://localhost:8080/",
          "height": 450
        },
        "outputId": "354dc80c-6f44-4c4a-fb0c-49171d862fd0"
      },
      "source": [
        "df_diff.cumsum()"
      ],
      "execution_count": 17,
      "outputs": [
        {
          "output_type": "execute_result",
          "data": {
            "text/html": [
              "<div>\n",
              "<style scoped>\n",
              "    .dataframe tbody tr th:only-of-type {\n",
              "        vertical-align: middle;\n",
              "    }\n",
              "\n",
              "    .dataframe tbody tr th {\n",
              "        vertical-align: top;\n",
              "    }\n",
              "\n",
              "    .dataframe thead th {\n",
              "        text-align: right;\n",
              "    }\n",
              "</style>\n",
              "<table border=\"1\" class=\"dataframe\">\n",
              "  <thead>\n",
              "    <tr style=\"text-align: right;\">\n",
              "      <th></th>\n",
              "      <th>Confirmed</th>\n",
              "      <th>Deaths</th>\n",
              "      <th>Recovered</th>\n",
              "    </tr>\n",
              "    <tr>\n",
              "      <th>ObservationDate</th>\n",
              "      <th></th>\n",
              "      <th></th>\n",
              "      <th></th>\n",
              "    </tr>\n",
              "  </thead>\n",
              "  <tbody>\n",
              "    <tr>\n",
              "      <th>2020-01-22</th>\n",
              "      <td>555.0</td>\n",
              "      <td>17.0</td>\n",
              "      <td>28.0</td>\n",
              "    </tr>\n",
              "    <tr>\n",
              "      <th>2020-01-23</th>\n",
              "      <td>653.0</td>\n",
              "      <td>18.0</td>\n",
              "      <td>30.0</td>\n",
              "    </tr>\n",
              "    <tr>\n",
              "      <th>2020-01-24</th>\n",
              "      <td>941.0</td>\n",
              "      <td>26.0</td>\n",
              "      <td>36.0</td>\n",
              "    </tr>\n",
              "    <tr>\n",
              "      <th>2020-01-25</th>\n",
              "      <td>1438.0</td>\n",
              "      <td>42.0</td>\n",
              "      <td>39.0</td>\n",
              "    </tr>\n",
              "    <tr>\n",
              "      <th>2020-01-26</th>\n",
              "      <td>2118.0</td>\n",
              "      <td>56.0</td>\n",
              "      <td>52.0</td>\n",
              "    </tr>\n",
              "    <tr>\n",
              "      <th>...</th>\n",
              "      <td>...</td>\n",
              "      <td>...</td>\n",
              "      <td>...</td>\n",
              "    </tr>\n",
              "    <tr>\n",
              "      <th>2020-08-05</th>\n",
              "      <td>18811953.0</td>\n",
              "      <td>707820.0</td>\n",
              "      <td>11356275.0</td>\n",
              "    </tr>\n",
              "    <tr>\n",
              "      <th>2020-08-06</th>\n",
              "      <td>19097149.0</td>\n",
              "      <td>714940.0</td>\n",
              "      <td>11545401.0</td>\n",
              "    </tr>\n",
              "    <tr>\n",
              "      <th>2020-08-07</th>\n",
              "      <td>19378036.0</td>\n",
              "      <td>721324.0</td>\n",
              "      <td>11737927.0</td>\n",
              "    </tr>\n",
              "    <tr>\n",
              "      <th>2020-08-08</th>\n",
              "      <td>19637506.0</td>\n",
              "      <td>726781.0</td>\n",
              "      <td>11939109.0</td>\n",
              "    </tr>\n",
              "    <tr>\n",
              "      <th>2020-08-09</th>\n",
              "      <td>19861683.0</td>\n",
              "      <td>731326.0</td>\n",
              "      <td>12115825.0</td>\n",
              "    </tr>\n",
              "  </tbody>\n",
              "</table>\n",
              "<p>201 rows × 3 columns</p>\n",
              "</div>"
            ],
            "text/plain": [
              "                  Confirmed    Deaths   Recovered\n",
              "ObservationDate                                  \n",
              "2020-01-22            555.0      17.0        28.0\n",
              "2020-01-23            653.0      18.0        30.0\n",
              "2020-01-24            941.0      26.0        36.0\n",
              "2020-01-25           1438.0      42.0        39.0\n",
              "2020-01-26           2118.0      56.0        52.0\n",
              "...                     ...       ...         ...\n",
              "2020-08-05       18811953.0  707820.0  11356275.0\n",
              "2020-08-06       19097149.0  714940.0  11545401.0\n",
              "2020-08-07       19378036.0  721324.0  11737927.0\n",
              "2020-08-08       19637506.0  726781.0  11939109.0\n",
              "2020-08-09       19861683.0  731326.0  12115825.0\n",
              "\n",
              "[201 rows x 3 columns]"
            ]
          },
          "metadata": {
            "tags": []
          },
          "execution_count": 17
        }
      ]
    },
    {
      "cell_type": "code",
      "metadata": {
        "id": "_o-7VetWSSGX",
        "colab_type": "code",
        "colab": {
          "base_uri": "https://localhost:8080/",
          "height": 328
        },
        "outputId": "0db06614-05f0-45de-9d5e-14cf4ef36245"
      },
      "source": [
        "df_diff.resample('M').sum()"
      ],
      "execution_count": 18,
      "outputs": [
        {
          "output_type": "execute_result",
          "data": {
            "text/html": [
              "<div>\n",
              "<style scoped>\n",
              "    .dataframe tbody tr th:only-of-type {\n",
              "        vertical-align: middle;\n",
              "    }\n",
              "\n",
              "    .dataframe tbody tr th {\n",
              "        vertical-align: top;\n",
              "    }\n",
              "\n",
              "    .dataframe thead th {\n",
              "        text-align: right;\n",
              "    }\n",
              "</style>\n",
              "<table border=\"1\" class=\"dataframe\">\n",
              "  <thead>\n",
              "    <tr style=\"text-align: right;\">\n",
              "      <th></th>\n",
              "      <th>Confirmed</th>\n",
              "      <th>Deaths</th>\n",
              "      <th>Recovered</th>\n",
              "    </tr>\n",
              "    <tr>\n",
              "      <th>ObservationDate</th>\n",
              "      <th></th>\n",
              "      <th></th>\n",
              "      <th></th>\n",
              "    </tr>\n",
              "  </thead>\n",
              "  <tbody>\n",
              "    <tr>\n",
              "      <th>2020-01-31</th>\n",
              "      <td>9925.0</td>\n",
              "      <td>213.0</td>\n",
              "      <td>222.0</td>\n",
              "    </tr>\n",
              "    <tr>\n",
              "      <th>2020-02-29</th>\n",
              "      <td>76088.0</td>\n",
              "      <td>2728.0</td>\n",
              "      <td>39560.0</td>\n",
              "    </tr>\n",
              "    <tr>\n",
              "      <th>2020-03-31</th>\n",
              "      <td>771474.0</td>\n",
              "      <td>39166.0</td>\n",
              "      <td>138246.0</td>\n",
              "    </tr>\n",
              "    <tr>\n",
              "      <th>2020-04-30</th>\n",
              "      <td>2399359.0</td>\n",
              "      <td>191281.0</td>\n",
              "      <td>836725.0</td>\n",
              "    </tr>\n",
              "    <tr>\n",
              "      <th>2020-05-31</th>\n",
              "      <td>2910100.0</td>\n",
              "      <td>138647.0</td>\n",
              "      <td>1626576.0</td>\n",
              "    </tr>\n",
              "    <tr>\n",
              "      <th>2020-06-30</th>\n",
              "      <td>4308892.0</td>\n",
              "      <td>139218.0</td>\n",
              "      <td>2711943.0</td>\n",
              "    </tr>\n",
              "    <tr>\n",
              "      <th>2020-07-31</th>\n",
              "      <td>7123998.0</td>\n",
              "      <td>168247.0</td>\n",
              "      <td>5015868.0</td>\n",
              "    </tr>\n",
              "    <tr>\n",
              "      <th>2020-08-31</th>\n",
              "      <td>2261847.0</td>\n",
              "      <td>51826.0</td>\n",
              "      <td>1746685.0</td>\n",
              "    </tr>\n",
              "  </tbody>\n",
              "</table>\n",
              "</div>"
            ],
            "text/plain": [
              "                 Confirmed    Deaths  Recovered\n",
              "ObservationDate                                \n",
              "2020-01-31          9925.0     213.0      222.0\n",
              "2020-02-29         76088.0    2728.0    39560.0\n",
              "2020-03-31        771474.0   39166.0   138246.0\n",
              "2020-04-30       2399359.0  191281.0   836725.0\n",
              "2020-05-31       2910100.0  138647.0  1626576.0\n",
              "2020-06-30       4308892.0  139218.0  2711943.0\n",
              "2020-07-31       7123998.0  168247.0  5015868.0\n",
              "2020-08-31       2261847.0   51826.0  1746685.0"
            ]
          },
          "metadata": {
            "tags": []
          },
          "execution_count": 18
        }
      ]
    },
    {
      "cell_type": "code",
      "metadata": {
        "id": "R0nNdB5BSnVf",
        "colab_type": "code",
        "colab": {
          "base_uri": "https://localhost:8080/",
          "height": 318
        },
        "outputId": "3259e069-f909-41c9-8d72-e0c90f2df0b4"
      },
      "source": [
        "df_diff.resample('M').count()"
      ],
      "execution_count": 19,
      "outputs": [
        {
          "output_type": "execute_result",
          "data": {
            "text/html": [
              "<div>\n",
              "<style scoped>\n",
              "    .dataframe tbody tr th:only-of-type {\n",
              "        vertical-align: middle;\n",
              "    }\n",
              "\n",
              "    .dataframe tbody tr th {\n",
              "        vertical-align: top;\n",
              "    }\n",
              "\n",
              "    .dataframe thead th {\n",
              "        text-align: right;\n",
              "    }\n",
              "</style>\n",
              "<table border=\"1\" class=\"dataframe\">\n",
              "  <thead>\n",
              "    <tr style=\"text-align: right;\">\n",
              "      <th></th>\n",
              "      <th>Confirmed</th>\n",
              "      <th>Deaths</th>\n",
              "      <th>Recovered</th>\n",
              "    </tr>\n",
              "    <tr>\n",
              "      <th>ObservationDate</th>\n",
              "      <th></th>\n",
              "      <th></th>\n",
              "      <th></th>\n",
              "    </tr>\n",
              "  </thead>\n",
              "  <tbody>\n",
              "    <tr>\n",
              "      <th>2020-01-31</th>\n",
              "      <td>10</td>\n",
              "      <td>10</td>\n",
              "      <td>10</td>\n",
              "    </tr>\n",
              "    <tr>\n",
              "      <th>2020-02-29</th>\n",
              "      <td>29</td>\n",
              "      <td>29</td>\n",
              "      <td>29</td>\n",
              "    </tr>\n",
              "    <tr>\n",
              "      <th>2020-03-31</th>\n",
              "      <td>31</td>\n",
              "      <td>31</td>\n",
              "      <td>31</td>\n",
              "    </tr>\n",
              "    <tr>\n",
              "      <th>2020-04-30</th>\n",
              "      <td>30</td>\n",
              "      <td>30</td>\n",
              "      <td>30</td>\n",
              "    </tr>\n",
              "    <tr>\n",
              "      <th>2020-05-31</th>\n",
              "      <td>31</td>\n",
              "      <td>31</td>\n",
              "      <td>31</td>\n",
              "    </tr>\n",
              "    <tr>\n",
              "      <th>2020-06-30</th>\n",
              "      <td>30</td>\n",
              "      <td>30</td>\n",
              "      <td>30</td>\n",
              "    </tr>\n",
              "    <tr>\n",
              "      <th>2020-07-31</th>\n",
              "      <td>31</td>\n",
              "      <td>31</td>\n",
              "      <td>31</td>\n",
              "    </tr>\n",
              "    <tr>\n",
              "      <th>2020-08-31</th>\n",
              "      <td>9</td>\n",
              "      <td>9</td>\n",
              "      <td>9</td>\n",
              "    </tr>\n",
              "  </tbody>\n",
              "</table>\n",
              "</div>"
            ],
            "text/plain": [
              "                 Confirmed  Deaths  Recovered\n",
              "ObservationDate                              \n",
              "2020-01-31              10      10         10\n",
              "2020-02-29              29      29         29\n",
              "2020-03-31              31      31         31\n",
              "2020-04-30              30      30         30\n",
              "2020-05-31              31      31         31\n",
              "2020-06-30              30      30         30\n",
              "2020-07-31              31      31         31\n",
              "2020-08-31               9       9          9"
            ]
          },
          "metadata": {
            "tags": []
          },
          "execution_count": 19
        }
      ]
    },
    {
      "cell_type": "code",
      "metadata": {
        "id": "OuJ0gC49rGER",
        "colab_type": "code",
        "colab": {
          "base_uri": "https://localhost:8080/",
          "height": 437
        },
        "outputId": "39e8b064-3c69-4bfe-dc2d-786e96b28aa0"
      },
      "source": [
        "df_cum = df_time.resample('12h').sum(min_count=1)\n",
        "df_cum"
      ],
      "execution_count": 24,
      "outputs": [
        {
          "output_type": "execute_result",
          "data": {
            "text/html": [
              "<div>\n",
              "<style scoped>\n",
              "    .dataframe tbody tr th:only-of-type {\n",
              "        vertical-align: middle;\n",
              "    }\n",
              "\n",
              "    .dataframe tbody tr th {\n",
              "        vertical-align: top;\n",
              "    }\n",
              "\n",
              "    .dataframe thead th {\n",
              "        text-align: right;\n",
              "    }\n",
              "</style>\n",
              "<table border=\"1\" class=\"dataframe\">\n",
              "  <thead>\n",
              "    <tr style=\"text-align: right;\">\n",
              "      <th></th>\n",
              "      <th>Confirmed</th>\n",
              "      <th>Deaths</th>\n",
              "      <th>Recovered</th>\n",
              "    </tr>\n",
              "    <tr>\n",
              "      <th>ObservationDate</th>\n",
              "      <th></th>\n",
              "      <th></th>\n",
              "      <th></th>\n",
              "    </tr>\n",
              "  </thead>\n",
              "  <tbody>\n",
              "    <tr>\n",
              "      <th>2020-01-22 00:00:00</th>\n",
              "      <td>555.0</td>\n",
              "      <td>17.0</td>\n",
              "      <td>28.0</td>\n",
              "    </tr>\n",
              "    <tr>\n",
              "      <th>2020-01-22 12:00:00</th>\n",
              "      <td>NaN</td>\n",
              "      <td>NaN</td>\n",
              "      <td>NaN</td>\n",
              "    </tr>\n",
              "    <tr>\n",
              "      <th>2020-01-23 00:00:00</th>\n",
              "      <td>653.0</td>\n",
              "      <td>18.0</td>\n",
              "      <td>30.0</td>\n",
              "    </tr>\n",
              "    <tr>\n",
              "      <th>2020-01-23 12:00:00</th>\n",
              "      <td>NaN</td>\n",
              "      <td>NaN</td>\n",
              "      <td>NaN</td>\n",
              "    </tr>\n",
              "    <tr>\n",
              "      <th>2020-01-24 00:00:00</th>\n",
              "      <td>941.0</td>\n",
              "      <td>26.0</td>\n",
              "      <td>36.0</td>\n",
              "    </tr>\n",
              "    <tr>\n",
              "      <th>...</th>\n",
              "      <td>...</td>\n",
              "      <td>...</td>\n",
              "      <td>...</td>\n",
              "    </tr>\n",
              "    <tr>\n",
              "      <th>2020-08-07 00:00:00</th>\n",
              "      <td>19378036.0</td>\n",
              "      <td>721324.0</td>\n",
              "      <td>11737927.0</td>\n",
              "    </tr>\n",
              "    <tr>\n",
              "      <th>2020-08-07 12:00:00</th>\n",
              "      <td>NaN</td>\n",
              "      <td>NaN</td>\n",
              "      <td>NaN</td>\n",
              "    </tr>\n",
              "    <tr>\n",
              "      <th>2020-08-08 00:00:00</th>\n",
              "      <td>19637506.0</td>\n",
              "      <td>726781.0</td>\n",
              "      <td>11939109.0</td>\n",
              "    </tr>\n",
              "    <tr>\n",
              "      <th>2020-08-08 12:00:00</th>\n",
              "      <td>NaN</td>\n",
              "      <td>NaN</td>\n",
              "      <td>NaN</td>\n",
              "    </tr>\n",
              "    <tr>\n",
              "      <th>2020-08-09 00:00:00</th>\n",
              "      <td>19861683.0</td>\n",
              "      <td>731326.0</td>\n",
              "      <td>12115825.0</td>\n",
              "    </tr>\n",
              "  </tbody>\n",
              "</table>\n",
              "<p>401 rows × 3 columns</p>\n",
              "</div>"
            ],
            "text/plain": [
              "                      Confirmed    Deaths   Recovered\n",
              "ObservationDate                                      \n",
              "2020-01-22 00:00:00       555.0      17.0        28.0\n",
              "2020-01-22 12:00:00         NaN       NaN         NaN\n",
              "2020-01-23 00:00:00       653.0      18.0        30.0\n",
              "2020-01-23 12:00:00         NaN       NaN         NaN\n",
              "2020-01-24 00:00:00       941.0      26.0        36.0\n",
              "...                         ...       ...         ...\n",
              "2020-08-07 00:00:00  19378036.0  721324.0  11737927.0\n",
              "2020-08-07 12:00:00         NaN       NaN         NaN\n",
              "2020-08-08 00:00:00  19637506.0  726781.0  11939109.0\n",
              "2020-08-08 12:00:00         NaN       NaN         NaN\n",
              "2020-08-09 00:00:00  19861683.0  731326.0  12115825.0\n",
              "\n",
              "[401 rows x 3 columns]"
            ]
          },
          "metadata": {
            "tags": []
          },
          "execution_count": 24
        }
      ]
    },
    {
      "cell_type": "code",
      "metadata": {
        "id": "jr0-FvLmrumT",
        "colab_type": "code",
        "colab": {
          "base_uri": "https://localhost:8080/",
          "height": 437
        },
        "outputId": "c4b4055c-cc34-4016-eeb5-90409f05d2a5"
      },
      "source": [
        "df_cum = df_cum.interpolate()\n",
        "df_cum"
      ],
      "execution_count": 28,
      "outputs": [
        {
          "output_type": "execute_result",
          "data": {
            "text/html": [
              "<div>\n",
              "<style scoped>\n",
              "    .dataframe tbody tr th:only-of-type {\n",
              "        vertical-align: middle;\n",
              "    }\n",
              "\n",
              "    .dataframe tbody tr th {\n",
              "        vertical-align: top;\n",
              "    }\n",
              "\n",
              "    .dataframe thead th {\n",
              "        text-align: right;\n",
              "    }\n",
              "</style>\n",
              "<table border=\"1\" class=\"dataframe\">\n",
              "  <thead>\n",
              "    <tr style=\"text-align: right;\">\n",
              "      <th></th>\n",
              "      <th>Confirmed</th>\n",
              "      <th>Deaths</th>\n",
              "      <th>Recovered</th>\n",
              "    </tr>\n",
              "    <tr>\n",
              "      <th>ObservationDate</th>\n",
              "      <th></th>\n",
              "      <th></th>\n",
              "      <th></th>\n",
              "    </tr>\n",
              "  </thead>\n",
              "  <tbody>\n",
              "    <tr>\n",
              "      <th>2020-01-22 00:00:00</th>\n",
              "      <td>555.0</td>\n",
              "      <td>17.0</td>\n",
              "      <td>28.0</td>\n",
              "    </tr>\n",
              "    <tr>\n",
              "      <th>2020-01-22 12:00:00</th>\n",
              "      <td>604.0</td>\n",
              "      <td>17.5</td>\n",
              "      <td>29.0</td>\n",
              "    </tr>\n",
              "    <tr>\n",
              "      <th>2020-01-23 00:00:00</th>\n",
              "      <td>653.0</td>\n",
              "      <td>18.0</td>\n",
              "      <td>30.0</td>\n",
              "    </tr>\n",
              "    <tr>\n",
              "      <th>2020-01-23 12:00:00</th>\n",
              "      <td>797.0</td>\n",
              "      <td>22.0</td>\n",
              "      <td>33.0</td>\n",
              "    </tr>\n",
              "    <tr>\n",
              "      <th>2020-01-24 00:00:00</th>\n",
              "      <td>941.0</td>\n",
              "      <td>26.0</td>\n",
              "      <td>36.0</td>\n",
              "    </tr>\n",
              "    <tr>\n",
              "      <th>...</th>\n",
              "      <td>...</td>\n",
              "      <td>...</td>\n",
              "      <td>...</td>\n",
              "    </tr>\n",
              "    <tr>\n",
              "      <th>2020-08-07 00:00:00</th>\n",
              "      <td>19378036.0</td>\n",
              "      <td>721324.0</td>\n",
              "      <td>11737927.0</td>\n",
              "    </tr>\n",
              "    <tr>\n",
              "      <th>2020-08-07 12:00:00</th>\n",
              "      <td>19507771.0</td>\n",
              "      <td>724052.5</td>\n",
              "      <td>11838518.0</td>\n",
              "    </tr>\n",
              "    <tr>\n",
              "      <th>2020-08-08 00:00:00</th>\n",
              "      <td>19637506.0</td>\n",
              "      <td>726781.0</td>\n",
              "      <td>11939109.0</td>\n",
              "    </tr>\n",
              "    <tr>\n",
              "      <th>2020-08-08 12:00:00</th>\n",
              "      <td>19749594.5</td>\n",
              "      <td>729053.5</td>\n",
              "      <td>12027467.0</td>\n",
              "    </tr>\n",
              "    <tr>\n",
              "      <th>2020-08-09 00:00:00</th>\n",
              "      <td>19861683.0</td>\n",
              "      <td>731326.0</td>\n",
              "      <td>12115825.0</td>\n",
              "    </tr>\n",
              "  </tbody>\n",
              "</table>\n",
              "<p>401 rows × 3 columns</p>\n",
              "</div>"
            ],
            "text/plain": [
              "                      Confirmed    Deaths   Recovered\n",
              "ObservationDate                                      \n",
              "2020-01-22 00:00:00       555.0      17.0        28.0\n",
              "2020-01-22 12:00:00       604.0      17.5        29.0\n",
              "2020-01-23 00:00:00       653.0      18.0        30.0\n",
              "2020-01-23 12:00:00       797.0      22.0        33.0\n",
              "2020-01-24 00:00:00       941.0      26.0        36.0\n",
              "...                         ...       ...         ...\n",
              "2020-08-07 00:00:00  19378036.0  721324.0  11737927.0\n",
              "2020-08-07 12:00:00  19507771.0  724052.5  11838518.0\n",
              "2020-08-08 00:00:00  19637506.0  726781.0  11939109.0\n",
              "2020-08-08 12:00:00  19749594.5  729053.5  12027467.0\n",
              "2020-08-09 00:00:00  19861683.0  731326.0  12115825.0\n",
              "\n",
              "[401 rows x 3 columns]"
            ]
          },
          "metadata": {
            "tags": []
          },
          "execution_count": 28
        }
      ]
    },
    {
      "cell_type": "code",
      "metadata": {
        "id": "f3b7586_sELi",
        "colab_type": "code",
        "colab": {
          "base_uri": "https://localhost:8080/",
          "height": 437
        },
        "outputId": "a958836f-e4bd-4201-e586-dd8933060863"
      },
      "source": [
        "df_cum['rate'] = 1 - df_cum['Deaths']/df_cum['Confirmed']\n",
        "df_cum"
      ],
      "execution_count": 34,
      "outputs": [
        {
          "output_type": "execute_result",
          "data": {
            "text/html": [
              "<div>\n",
              "<style scoped>\n",
              "    .dataframe tbody tr th:only-of-type {\n",
              "        vertical-align: middle;\n",
              "    }\n",
              "\n",
              "    .dataframe tbody tr th {\n",
              "        vertical-align: top;\n",
              "    }\n",
              "\n",
              "    .dataframe thead th {\n",
              "        text-align: right;\n",
              "    }\n",
              "</style>\n",
              "<table border=\"1\" class=\"dataframe\">\n",
              "  <thead>\n",
              "    <tr style=\"text-align: right;\">\n",
              "      <th></th>\n",
              "      <th>Confirmed</th>\n",
              "      <th>Deaths</th>\n",
              "      <th>Recovered</th>\n",
              "      <th>rate</th>\n",
              "    </tr>\n",
              "    <tr>\n",
              "      <th>ObservationDate</th>\n",
              "      <th></th>\n",
              "      <th></th>\n",
              "      <th></th>\n",
              "      <th></th>\n",
              "    </tr>\n",
              "  </thead>\n",
              "  <tbody>\n",
              "    <tr>\n",
              "      <th>2020-01-22 00:00:00</th>\n",
              "      <td>555.0</td>\n",
              "      <td>17.0</td>\n",
              "      <td>28.0</td>\n",
              "      <td>0.969369</td>\n",
              "    </tr>\n",
              "    <tr>\n",
              "      <th>2020-01-22 12:00:00</th>\n",
              "      <td>604.0</td>\n",
              "      <td>17.5</td>\n",
              "      <td>29.0</td>\n",
              "      <td>0.971026</td>\n",
              "    </tr>\n",
              "    <tr>\n",
              "      <th>2020-01-23 00:00:00</th>\n",
              "      <td>653.0</td>\n",
              "      <td>18.0</td>\n",
              "      <td>30.0</td>\n",
              "      <td>0.972435</td>\n",
              "    </tr>\n",
              "    <tr>\n",
              "      <th>2020-01-23 12:00:00</th>\n",
              "      <td>797.0</td>\n",
              "      <td>22.0</td>\n",
              "      <td>33.0</td>\n",
              "      <td>0.972396</td>\n",
              "    </tr>\n",
              "    <tr>\n",
              "      <th>2020-01-24 00:00:00</th>\n",
              "      <td>941.0</td>\n",
              "      <td>26.0</td>\n",
              "      <td>36.0</td>\n",
              "      <td>0.972370</td>\n",
              "    </tr>\n",
              "    <tr>\n",
              "      <th>...</th>\n",
              "      <td>...</td>\n",
              "      <td>...</td>\n",
              "      <td>...</td>\n",
              "      <td>...</td>\n",
              "    </tr>\n",
              "    <tr>\n",
              "      <th>2020-08-07 00:00:00</th>\n",
              "      <td>19378036.0</td>\n",
              "      <td>721324.0</td>\n",
              "      <td>11737927.0</td>\n",
              "      <td>0.962776</td>\n",
              "    </tr>\n",
              "    <tr>\n",
              "      <th>2020-08-07 12:00:00</th>\n",
              "      <td>19507771.0</td>\n",
              "      <td>724052.5</td>\n",
              "      <td>11838518.0</td>\n",
              "      <td>0.962884</td>\n",
              "    </tr>\n",
              "    <tr>\n",
              "      <th>2020-08-08 00:00:00</th>\n",
              "      <td>19637506.0</td>\n",
              "      <td>726781.0</td>\n",
              "      <td>11939109.0</td>\n",
              "      <td>0.962990</td>\n",
              "    </tr>\n",
              "    <tr>\n",
              "      <th>2020-08-08 12:00:00</th>\n",
              "      <td>19749594.5</td>\n",
              "      <td>729053.5</td>\n",
              "      <td>12027467.0</td>\n",
              "      <td>0.963085</td>\n",
              "    </tr>\n",
              "    <tr>\n",
              "      <th>2020-08-09 00:00:00</th>\n",
              "      <td>19861683.0</td>\n",
              "      <td>731326.0</td>\n",
              "      <td>12115825.0</td>\n",
              "      <td>0.963179</td>\n",
              "    </tr>\n",
              "  </tbody>\n",
              "</table>\n",
              "<p>401 rows × 4 columns</p>\n",
              "</div>"
            ],
            "text/plain": [
              "                      Confirmed    Deaths   Recovered      rate\n",
              "ObservationDate                                                \n",
              "2020-01-22 00:00:00       555.0      17.0        28.0  0.969369\n",
              "2020-01-22 12:00:00       604.0      17.5        29.0  0.971026\n",
              "2020-01-23 00:00:00       653.0      18.0        30.0  0.972435\n",
              "2020-01-23 12:00:00       797.0      22.0        33.0  0.972396\n",
              "2020-01-24 00:00:00       941.0      26.0        36.0  0.972370\n",
              "...                         ...       ...         ...       ...\n",
              "2020-08-07 00:00:00  19378036.0  721324.0  11737927.0  0.962776\n",
              "2020-08-07 12:00:00  19507771.0  724052.5  11838518.0  0.962884\n",
              "2020-08-08 00:00:00  19637506.0  726781.0  11939109.0  0.962990\n",
              "2020-08-08 12:00:00  19749594.5  729053.5  12027467.0  0.963085\n",
              "2020-08-09 00:00:00  19861683.0  731326.0  12115825.0  0.963179\n",
              "\n",
              "[401 rows x 4 columns]"
            ]
          },
          "metadata": {
            "tags": []
          },
          "execution_count": 34
        }
      ]
    },
    {
      "cell_type": "code",
      "metadata": {
        "id": "aZeDBj2Wsiid",
        "colab_type": "code",
        "colab": {
          "base_uri": "https://localhost:8080/",
          "height": 407
        },
        "outputId": "0178eff5-4b9e-4fd9-bddd-839bfe8aad4e"
      },
      "source": [
        "df_cum = df_cum.reset_index()\n",
        "df_cum"
      ],
      "execution_count": 39,
      "outputs": [
        {
          "output_type": "execute_result",
          "data": {
            "text/html": [
              "<div>\n",
              "<style scoped>\n",
              "    .dataframe tbody tr th:only-of-type {\n",
              "        vertical-align: middle;\n",
              "    }\n",
              "\n",
              "    .dataframe tbody tr th {\n",
              "        vertical-align: top;\n",
              "    }\n",
              "\n",
              "    .dataframe thead th {\n",
              "        text-align: right;\n",
              "    }\n",
              "</style>\n",
              "<table border=\"1\" class=\"dataframe\">\n",
              "  <thead>\n",
              "    <tr style=\"text-align: right;\">\n",
              "      <th></th>\n",
              "      <th>index</th>\n",
              "      <th>ObservationDate</th>\n",
              "      <th>Confirmed</th>\n",
              "      <th>Deaths</th>\n",
              "      <th>Recovered</th>\n",
              "      <th>rate</th>\n",
              "    </tr>\n",
              "  </thead>\n",
              "  <tbody>\n",
              "    <tr>\n",
              "      <th>0</th>\n",
              "      <td>0</td>\n",
              "      <td>2020-01-22 00:00:00</td>\n",
              "      <td>555.0</td>\n",
              "      <td>17.0</td>\n",
              "      <td>28.0</td>\n",
              "      <td>0.969369</td>\n",
              "    </tr>\n",
              "    <tr>\n",
              "      <th>1</th>\n",
              "      <td>1</td>\n",
              "      <td>2020-01-22 12:00:00</td>\n",
              "      <td>604.0</td>\n",
              "      <td>17.5</td>\n",
              "      <td>29.0</td>\n",
              "      <td>0.971026</td>\n",
              "    </tr>\n",
              "    <tr>\n",
              "      <th>2</th>\n",
              "      <td>2</td>\n",
              "      <td>2020-01-23 00:00:00</td>\n",
              "      <td>653.0</td>\n",
              "      <td>18.0</td>\n",
              "      <td>30.0</td>\n",
              "      <td>0.972435</td>\n",
              "    </tr>\n",
              "    <tr>\n",
              "      <th>3</th>\n",
              "      <td>3</td>\n",
              "      <td>2020-01-23 12:00:00</td>\n",
              "      <td>797.0</td>\n",
              "      <td>22.0</td>\n",
              "      <td>33.0</td>\n",
              "      <td>0.972396</td>\n",
              "    </tr>\n",
              "    <tr>\n",
              "      <th>4</th>\n",
              "      <td>4</td>\n",
              "      <td>2020-01-24 00:00:00</td>\n",
              "      <td>941.0</td>\n",
              "      <td>26.0</td>\n",
              "      <td>36.0</td>\n",
              "      <td>0.972370</td>\n",
              "    </tr>\n",
              "    <tr>\n",
              "      <th>...</th>\n",
              "      <td>...</td>\n",
              "      <td>...</td>\n",
              "      <td>...</td>\n",
              "      <td>...</td>\n",
              "      <td>...</td>\n",
              "      <td>...</td>\n",
              "    </tr>\n",
              "    <tr>\n",
              "      <th>396</th>\n",
              "      <td>396</td>\n",
              "      <td>2020-08-07 00:00:00</td>\n",
              "      <td>19378036.0</td>\n",
              "      <td>721324.0</td>\n",
              "      <td>11737927.0</td>\n",
              "      <td>0.962776</td>\n",
              "    </tr>\n",
              "    <tr>\n",
              "      <th>397</th>\n",
              "      <td>397</td>\n",
              "      <td>2020-08-07 12:00:00</td>\n",
              "      <td>19507771.0</td>\n",
              "      <td>724052.5</td>\n",
              "      <td>11838518.0</td>\n",
              "      <td>0.962884</td>\n",
              "    </tr>\n",
              "    <tr>\n",
              "      <th>398</th>\n",
              "      <td>398</td>\n",
              "      <td>2020-08-08 00:00:00</td>\n",
              "      <td>19637506.0</td>\n",
              "      <td>726781.0</td>\n",
              "      <td>11939109.0</td>\n",
              "      <td>0.962990</td>\n",
              "    </tr>\n",
              "    <tr>\n",
              "      <th>399</th>\n",
              "      <td>399</td>\n",
              "      <td>2020-08-08 12:00:00</td>\n",
              "      <td>19749594.5</td>\n",
              "      <td>729053.5</td>\n",
              "      <td>12027467.0</td>\n",
              "      <td>0.963085</td>\n",
              "    </tr>\n",
              "    <tr>\n",
              "      <th>400</th>\n",
              "      <td>400</td>\n",
              "      <td>2020-08-09 00:00:00</td>\n",
              "      <td>19861683.0</td>\n",
              "      <td>731326.0</td>\n",
              "      <td>12115825.0</td>\n",
              "      <td>0.963179</td>\n",
              "    </tr>\n",
              "  </tbody>\n",
              "</table>\n",
              "<p>401 rows × 6 columns</p>\n",
              "</div>"
            ],
            "text/plain": [
              "     index     ObservationDate   Confirmed    Deaths   Recovered      rate\n",
              "0        0 2020-01-22 00:00:00       555.0      17.0        28.0  0.969369\n",
              "1        1 2020-01-22 12:00:00       604.0      17.5        29.0  0.971026\n",
              "2        2 2020-01-23 00:00:00       653.0      18.0        30.0  0.972435\n",
              "3        3 2020-01-23 12:00:00       797.0      22.0        33.0  0.972396\n",
              "4        4 2020-01-24 00:00:00       941.0      26.0        36.0  0.972370\n",
              "..     ...                 ...         ...       ...         ...       ...\n",
              "396    396 2020-08-07 00:00:00  19378036.0  721324.0  11737927.0  0.962776\n",
              "397    397 2020-08-07 12:00:00  19507771.0  724052.5  11838518.0  0.962884\n",
              "398    398 2020-08-08 00:00:00  19637506.0  726781.0  11939109.0  0.962990\n",
              "399    399 2020-08-08 12:00:00  19749594.5  729053.5  12027467.0  0.963085\n",
              "400    400 2020-08-09 00:00:00  19861683.0  731326.0  12115825.0  0.963179\n",
              "\n",
              "[401 rows x 6 columns]"
            ]
          },
          "metadata": {
            "tags": []
          },
          "execution_count": 39
        }
      ]
    },
    {
      "cell_type": "code",
      "metadata": {
        "id": "MdJKY0bvsjuW",
        "colab_type": "code",
        "colab": {
          "base_uri": "https://localhost:8080/",
          "height": 318
        },
        "outputId": "2e1bb340-ccae-4419-fafe-2d7ed4b10321"
      },
      "source": [
        "df_cum.groupby(pd.Grouper(key='ObservationDate', freq = 'M'))[['rate']].mean()"
      ],
      "execution_count": 40,
      "outputs": [
        {
          "output_type": "execute_result",
          "data": {
            "text/html": [
              "<div>\n",
              "<style scoped>\n",
              "    .dataframe tbody tr th:only-of-type {\n",
              "        vertical-align: middle;\n",
              "    }\n",
              "\n",
              "    .dataframe tbody tr th {\n",
              "        vertical-align: top;\n",
              "    }\n",
              "\n",
              "    .dataframe thead th {\n",
              "        text-align: right;\n",
              "    }\n",
              "</style>\n",
              "<table border=\"1\" class=\"dataframe\">\n",
              "  <thead>\n",
              "    <tr style=\"text-align: right;\">\n",
              "      <th></th>\n",
              "      <th>rate</th>\n",
              "    </tr>\n",
              "    <tr>\n",
              "      <th>ObservationDate</th>\n",
              "      <th></th>\n",
              "    </tr>\n",
              "  </thead>\n",
              "  <tbody>\n",
              "    <tr>\n",
              "      <th>2020-01-31</th>\n",
              "      <td>0.974594</td>\n",
              "    </tr>\n",
              "    <tr>\n",
              "      <th>2020-02-29</th>\n",
              "      <td>0.973562</td>\n",
              "    </tr>\n",
              "    <tr>\n",
              "      <th>2020-03-31</th>\n",
              "      <td>0.960070</td>\n",
              "    </tr>\n",
              "    <tr>\n",
              "      <th>2020-04-30</th>\n",
              "      <td>0.936029</td>\n",
              "    </tr>\n",
              "    <tr>\n",
              "      <th>2020-05-31</th>\n",
              "      <td>0.933422</td>\n",
              "    </tr>\n",
              "    <tr>\n",
              "      <th>2020-06-30</th>\n",
              "      <td>0.945713</td>\n",
              "    </tr>\n",
              "    <tr>\n",
              "      <th>2020-07-31</th>\n",
              "      <td>0.957037</td>\n",
              "    </tr>\n",
              "    <tr>\n",
              "      <th>2020-08-31</th>\n",
              "      <td>0.962405</td>\n",
              "    </tr>\n",
              "  </tbody>\n",
              "</table>\n",
              "</div>"
            ],
            "text/plain": [
              "                     rate\n",
              "ObservationDate          \n",
              "2020-01-31       0.974594\n",
              "2020-02-29       0.973562\n",
              "2020-03-31       0.960070\n",
              "2020-04-30       0.936029\n",
              "2020-05-31       0.933422\n",
              "2020-06-30       0.945713\n",
              "2020-07-31       0.957037\n",
              "2020-08-31       0.962405"
            ]
          },
          "metadata": {
            "tags": []
          },
          "execution_count": 40
        }
      ]
    },
    {
      "cell_type": "code",
      "metadata": {
        "id": "ccV03eAmtF-p",
        "colab_type": "code",
        "colab": {
          "base_uri": "https://localhost:8080/",
          "height": 309
        },
        "outputId": "379f8997-692a-4ea1-f640-3289f420d892"
      },
      "source": [
        "sr = df_cum.groupby(pd.Grouper(key='ObservationDate', freq = '1D'))['rate'].mean()\n",
        "sr.plot()"
      ],
      "execution_count": 43,
      "outputs": [
        {
          "output_type": "execute_result",
          "data": {
            "text/plain": [
              "<matplotlib.axes._subplots.AxesSubplot at 0x7efe089d4748>"
            ]
          },
          "metadata": {
            "tags": []
          },
          "execution_count": 43
        },
        {
          "output_type": "display_data",
          "data": {
            "image/png": "[encoded data removed]",
            "text/plain": [
              "<Figure size 432x288 with 1 Axes>"
            ]
          },
          "metadata": {
            "tags": [],
            "needs_background": "light"
          }
        }
      ]
    },
    {
      "cell_type": "code",
      "metadata": {
        "id": "PE83ftkwtQJw",
        "colab_type": "code",
        "colab": {
          "base_uri": "https://localhost:8080/",
          "height": 309
        },
        "outputId": "3e83c1a6-ebae-41cb-d265-338b8b218633"
      },
      "source": [
        "sr.plot()\n",
        "sr.rolling(window=7).mean().plot()\n",
        "sr.rolling(window=14).mean().plot()"
      ],
      "execution_count": 45,
      "outputs": [
        {
          "output_type": "execute_result",
          "data": {
            "text/plain": [
              "<matplotlib.axes._subplots.AxesSubplot at 0x7efe083e2a90>"
            ]
          },
          "metadata": {
            "tags": []
          },
          "execution_count": 45
        },
        {
          "output_type": "display_data",
          "data": {
            "image/png": "[encoded data removed]",
            "text/plain": [
              "<Figure size 432x288 with 1 Axes>"
            ]
          },
          "metadata": {
            "tags": [],
            "needs_background": "light"
          }
        }
      ]
    },
    {
      "cell_type": "code",
      "metadata": {
        "id": "WudgbtDvtzYI",
        "colab_type": "code",
        "colab": {
          "base_uri": "https://localhost:8080/",
          "height": 309
        },
        "outputId": "6c5bde88-0601-451c-f55e-759991bb963c"
      },
      "source": [
        "import numpy as np\n",
        "\n",
        "sr.rolling(window=14).apply(lambda x: np.std(x)).plot()"
      ],
      "execution_count": 48,
      "outputs": [
        {
          "output_type": "execute_result",
          "data": {
            "text/plain": [
              "<matplotlib.axes._subplots.AxesSubplot at 0x7efe0831fa58>"
            ]
          },
          "metadata": {
            "tags": []
          },
          "execution_count": 48
        },
        {
          "output_type": "display_data",
          "data": {
            "image/png": "[encoded data removed]",
            "text/plain": [
              "<Figure size 432x288 with 1 Axes>"
            ]
          },
          "metadata": {
            "tags": [],
            "needs_background": "light"
          }
        }
      ]
    },
    {
      "cell_type": "markdown",
      "metadata": {
        "id": "ESTC7a-LvNQx",
        "colab_type": "text"
      },
      "source": [
        "## Herramientas de visualización incluidas en pandas"
      ]
    },
    {
      "cell_type": "code",
      "metadata": {
        "id": "7EbTLyv2vSWC",
        "colab_type": "code",
        "colab": {
          "base_uri": "https://localhost:8080/",
          "height": 402
        },
        "outputId": "2a9a8815-122c-4ddf-ad58-8ce7d31ffbbc"
      },
      "source": [
        "df"
      ],
      "execution_count": 49,
      "outputs": [
        {
          "output_type": "execute_result",
          "data": {
            "text/html": [
              "<div>\n",
              "<style scoped>\n",
              "    .dataframe tbody tr th:only-of-type {\n",
              "        vertical-align: middle;\n",
              "    }\n",
              "\n",
              "    .dataframe tbody tr th {\n",
              "        vertical-align: top;\n",
              "    }\n",
              "\n",
              "    .dataframe thead th {\n",
              "        text-align: right;\n",
              "    }\n",
              "</style>\n",
              "<table border=\"1\" class=\"dataframe\">\n",
              "  <thead>\n",
              "    <tr style=\"text-align: right;\">\n",
              "      <th></th>\n",
              "      <th>ObservationDate</th>\n",
              "      <th>Country/Region</th>\n",
              "      <th>Confirmed</th>\n",
              "      <th>Deaths</th>\n",
              "      <th>Recovered</th>\n",
              "    </tr>\n",
              "  </thead>\n",
              "  <tbody>\n",
              "    <tr>\n",
              "      <th>0</th>\n",
              "      <td>2020-01-22</td>\n",
              "      <td>Mainland China</td>\n",
              "      <td>1.0</td>\n",
              "      <td>0.0</td>\n",
              "      <td>0.0</td>\n",
              "    </tr>\n",
              "    <tr>\n",
              "      <th>1</th>\n",
              "      <td>2020-01-22</td>\n",
              "      <td>Mainland China</td>\n",
              "      <td>14.0</td>\n",
              "      <td>0.0</td>\n",
              "      <td>0.0</td>\n",
              "    </tr>\n",
              "    <tr>\n",
              "      <th>2</th>\n",
              "      <td>2020-01-22</td>\n",
              "      <td>Mainland China</td>\n",
              "      <td>6.0</td>\n",
              "      <td>0.0</td>\n",
              "      <td>0.0</td>\n",
              "    </tr>\n",
              "    <tr>\n",
              "      <th>3</th>\n",
              "      <td>2020-01-22</td>\n",
              "      <td>Mainland China</td>\n",
              "      <td>1.0</td>\n",
              "      <td>0.0</td>\n",
              "      <td>0.0</td>\n",
              "    </tr>\n",
              "    <tr>\n",
              "      <th>4</th>\n",
              "      <td>2020-01-22</td>\n",
              "      <td>Mainland China</td>\n",
              "      <td>0.0</td>\n",
              "      <td>0.0</td>\n",
              "      <td>0.0</td>\n",
              "    </tr>\n",
              "    <tr>\n",
              "      <th>...</th>\n",
              "      <td>...</td>\n",
              "      <td>...</td>\n",
              "      <td>...</td>\n",
              "      <td>...</td>\n",
              "      <td>...</td>\n",
              "    </tr>\n",
              "    <tr>\n",
              "      <th>83406</th>\n",
              "      <td>2020-08-09</td>\n",
              "      <td>Ukraine</td>\n",
              "      <td>937.0</td>\n",
              "      <td>22.0</td>\n",
              "      <td>652.0</td>\n",
              "    </tr>\n",
              "    <tr>\n",
              "      <th>83407</th>\n",
              "      <td>2020-08-09</td>\n",
              "      <td>Netherlands</td>\n",
              "      <td>918.0</td>\n",
              "      <td>69.0</td>\n",
              "      <td>0.0</td>\n",
              "    </tr>\n",
              "    <tr>\n",
              "      <th>83408</th>\n",
              "      <td>2020-08-09</td>\n",
              "      <td>Mainland China</td>\n",
              "      <td>1273.0</td>\n",
              "      <td>1.0</td>\n",
              "      <td>1268.0</td>\n",
              "    </tr>\n",
              "    <tr>\n",
              "      <th>83409</th>\n",
              "      <td>2020-08-09</td>\n",
              "      <td>Ukraine</td>\n",
              "      <td>2131.0</td>\n",
              "      <td>41.0</td>\n",
              "      <td>1524.0</td>\n",
              "    </tr>\n",
              "    <tr>\n",
              "      <th>83410</th>\n",
              "      <td>2020-08-09</td>\n",
              "      <td>Netherlands</td>\n",
              "      <td>14931.0</td>\n",
              "      <td>1312.0</td>\n",
              "      <td>0.0</td>\n",
              "    </tr>\n",
              "  </tbody>\n",
              "</table>\n",
              "<p>83411 rows × 5 columns</p>\n",
              "</div>"
            ],
            "text/plain": [
              "      ObservationDate  Country/Region  Confirmed  Deaths  Recovered\n",
              "0          2020-01-22  Mainland China        1.0     0.0        0.0\n",
              "1          2020-01-22  Mainland China       14.0     0.0        0.0\n",
              "2          2020-01-22  Mainland China        6.0     0.0        0.0\n",
              "3          2020-01-22  Mainland China        1.0     0.0        0.0\n",
              "4          2020-01-22  Mainland China        0.0     0.0        0.0\n",
              "...               ...             ...        ...     ...        ...\n",
              "83406      2020-08-09         Ukraine      937.0    22.0      652.0\n",
              "83407      2020-08-09     Netherlands      918.0    69.0        0.0\n",
              "83408      2020-08-09  Mainland China     1273.0     1.0     1268.0\n",
              "83409      2020-08-09         Ukraine     2131.0    41.0     1524.0\n",
              "83410      2020-08-09     Netherlands    14931.0  1312.0        0.0\n",
              "\n",
              "[83411 rows x 5 columns]"
            ]
          },
          "metadata": {
            "tags": []
          },
          "execution_count": 49
        }
      ]
    },
    {
      "cell_type": "code",
      "metadata": {
        "id": "7RCQd8ZRvVJK",
        "colab_type": "code",
        "colab": {
          "base_uri": "https://localhost:8080/",
          "height": 235
        },
        "outputId": "1b9b25f3-f2de-4043-b865-8f2925a6d38d"
      },
      "source": [
        "df.groupby('Country/Region')['Confirmed'].max().sort_values(ascending=False)"
      ],
      "execution_count": 52,
      "outputs": [
        {
          "output_type": "execute_result",
          "data": {
            "text/plain": [
              "Country/Region\n",
              "Brazil             627126.0\n",
              "South Africa       559859.0\n",
              "US                 559746.0\n",
              "India              515332.0\n",
              "Russia             405843.0\n",
              "                     ...   \n",
              "Gambia, The             1.0\n",
              "East Timor              1.0\n",
              "Curacao                 1.0\n",
              "Channel Islands         1.0\n",
              " Azerbaijan             1.0\n",
              "Name: Confirmed, Length: 223, dtype: float64"
            ]
          },
          "metadata": {
            "tags": []
          },
          "execution_count": 52
        }
      ]
    },
    {
      "cell_type": "code",
      "metadata": {
        "id": "2U1addJ-vobN",
        "colab_type": "code",
        "colab": {
          "base_uri": "https://localhost:8080/",
          "height": 431
        },
        "outputId": "dfecbba3-9311-4025-a5e5-99b668cfe4ee"
      },
      "source": [
        "df_time = df.groupby(['Country/Region',\n",
        "            pd.Grouper(key='ObservationDate', freq='1D')]).sum()\n",
        "\n",
        "df_time"
      ],
      "execution_count": 54,
      "outputs": [
        {
          "output_type": "execute_result",
          "data": {
            "text/html": [
              "<div>\n",
              "<style scoped>\n",
              "    .dataframe tbody tr th:only-of-type {\n",
              "        vertical-align: middle;\n",
              "    }\n",
              "\n",
              "    .dataframe tbody tr th {\n",
              "        vertical-align: top;\n",
              "    }\n",
              "\n",
              "    .dataframe thead th {\n",
              "        text-align: right;\n",
              "    }\n",
              "</style>\n",
              "<table border=\"1\" class=\"dataframe\">\n",
              "  <thead>\n",
              "    <tr style=\"text-align: right;\">\n",
              "      <th></th>\n",
              "      <th></th>\n",
              "      <th>Confirmed</th>\n",
              "      <th>Deaths</th>\n",
              "      <th>Recovered</th>\n",
              "    </tr>\n",
              "    <tr>\n",
              "      <th>Country/Region</th>\n",
              "      <th>ObservationDate</th>\n",
              "      <th></th>\n",
              "      <th></th>\n",
              "      <th></th>\n",
              "    </tr>\n",
              "  </thead>\n",
              "  <tbody>\n",
              "    <tr>\n",
              "      <th>Azerbaijan</th>\n",
              "      <th>2020-02-28</th>\n",
              "      <td>1.0</td>\n",
              "      <td>0.0</td>\n",
              "      <td>0.0</td>\n",
              "    </tr>\n",
              "    <tr>\n",
              "      <th>('St. Martin',)</th>\n",
              "      <th>2020-03-10</th>\n",
              "      <td>2.0</td>\n",
              "      <td>0.0</td>\n",
              "      <td>0.0</td>\n",
              "    </tr>\n",
              "    <tr>\n",
              "      <th rowspan=\"3\" valign=\"top\">Afghanistan</th>\n",
              "      <th>2020-02-24</th>\n",
              "      <td>1.0</td>\n",
              "      <td>0.0</td>\n",
              "      <td>0.0</td>\n",
              "    </tr>\n",
              "    <tr>\n",
              "      <th>2020-02-25</th>\n",
              "      <td>1.0</td>\n",
              "      <td>0.0</td>\n",
              "      <td>0.0</td>\n",
              "    </tr>\n",
              "    <tr>\n",
              "      <th>2020-02-26</th>\n",
              "      <td>1.0</td>\n",
              "      <td>0.0</td>\n",
              "      <td>0.0</td>\n",
              "    </tr>\n",
              "    <tr>\n",
              "      <th>...</th>\n",
              "      <th>...</th>\n",
              "      <td>...</td>\n",
              "      <td>...</td>\n",
              "      <td>...</td>\n",
              "    </tr>\n",
              "    <tr>\n",
              "      <th rowspan=\"5\" valign=\"top\">occupied Palestinian territory</th>\n",
              "      <th>2020-03-12</th>\n",
              "      <td>0.0</td>\n",
              "      <td>0.0</td>\n",
              "      <td>0.0</td>\n",
              "    </tr>\n",
              "    <tr>\n",
              "      <th>2020-03-14</th>\n",
              "      <td>0.0</td>\n",
              "      <td>0.0</td>\n",
              "      <td>0.0</td>\n",
              "    </tr>\n",
              "    <tr>\n",
              "      <th>2020-03-15</th>\n",
              "      <td>0.0</td>\n",
              "      <td>0.0</td>\n",
              "      <td>0.0</td>\n",
              "    </tr>\n",
              "    <tr>\n",
              "      <th>2020-03-16</th>\n",
              "      <td>0.0</td>\n",
              "      <td>0.0</td>\n",
              "      <td>0.0</td>\n",
              "    </tr>\n",
              "    <tr>\n",
              "      <th>2020-03-17</th>\n",
              "      <td>0.0</td>\n",
              "      <td>0.0</td>\n",
              "      <td>0.0</td>\n",
              "    </tr>\n",
              "  </tbody>\n",
              "</table>\n",
              "<p>30281 rows × 3 columns</p>\n",
              "</div>"
            ],
            "text/plain": [
              "                                                Confirmed  Deaths  Recovered\n",
              "Country/Region                 ObservationDate                              \n",
              " Azerbaijan                    2020-02-28             1.0     0.0        0.0\n",
              "('St. Martin',)                2020-03-10             2.0     0.0        0.0\n",
              "Afghanistan                    2020-02-24             1.0     0.0        0.0\n",
              "                               2020-02-25             1.0     0.0        0.0\n",
              "                               2020-02-26             1.0     0.0        0.0\n",
              "...                                                   ...     ...        ...\n",
              "occupied Palestinian territory 2020-03-12             0.0     0.0        0.0\n",
              "                               2020-03-14             0.0     0.0        0.0\n",
              "                               2020-03-15             0.0     0.0        0.0\n",
              "                               2020-03-16             0.0     0.0        0.0\n",
              "                               2020-03-17             0.0     0.0        0.0\n",
              "\n",
              "[30281 rows x 3 columns]"
            ]
          },
          "metadata": {
            "tags": []
          },
          "execution_count": 54
        }
      ]
    },
    {
      "cell_type": "markdown",
      "metadata": {
        "id": "-bo4HeNQwwKg",
        "colab_type": "text"
      },
      "source": [
        "### Covid 19 en Brazil"
      ]
    },
    {
      "cell_type": "code",
      "metadata": {
        "id": "6do6ZYQ9wM4d",
        "colab_type": "code",
        "colab": {
          "base_uri": "https://localhost:8080/",
          "height": 431
        },
        "outputId": "f2a77b41-6d0c-45e9-b2b9-9ecfbc37c29d"
      },
      "source": [
        "df_brazil = df_time.loc['Brazil',:]\n",
        "df_brazil"
      ],
      "execution_count": 56,
      "outputs": [
        {
          "output_type": "execute_result",
          "data": {
            "text/html": [
              "<div>\n",
              "<style scoped>\n",
              "    .dataframe tbody tr th:only-of-type {\n",
              "        vertical-align: middle;\n",
              "    }\n",
              "\n",
              "    .dataframe tbody tr th {\n",
              "        vertical-align: top;\n",
              "    }\n",
              "\n",
              "    .dataframe thead th {\n",
              "        text-align: right;\n",
              "    }\n",
              "</style>\n",
              "<table border=\"1\" class=\"dataframe\">\n",
              "  <thead>\n",
              "    <tr style=\"text-align: right;\">\n",
              "      <th></th>\n",
              "      <th>Confirmed</th>\n",
              "      <th>Deaths</th>\n",
              "      <th>Recovered</th>\n",
              "    </tr>\n",
              "    <tr>\n",
              "      <th>ObservationDate</th>\n",
              "      <th></th>\n",
              "      <th></th>\n",
              "      <th></th>\n",
              "    </tr>\n",
              "  </thead>\n",
              "  <tbody>\n",
              "    <tr>\n",
              "      <th>2020-01-23</th>\n",
              "      <td>0.0</td>\n",
              "      <td>0.0</td>\n",
              "      <td>0.0</td>\n",
              "    </tr>\n",
              "    <tr>\n",
              "      <th>2020-02-26</th>\n",
              "      <td>1.0</td>\n",
              "      <td>0.0</td>\n",
              "      <td>0.0</td>\n",
              "    </tr>\n",
              "    <tr>\n",
              "      <th>2020-02-27</th>\n",
              "      <td>1.0</td>\n",
              "      <td>0.0</td>\n",
              "      <td>0.0</td>\n",
              "    </tr>\n",
              "    <tr>\n",
              "      <th>2020-02-28</th>\n",
              "      <td>1.0</td>\n",
              "      <td>0.0</td>\n",
              "      <td>0.0</td>\n",
              "    </tr>\n",
              "    <tr>\n",
              "      <th>2020-02-29</th>\n",
              "      <td>2.0</td>\n",
              "      <td>0.0</td>\n",
              "      <td>0.0</td>\n",
              "    </tr>\n",
              "    <tr>\n",
              "      <th>...</th>\n",
              "      <td>...</td>\n",
              "      <td>...</td>\n",
              "      <td>...</td>\n",
              "    </tr>\n",
              "    <tr>\n",
              "      <th>2020-08-05</th>\n",
              "      <td>2859073.0</td>\n",
              "      <td>97256.0</td>\n",
              "      <td>2190361.0</td>\n",
              "    </tr>\n",
              "    <tr>\n",
              "      <th>2020-08-06</th>\n",
              "      <td>2912212.0</td>\n",
              "      <td>98493.0</td>\n",
              "      <td>2230542.0</td>\n",
              "    </tr>\n",
              "    <tr>\n",
              "      <th>2020-08-07</th>\n",
              "      <td>2962442.0</td>\n",
              "      <td>99572.0</td>\n",
              "      <td>2272299.0</td>\n",
              "    </tr>\n",
              "    <tr>\n",
              "      <th>2020-08-08</th>\n",
              "      <td>3012412.0</td>\n",
              "      <td>100477.0</td>\n",
              "      <td>2321537.0</td>\n",
              "    </tr>\n",
              "    <tr>\n",
              "      <th>2020-08-09</th>\n",
              "      <td>3035422.0</td>\n",
              "      <td>101049.0</td>\n",
              "      <td>2356983.0</td>\n",
              "    </tr>\n",
              "  </tbody>\n",
              "</table>\n",
              "<p>167 rows × 3 columns</p>\n",
              "</div>"
            ],
            "text/plain": [
              "                 Confirmed    Deaths  Recovered\n",
              "ObservationDate                                \n",
              "2020-01-23             0.0       0.0        0.0\n",
              "2020-02-26             1.0       0.0        0.0\n",
              "2020-02-27             1.0       0.0        0.0\n",
              "2020-02-28             1.0       0.0        0.0\n",
              "2020-02-29             2.0       0.0        0.0\n",
              "...                    ...       ...        ...\n",
              "2020-08-05       2859073.0   97256.0  2190361.0\n",
              "2020-08-06       2912212.0   98493.0  2230542.0\n",
              "2020-08-07       2962442.0   99572.0  2272299.0\n",
              "2020-08-08       3012412.0  100477.0  2321537.0\n",
              "2020-08-09       3035422.0  101049.0  2356983.0\n",
              "\n",
              "[167 rows x 3 columns]"
            ]
          },
          "metadata": {
            "tags": []
          },
          "execution_count": 56
        }
      ]
    },
    {
      "cell_type": "code",
      "metadata": {
        "id": "LAXXHYPfw7sC",
        "colab_type": "code",
        "colab": {}
      },
      "source": [
        "import matplotlib.pyplot as plt"
      ],
      "execution_count": 60,
      "outputs": []
    },
    {
      "cell_type": "code",
      "metadata": {
        "id": "ZBGLAVuXweP6",
        "colab_type": "code",
        "colab": {
          "base_uri": "https://localhost:8080/",
          "height": 440
        },
        "outputId": "7c1a73dd-7d5e-4d05-9245-f182a6f57ee6"
      },
      "source": [
        "ax = df_brazil.plot(figsize = (10,7), title = \"COVID-19\",\n",
        "               legend=True,\n",
        "               style=['r-','g--','b:*'])\n",
        "# ax.legend(['1','dos','3'])\n",
        "plt.xlabel('Date')\n",
        "plt.ylabel('People')\n",
        "plt.show()"
      ],
      "execution_count": 100,
      "outputs": [
        {
          "output_type": "display_data",
          "data": {
            "image/png": "[encoded data removed]",
            "text/plain": [
              "<Figure size 720x504 with 1 Axes>"
            ]
          },
          "metadata": {
            "tags": [],
            "needs_background": "light"
          }
        }
      ]
    },
    {
      "cell_type": "code",
      "metadata": {
        "id": "7JGouFToxrDS",
        "colab_type": "code",
        "colab": {
          "base_uri": "https://localhost:8080/",
          "height": 314
        },
        "outputId": "1771dd46-ec59-4d58-b101-81e7ff99c77c"
      },
      "source": [
        "df_monthly = df_brazil.resample('M').max()\n",
        "df_monthly"
      ],
      "execution_count": 67,
      "outputs": [
        {
          "output_type": "execute_result",
          "data": {
            "text/html": [
              "<div>\n",
              "<style scoped>\n",
              "    .dataframe tbody tr th:only-of-type {\n",
              "        vertical-align: middle;\n",
              "    }\n",
              "\n",
              "    .dataframe tbody tr th {\n",
              "        vertical-align: top;\n",
              "    }\n",
              "\n",
              "    .dataframe thead th {\n",
              "        text-align: right;\n",
              "    }\n",
              "</style>\n",
              "<table border=\"1\" class=\"dataframe\">\n",
              "  <thead>\n",
              "    <tr style=\"text-align: right;\">\n",
              "      <th></th>\n",
              "      <th>Confirmed</th>\n",
              "      <th>Deaths</th>\n",
              "      <th>Recovered</th>\n",
              "    </tr>\n",
              "    <tr>\n",
              "      <th>ObservationDate</th>\n",
              "      <th></th>\n",
              "      <th></th>\n",
              "      <th></th>\n",
              "    </tr>\n",
              "  </thead>\n",
              "  <tbody>\n",
              "    <tr>\n",
              "      <th>2020-01-31</th>\n",
              "      <td>0.0</td>\n",
              "      <td>0.0</td>\n",
              "      <td>0.0</td>\n",
              "    </tr>\n",
              "    <tr>\n",
              "      <th>2020-02-29</th>\n",
              "      <td>2.0</td>\n",
              "      <td>0.0</td>\n",
              "      <td>0.0</td>\n",
              "    </tr>\n",
              "    <tr>\n",
              "      <th>2020-03-31</th>\n",
              "      <td>5717.0</td>\n",
              "      <td>201.0</td>\n",
              "      <td>127.0</td>\n",
              "    </tr>\n",
              "    <tr>\n",
              "      <th>2020-04-30</th>\n",
              "      <td>87187.0</td>\n",
              "      <td>6006.0</td>\n",
              "      <td>35935.0</td>\n",
              "    </tr>\n",
              "    <tr>\n",
              "      <th>2020-05-31</th>\n",
              "      <td>514849.0</td>\n",
              "      <td>29314.0</td>\n",
              "      <td>206555.0</td>\n",
              "    </tr>\n",
              "    <tr>\n",
              "      <th>2020-06-30</th>\n",
              "      <td>1402041.0</td>\n",
              "      <td>59594.0</td>\n",
              "      <td>788318.0</td>\n",
              "    </tr>\n",
              "    <tr>\n",
              "      <th>2020-07-31</th>\n",
              "      <td>2662485.0</td>\n",
              "      <td>92475.0</td>\n",
              "      <td>2008854.0</td>\n",
              "    </tr>\n",
              "    <tr>\n",
              "      <th>2020-08-31</th>\n",
              "      <td>3035422.0</td>\n",
              "      <td>101049.0</td>\n",
              "      <td>2356983.0</td>\n",
              "    </tr>\n",
              "  </tbody>\n",
              "</table>\n",
              "</div>"
            ],
            "text/plain": [
              "                 Confirmed    Deaths  Recovered\n",
              "ObservationDate                                \n",
              "2020-01-31             0.0       0.0        0.0\n",
              "2020-02-29             2.0       0.0        0.0\n",
              "2020-03-31          5717.0     201.0      127.0\n",
              "2020-04-30         87187.0    6006.0    35935.0\n",
              "2020-05-31        514849.0   29314.0   206555.0\n",
              "2020-06-30       1402041.0   59594.0   788318.0\n",
              "2020-07-31       2662485.0   92475.0  2008854.0\n",
              "2020-08-31       3035422.0  101049.0  2356983.0"
            ]
          },
          "metadata": {
            "tags": []
          },
          "execution_count": 67
        }
      ]
    },
    {
      "cell_type": "code",
      "metadata": {
        "id": "kwXvel3Sx2W8",
        "colab_type": "code",
        "colab": {
          "base_uri": "https://localhost:8080/",
          "height": 565
        },
        "outputId": "b08f3784-74d2-4de4-b8ba-a8e463e68e6a"
      },
      "source": [
        "df_monthly.plot(figsize = (10,7),kind='bar', stacked=True)"
      ],
      "execution_count": 70,
      "outputs": [
        {
          "output_type": "execute_result",
          "data": {
            "text/plain": [
              "<matplotlib.axes._subplots.AxesSubplot at 0x7efe07aea828>"
            ]
          },
          "metadata": {
            "tags": []
          },
          "execution_count": 70
        },
        {
          "output_type": "display_data",
          "data": {
            "image/png": "[encoded data removed]",
            "text/plain": [
              "<Figure size 720x504 with 1 Axes>"
            ]
          },
          "metadata": {
            "tags": [],
            "needs_background": "light"
          }
        }
      ]
    },
    {
      "cell_type": "code",
      "metadata": {
        "id": "XBWH2XsmyI-c",
        "colab_type": "code",
        "colab": {
          "base_uri": "https://localhost:8080/",
          "height": 314
        },
        "outputId": "cd492b15-5d75-415c-c667-5807c4b56744"
      },
      "source": [
        "df_monthly['Traitment'] = df_monthly['Confirmed'] - df_monthly['Deaths'] - df_monthly['Recovered']\n",
        "df_monthly"
      ],
      "execution_count": 72,
      "outputs": [
        {
          "output_type": "execute_result",
          "data": {
            "text/html": [
              "<div>\n",
              "<style scoped>\n",
              "    .dataframe tbody tr th:only-of-type {\n",
              "        vertical-align: middle;\n",
              "    }\n",
              "\n",
              "    .dataframe tbody tr th {\n",
              "        vertical-align: top;\n",
              "    }\n",
              "\n",
              "    .dataframe thead th {\n",
              "        text-align: right;\n",
              "    }\n",
              "</style>\n",
              "<table border=\"1\" class=\"dataframe\">\n",
              "  <thead>\n",
              "    <tr style=\"text-align: right;\">\n",
              "      <th></th>\n",
              "      <th>Confirmed</th>\n",
              "      <th>Deaths</th>\n",
              "      <th>Recovered</th>\n",
              "      <th>Traitment</th>\n",
              "    </tr>\n",
              "    <tr>\n",
              "      <th>ObservationDate</th>\n",
              "      <th></th>\n",
              "      <th></th>\n",
              "      <th></th>\n",
              "      <th></th>\n",
              "    </tr>\n",
              "  </thead>\n",
              "  <tbody>\n",
              "    <tr>\n",
              "      <th>2020-01-31</th>\n",
              "      <td>0.0</td>\n",
              "      <td>0.0</td>\n",
              "      <td>0.0</td>\n",
              "      <td>0.0</td>\n",
              "    </tr>\n",
              "    <tr>\n",
              "      <th>2020-02-29</th>\n",
              "      <td>2.0</td>\n",
              "      <td>0.0</td>\n",
              "      <td>0.0</td>\n",
              "      <td>2.0</td>\n",
              "    </tr>\n",
              "    <tr>\n",
              "      <th>2020-03-31</th>\n",
              "      <td>5717.0</td>\n",
              "      <td>201.0</td>\n",
              "      <td>127.0</td>\n",
              "      <td>5389.0</td>\n",
              "    </tr>\n",
              "    <tr>\n",
              "      <th>2020-04-30</th>\n",
              "      <td>87187.0</td>\n",
              "      <td>6006.0</td>\n",
              "      <td>35935.0</td>\n",
              "      <td>45246.0</td>\n",
              "    </tr>\n",
              "    <tr>\n",
              "      <th>2020-05-31</th>\n",
              "      <td>514849.0</td>\n",
              "      <td>29314.0</td>\n",
              "      <td>206555.0</td>\n",
              "      <td>278980.0</td>\n",
              "    </tr>\n",
              "    <tr>\n",
              "      <th>2020-06-30</th>\n",
              "      <td>1402041.0</td>\n",
              "      <td>59594.0</td>\n",
              "      <td>788318.0</td>\n",
              "      <td>554129.0</td>\n",
              "    </tr>\n",
              "    <tr>\n",
              "      <th>2020-07-31</th>\n",
              "      <td>2662485.0</td>\n",
              "      <td>92475.0</td>\n",
              "      <td>2008854.0</td>\n",
              "      <td>561156.0</td>\n",
              "    </tr>\n",
              "    <tr>\n",
              "      <th>2020-08-31</th>\n",
              "      <td>3035422.0</td>\n",
              "      <td>101049.0</td>\n",
              "      <td>2356983.0</td>\n",
              "      <td>577390.0</td>\n",
              "    </tr>\n",
              "  </tbody>\n",
              "</table>\n",
              "</div>"
            ],
            "text/plain": [
              "                 Confirmed    Deaths  Recovered  Traitment\n",
              "ObservationDate                                           \n",
              "2020-01-31             0.0       0.0        0.0        0.0\n",
              "2020-02-29             2.0       0.0        0.0        2.0\n",
              "2020-03-31          5717.0     201.0      127.0     5389.0\n",
              "2020-04-30         87187.0    6006.0    35935.0    45246.0\n",
              "2020-05-31        514849.0   29314.0   206555.0   278980.0\n",
              "2020-06-30       1402041.0   59594.0   788318.0   554129.0\n",
              "2020-07-31       2662485.0   92475.0  2008854.0   561156.0\n",
              "2020-08-31       3035422.0  101049.0  2356983.0   577390.0"
            ]
          },
          "metadata": {
            "tags": []
          },
          "execution_count": 72
        }
      ]
    },
    {
      "cell_type": "code",
      "metadata": {
        "id": "F4ZE-uo_ycNa",
        "colab_type": "code",
        "colab": {
          "base_uri": "https://localhost:8080/",
          "height": 474
        },
        "outputId": "f32a2867-0f74-4d56-9312-dab65019bf8c"
      },
      "source": [
        "df_monthly[['Deaths', 'Recovered','Traitment']].plot(figsize=(30,40), kind='pie', subplots=True)"
      ],
      "execution_count": 94,
      "outputs": [
        {
          "output_type": "execute_result",
          "data": {
            "text/plain": [
              "array([<matplotlib.axes._subplots.AxesSubplot object at 0x7efe04a6a048>,\n",
              "       <matplotlib.axes._subplots.AxesSubplot object at 0x7efe04a9ea58>,\n",
              "       <matplotlib.axes._subplots.AxesSubplot object at 0x7efe04a54a58>],\n",
              "      dtype=object)"
            ]
          },
          "metadata": {
            "tags": []
          },
          "execution_count": 94
        },
        {
          "output_type": "display_data",
          "data": {
            "image/png": "[encoded data removed]",
            "text/plain": [
              "<Figure size 2160x2880 with 3 Axes>"
            ]
          },
          "metadata": {
            "tags": []
          }
        }
      ]
    },
    {
      "cell_type": "code",
      "metadata": {
        "id": "fgPcjJ5Kz8fo",
        "colab_type": "code",
        "colab": {
          "base_uri": "https://localhost:8080/",
          "height": 445
        },
        "outputId": "12c1bd21-3f6c-4636-a8b2-fbd8bc520879"
      },
      "source": [
        "df_brazil['rate'] = 1 - df_brazil['Deaths']/df_brazil['Confirmed']\n",
        "df_brazil['rate'].hist(figsize=(10,7), bins= 10)"
      ],
      "execution_count": 97,
      "outputs": [
        {
          "output_type": "execute_result",
          "data": {
            "text/plain": [
              "<matplotlib.axes._subplots.AxesSubplot at 0x7efe048abcc0>"
            ]
          },
          "metadata": {
            "tags": []
          },
          "execution_count": 97
        },
        {
          "output_type": "display_data",
          "data": {
            "image/png": "[encoded data removed]",
            "text/plain": [
              "<Figure size 720x504 with 1 Axes>"
            ]
          },
          "metadata": {
            "tags": [],
            "needs_background": "light"
          }
        }
      ]
    },
    {
      "cell_type": "code",
      "metadata": {
        "id": "xB9pqGqF0ag9",
        "colab_type": "code",
        "colab": {
          "base_uri": "https://localhost:8080/",
          "height": 445
        },
        "outputId": "6b06af85-23ea-4086-d404-d4ac943c0ac9"
      },
      "source": [
        "df_brazil['rate'].hist(figsize=(10,7), bins= 10, density=True)"
      ],
      "execution_count": 99,
      "outputs": [
        {
          "output_type": "execute_result",
          "data": {
            "text/plain": [
              "<matplotlib.axes._subplots.AxesSubplot at 0x7efe047bd6a0>"
            ]
          },
          "metadata": {
            "tags": []
          },
          "execution_count": 99
        },
        {
          "output_type": "display_data",
          "data": {
            "image/png": "[encoded data removed]",
            "text/plain": [
              "<Figure size 720x504 with 1 Axes>"
            ]
          },
          "metadata": {
            "tags": [],
            "needs_background": "light"
          }
        }
      ]
    }
  ]
}