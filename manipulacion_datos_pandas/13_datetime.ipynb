{
  "nbformat": 4,
  "nbformat_minor": 0,
  "metadata": {
    "colab": {
      "name": "13_datetime.ipynb",
      "provenance": [],
      "authorship_tag": "ABX9TyPULllgONjwvDjAR8jyNZGz",
      "include_colab_link": true
    },
    "kernelspec": {
      "name": "python3",
      "display_name": "Python 3"
    }
  },
  "cells": [
    {
      "cell_type": "markdown",
      "metadata": {
        "id": "view-in-github",
        "colab_type": "text"
      },
      "source": [
        "<a href=\"https://colab.research.google.com/github/cristian-rincon/escuela-datascience/blob/master/manipulacion_datos_pandas/13_datetime.ipynb\" target=\"_parent\"><img src=\"https://colab.research.google.com/assets/colab-badge.svg\" alt=\"Open In Colab\"/></a>"
      ]
    },
    {
      "cell_type": "code",
      "metadata": {
        "id": "bX17MeISOqlc",
        "colab_type": "code",
        "colab": {
          "base_uri": "https://localhost:8080/",
          "height": 120
        },
        "outputId": "6ae5e87e-7ab6-4fc9-8817-cb21af37c8d3"
      },
      "source": [
        "from google.colab import drive\n",
        "drive.mount('/content/drive/')"
      ],
      "execution_count": 1,
      "outputs": [
        {
          "output_type": "stream",
          "text": [
            "Go to this URL in a browser: https://accounts.google.com/o/oauth2/auth?client_id=947318989803-6bn6qk8qdgf4n4g3pfee6491hc0brc4i.apps.googleusercontent.com&redirect_uri=urn%3aietf%3awg%3aoauth%3a2.0%3aoob&scope=email%20https%3a%2f%2fwww.googleapis.com%2fauth%2fdocs.test%20https%3a%2f%2fwww.googleapis.com%2fauth%2fdrive%20https%3a%2f%2fwww.googleapis.com%2fauth%2fdrive.photos.readonly%20https%3a%2f%2fwww.googleapis.com%2fauth%2fpeopleapi.readonly&response_type=code\n",
            "\n",
            "Enter your authorization code:\n",
            "··········\n",
            "Mounted at /content/drive/\n"
          ],
          "name": "stdout"
        }
      ]
    },
    {
      "cell_type": "code",
      "metadata": {
        "id": "KE8imzeCO85U",
        "colab_type": "code",
        "colab": {
          "base_uri": "https://localhost:8080/",
          "height": 100
        },
        "outputId": "0b5410b2-ba5f-4f89-a2f5-deaa8004782d"
      },
      "source": [
        "%cd '/content/drive/My Drive/Colab Notebooks/db'\n",
        "!ls"
      ],
      "execution_count": 2,
      "outputs": [
        {
          "output_type": "stream",
          "text": [
            "/content/drive/My Drive/Colab Notebooks/db\n",
            "API_SP.POP.TOTL_DS2_en_csv_v2_1308146  poblacion.csv  test.parquet\n",
            "covid_19_data.csv\t\t       test.csv       test.pkl\n",
            "dataset_london_bikeshare.csv\t       test.hdf       test.xlsx\n",
            "Meteorite_Landings.csv\t\t       test.json\n"
          ],
          "name": "stdout"
        }
      ]
    },
    {
      "cell_type": "code",
      "metadata": {
        "id": "8F0QCY73PHTO",
        "colab_type": "code",
        "colab": {
          "base_uri": "https://localhost:8080/",
          "height": 34
        },
        "outputId": "e7d42781-30d6-4320-c813-c9ac358a2c1f"
      },
      "source": [
        "import pandas as pd\n",
        "pd.__version__"
      ],
      "execution_count": 3,
      "outputs": [
        {
          "output_type": "execute_result",
          "data": {
            "application/vnd.google.colaboratory.intrinsic+json": {
              "type": "string"
            },
            "text/plain": [
              "'1.0.5'"
            ]
          },
          "metadata": {
            "tags": []
          },
          "execution_count": 3
        }
      ]
    },
    {
      "cell_type": "code",
      "metadata": {
        "id": "Fah1qv_uPME_",
        "colab_type": "code",
        "colab": {
          "base_uri": "https://localhost:8080/",
          "height": 150
        },
        "outputId": "142678a8-23e7-4b2a-b9b2-db9e7ad707ed"
      },
      "source": [
        "df = pd.read_csv('covid_19_data.csv')\n",
        "df.sample(10)\n",
        "df['ObservationDate'] = pd.to_datetime(df['ObservationDate'])\n",
        "list(df)"
      ],
      "execution_count": 6,
      "outputs": [
        {
          "output_type": "execute_result",
          "data": {
            "text/plain": [
              "['SNo',\n",
              " 'ObservationDate',\n",
              " 'Province/State',\n",
              " 'Country/Region',\n",
              " 'Last Update',\n",
              " 'Confirmed',\n",
              " 'Deaths',\n",
              " 'Recovered']"
            ]
          },
          "metadata": {
            "tags": []
          },
          "execution_count": 6
        }
      ]
    },
    {
      "cell_type": "code",
      "metadata": {
        "id": "hFMfPeq1PjWv",
        "colab_type": "code",
        "colab": {
          "base_uri": "https://localhost:8080/",
          "height": 406
        },
        "outputId": "9a23ca1b-3e82-4943-937c-a09cead4d009"
      },
      "source": [
        "df = df[[\n",
        " 'ObservationDate',\n",
        " 'Country/Region',\n",
        " 'Confirmed',\n",
        " 'Deaths',\n",
        " 'Recovered']]\n",
        "\n",
        "df"
      ],
      "execution_count": 7,
      "outputs": [
        {
          "output_type": "execute_result",
          "data": {
            "text/html": [
              "<div>\n",
              "<style scoped>\n",
              "    .dataframe tbody tr th:only-of-type {\n",
              "        vertical-align: middle;\n",
              "    }\n",
              "\n",
              "    .dataframe tbody tr th {\n",
              "        vertical-align: top;\n",
              "    }\n",
              "\n",
              "    .dataframe thead th {\n",
              "        text-align: right;\n",
              "    }\n",
              "</style>\n",
              "<table border=\"1\" class=\"dataframe\">\n",
              "  <thead>\n",
              "    <tr style=\"text-align: right;\">\n",
              "      <th></th>\n",
              "      <th>ObservationDate</th>\n",
              "      <th>Country/Region</th>\n",
              "      <th>Confirmed</th>\n",
              "      <th>Deaths</th>\n",
              "      <th>Recovered</th>\n",
              "    </tr>\n",
              "  </thead>\n",
              "  <tbody>\n",
              "    <tr>\n",
              "      <th>0</th>\n",
              "      <td>2020-01-22</td>\n",
              "      <td>Mainland China</td>\n",
              "      <td>1.0</td>\n",
              "      <td>0.0</td>\n",
              "      <td>0.0</td>\n",
              "    </tr>\n",
              "    <tr>\n",
              "      <th>1</th>\n",
              "      <td>2020-01-22</td>\n",
              "      <td>Mainland China</td>\n",
              "      <td>14.0</td>\n",
              "      <td>0.0</td>\n",
              "      <td>0.0</td>\n",
              "    </tr>\n",
              "    <tr>\n",
              "      <th>2</th>\n",
              "      <td>2020-01-22</td>\n",
              "      <td>Mainland China</td>\n",
              "      <td>6.0</td>\n",
              "      <td>0.0</td>\n",
              "      <td>0.0</td>\n",
              "    </tr>\n",
              "    <tr>\n",
              "      <th>3</th>\n",
              "      <td>2020-01-22</td>\n",
              "      <td>Mainland China</td>\n",
              "      <td>1.0</td>\n",
              "      <td>0.0</td>\n",
              "      <td>0.0</td>\n",
              "    </tr>\n",
              "    <tr>\n",
              "      <th>4</th>\n",
              "      <td>2020-01-22</td>\n",
              "      <td>Mainland China</td>\n",
              "      <td>0.0</td>\n",
              "      <td>0.0</td>\n",
              "      <td>0.0</td>\n",
              "    </tr>\n",
              "    <tr>\n",
              "      <th>...</th>\n",
              "      <td>...</td>\n",
              "      <td>...</td>\n",
              "      <td>...</td>\n",
              "      <td>...</td>\n",
              "      <td>...</td>\n",
              "    </tr>\n",
              "    <tr>\n",
              "      <th>83406</th>\n",
              "      <td>2020-08-09</td>\n",
              "      <td>Ukraine</td>\n",
              "      <td>937.0</td>\n",
              "      <td>22.0</td>\n",
              "      <td>652.0</td>\n",
              "    </tr>\n",
              "    <tr>\n",
              "      <th>83407</th>\n",
              "      <td>2020-08-09</td>\n",
              "      <td>Netherlands</td>\n",
              "      <td>918.0</td>\n",
              "      <td>69.0</td>\n",
              "      <td>0.0</td>\n",
              "    </tr>\n",
              "    <tr>\n",
              "      <th>83408</th>\n",
              "      <td>2020-08-09</td>\n",
              "      <td>Mainland China</td>\n",
              "      <td>1273.0</td>\n",
              "      <td>1.0</td>\n",
              "      <td>1268.0</td>\n",
              "    </tr>\n",
              "    <tr>\n",
              "      <th>83409</th>\n",
              "      <td>2020-08-09</td>\n",
              "      <td>Ukraine</td>\n",
              "      <td>2131.0</td>\n",
              "      <td>41.0</td>\n",
              "      <td>1524.0</td>\n",
              "    </tr>\n",
              "    <tr>\n",
              "      <th>83410</th>\n",
              "      <td>2020-08-09</td>\n",
              "      <td>Netherlands</td>\n",
              "      <td>14931.0</td>\n",
              "      <td>1312.0</td>\n",
              "      <td>0.0</td>\n",
              "    </tr>\n",
              "  </tbody>\n",
              "</table>\n",
              "<p>83411 rows × 5 columns</p>\n",
              "</div>"
            ],
            "text/plain": [
              "      ObservationDate  Country/Region  Confirmed  Deaths  Recovered\n",
              "0          2020-01-22  Mainland China        1.0     0.0        0.0\n",
              "1          2020-01-22  Mainland China       14.0     0.0        0.0\n",
              "2          2020-01-22  Mainland China        6.0     0.0        0.0\n",
              "3          2020-01-22  Mainland China        1.0     0.0        0.0\n",
              "4          2020-01-22  Mainland China        0.0     0.0        0.0\n",
              "...               ...             ...        ...     ...        ...\n",
              "83406      2020-08-09         Ukraine      937.0    22.0      652.0\n",
              "83407      2020-08-09     Netherlands      918.0    69.0        0.0\n",
              "83408      2020-08-09  Mainland China     1273.0     1.0     1268.0\n",
              "83409      2020-08-09         Ukraine     2131.0    41.0     1524.0\n",
              "83410      2020-08-09     Netherlands    14931.0  1312.0        0.0\n",
              "\n",
              "[83411 rows x 5 columns]"
            ]
          },
          "metadata": {
            "tags": []
          },
          "execution_count": 7
        }
      ]
    },
    {
      "cell_type": "code",
      "metadata": {
        "id": "V6w9i_mRP2hD",
        "colab_type": "code",
        "colab": {
          "base_uri": "https://localhost:8080/",
          "height": 227
        },
        "outputId": "e5886941-3bf0-4418-c8f8-e9397258f95c"
      },
      "source": [
        "df_time = df.groupby('ObservationDate').sum()\n",
        "df_time.head(5)"
      ],
      "execution_count": 9,
      "outputs": [
        {
          "output_type": "execute_result",
          "data": {
            "text/html": [
              "<div>\n",
              "<style scoped>\n",
              "    .dataframe tbody tr th:only-of-type {\n",
              "        vertical-align: middle;\n",
              "    }\n",
              "\n",
              "    .dataframe tbody tr th {\n",
              "        vertical-align: top;\n",
              "    }\n",
              "\n",
              "    .dataframe thead th {\n",
              "        text-align: right;\n",
              "    }\n",
              "</style>\n",
              "<table border=\"1\" class=\"dataframe\">\n",
              "  <thead>\n",
              "    <tr style=\"text-align: right;\">\n",
              "      <th></th>\n",
              "      <th>Confirmed</th>\n",
              "      <th>Deaths</th>\n",
              "      <th>Recovered</th>\n",
              "    </tr>\n",
              "    <tr>\n",
              "      <th>ObservationDate</th>\n",
              "      <th></th>\n",
              "      <th></th>\n",
              "      <th></th>\n",
              "    </tr>\n",
              "  </thead>\n",
              "  <tbody>\n",
              "    <tr>\n",
              "      <th>2020-01-22</th>\n",
              "      <td>555.0</td>\n",
              "      <td>17.0</td>\n",
              "      <td>28.0</td>\n",
              "    </tr>\n",
              "    <tr>\n",
              "      <th>2020-01-23</th>\n",
              "      <td>653.0</td>\n",
              "      <td>18.0</td>\n",
              "      <td>30.0</td>\n",
              "    </tr>\n",
              "    <tr>\n",
              "      <th>2020-01-24</th>\n",
              "      <td>941.0</td>\n",
              "      <td>26.0</td>\n",
              "      <td>36.0</td>\n",
              "    </tr>\n",
              "    <tr>\n",
              "      <th>2020-01-25</th>\n",
              "      <td>1438.0</td>\n",
              "      <td>42.0</td>\n",
              "      <td>39.0</td>\n",
              "    </tr>\n",
              "    <tr>\n",
              "      <th>2020-01-26</th>\n",
              "      <td>2118.0</td>\n",
              "      <td>56.0</td>\n",
              "      <td>52.0</td>\n",
              "    </tr>\n",
              "  </tbody>\n",
              "</table>\n",
              "</div>"
            ],
            "text/plain": [
              "                 Confirmed  Deaths  Recovered\n",
              "ObservationDate                              \n",
              "2020-01-22           555.0    17.0       28.0\n",
              "2020-01-23           653.0    18.0       30.0\n",
              "2020-01-24           941.0    26.0       36.0\n",
              "2020-01-25          1438.0    42.0       39.0\n",
              "2020-01-26          2118.0    56.0       52.0"
            ]
          },
          "metadata": {
            "tags": []
          },
          "execution_count": 9
        }
      ]
    },
    {
      "cell_type": "code",
      "metadata": {
        "id": "vg9M6Sv2QO7R",
        "colab_type": "code",
        "colab": {
          "base_uri": "https://localhost:8080/",
          "height": 133
        },
        "outputId": "c2d39081-4a9e-4030-da10-b1a0702ba5d0"
      },
      "source": [
        "df1 = df_time['Confirmed'].iloc[10:15]\n",
        "df1"
      ],
      "execution_count": 10,
      "outputs": [
        {
          "output_type": "execute_result",
          "data": {
            "text/plain": [
              "ObservationDate\n",
              "2020-02-01    12038.0\n",
              "2020-02-02    16787.0\n",
              "2020-02-03    19881.0\n",
              "2020-02-04    23892.0\n",
              "2020-02-05    27636.0\n",
              "Name: Confirmed, dtype: float64"
            ]
          },
          "metadata": {
            "tags": []
          },
          "execution_count": 10
        }
      ]
    },
    {
      "cell_type": "code",
      "metadata": {
        "id": "2FfH089NQU4i",
        "colab_type": "code",
        "colab": {
          "base_uri": "https://localhost:8080/",
          "height": 133
        },
        "outputId": "fba7161c-bb61-4e75-f57c-7bf07053c654"
      },
      "source": [
        "df2 = df_time['Deaths'].iloc[12:17]\n",
        "df2"
      ],
      "execution_count": 14,
      "outputs": [
        {
          "output_type": "execute_result",
          "data": {
            "text/plain": [
              "ObservationDate\n",
              "2020-02-03    426.0\n",
              "2020-02-04    492.0\n",
              "2020-02-05    564.0\n",
              "2020-02-06    634.0\n",
              "2020-02-07    719.0\n",
              "Name: Deaths, dtype: float64"
            ]
          },
          "metadata": {
            "tags": []
          },
          "execution_count": 14
        }
      ]
    },
    {
      "cell_type": "code",
      "metadata": {
        "id": "q9ttmAlXQpTh",
        "colab_type": "code",
        "colab": {
          "base_uri": "https://localhost:8080/",
          "height": 166
        },
        "outputId": "59800710-a5d1-4fc9-b61f-4832a29c85f6"
      },
      "source": [
        "df1 - df2"
      ],
      "execution_count": 15,
      "outputs": [
        {
          "output_type": "execute_result",
          "data": {
            "text/plain": [
              "ObservationDate\n",
              "2020-02-01        NaN\n",
              "2020-02-02        NaN\n",
              "2020-02-03    19455.0\n",
              "2020-02-04    23400.0\n",
              "2020-02-05    27072.0\n",
              "2020-02-06        NaN\n",
              "2020-02-07        NaN\n",
              "dtype: float64"
            ]
          },
          "metadata": {
            "tags": []
          },
          "execution_count": 15
        }
      ]
    },
    {
      "cell_type": "code",
      "metadata": {
        "id": "WPG5l_zDRG_F",
        "colab_type": "code",
        "colab": {
          "base_uri": "https://localhost:8080/",
          "height": 436
        },
        "outputId": "acc0880b-a639-43d9-b6c1-6ff193c6f967"
      },
      "source": [
        "df_time"
      ],
      "execution_count": 17,
      "outputs": [
        {
          "output_type": "execute_result",
          "data": {
            "text/html": [
              "<div>\n",
              "<style scoped>\n",
              "    .dataframe tbody tr th:only-of-type {\n",
              "        vertical-align: middle;\n",
              "    }\n",
              "\n",
              "    .dataframe tbody tr th {\n",
              "        vertical-align: top;\n",
              "    }\n",
              "\n",
              "    .dataframe thead th {\n",
              "        text-align: right;\n",
              "    }\n",
              "</style>\n",
              "<table border=\"1\" class=\"dataframe\">\n",
              "  <thead>\n",
              "    <tr style=\"text-align: right;\">\n",
              "      <th></th>\n",
              "      <th>Confirmed</th>\n",
              "      <th>Deaths</th>\n",
              "      <th>Recovered</th>\n",
              "    </tr>\n",
              "    <tr>\n",
              "      <th>ObservationDate</th>\n",
              "      <th></th>\n",
              "      <th></th>\n",
              "      <th></th>\n",
              "    </tr>\n",
              "  </thead>\n",
              "  <tbody>\n",
              "    <tr>\n",
              "      <th>2020-01-22</th>\n",
              "      <td>555.0</td>\n",
              "      <td>17.0</td>\n",
              "      <td>28.0</td>\n",
              "    </tr>\n",
              "    <tr>\n",
              "      <th>2020-01-23</th>\n",
              "      <td>653.0</td>\n",
              "      <td>18.0</td>\n",
              "      <td>30.0</td>\n",
              "    </tr>\n",
              "    <tr>\n",
              "      <th>2020-01-24</th>\n",
              "      <td>941.0</td>\n",
              "      <td>26.0</td>\n",
              "      <td>36.0</td>\n",
              "    </tr>\n",
              "    <tr>\n",
              "      <th>2020-01-25</th>\n",
              "      <td>1438.0</td>\n",
              "      <td>42.0</td>\n",
              "      <td>39.0</td>\n",
              "    </tr>\n",
              "    <tr>\n",
              "      <th>2020-01-26</th>\n",
              "      <td>2118.0</td>\n",
              "      <td>56.0</td>\n",
              "      <td>52.0</td>\n",
              "    </tr>\n",
              "    <tr>\n",
              "      <th>...</th>\n",
              "      <td>...</td>\n",
              "      <td>...</td>\n",
              "      <td>...</td>\n",
              "    </tr>\n",
              "    <tr>\n",
              "      <th>2020-08-05</th>\n",
              "      <td>18811953.0</td>\n",
              "      <td>707820.0</td>\n",
              "      <td>11356275.0</td>\n",
              "    </tr>\n",
              "    <tr>\n",
              "      <th>2020-08-06</th>\n",
              "      <td>19097149.0</td>\n",
              "      <td>714940.0</td>\n",
              "      <td>11545401.0</td>\n",
              "    </tr>\n",
              "    <tr>\n",
              "      <th>2020-08-07</th>\n",
              "      <td>19378036.0</td>\n",
              "      <td>721324.0</td>\n",
              "      <td>11737927.0</td>\n",
              "    </tr>\n",
              "    <tr>\n",
              "      <th>2020-08-08</th>\n",
              "      <td>19637506.0</td>\n",
              "      <td>726781.0</td>\n",
              "      <td>11939109.0</td>\n",
              "    </tr>\n",
              "    <tr>\n",
              "      <th>2020-08-09</th>\n",
              "      <td>19861683.0</td>\n",
              "      <td>731326.0</td>\n",
              "      <td>12115825.0</td>\n",
              "    </tr>\n",
              "  </tbody>\n",
              "</table>\n",
              "<p>201 rows × 3 columns</p>\n",
              "</div>"
            ],
            "text/plain": [
              "                  Confirmed    Deaths   Recovered\n",
              "ObservationDate                                  \n",
              "2020-01-22            555.0      17.0        28.0\n",
              "2020-01-23            653.0      18.0        30.0\n",
              "2020-01-24            941.0      26.0        36.0\n",
              "2020-01-25           1438.0      42.0        39.0\n",
              "2020-01-26           2118.0      56.0        52.0\n",
              "...                     ...       ...         ...\n",
              "2020-08-05       18811953.0  707820.0  11356275.0\n",
              "2020-08-06       19097149.0  714940.0  11545401.0\n",
              "2020-08-07       19378036.0  721324.0  11737927.0\n",
              "2020-08-08       19637506.0  726781.0  11939109.0\n",
              "2020-08-09       19861683.0  731326.0  12115825.0\n",
              "\n",
              "[201 rows x 3 columns]"
            ]
          },
          "metadata": {
            "tags": []
          },
          "execution_count": 17
        }
      ]
    },
    {
      "cell_type": "code",
      "metadata": {
        "id": "8DKqWNrLRPKY",
        "colab_type": "code",
        "colab": {
          "base_uri": "https://localhost:8080/",
          "height": 83
        },
        "outputId": "71d95a4d-c849-494d-dedd-174470d8647d"
      },
      "source": [
        "df_time.diff().mean()"
      ],
      "execution_count": 19,
      "outputs": [
        {
          "output_type": "execute_result",
          "data": {
            "text/plain": [
              "Confirmed    99305.640\n",
              "Deaths        3656.545\n",
              "Recovered    60578.985\n",
              "dtype: float64"
            ]
          },
          "metadata": {
            "tags": []
          },
          "execution_count": 19
        }
      ]
    },
    {
      "cell_type": "code",
      "metadata": {
        "id": "iHY77d9bRYek",
        "colab_type": "code",
        "colab": {
          "base_uri": "https://localhost:8080/",
          "height": 436
        },
        "outputId": "d8d687cc-3fe3-4129-a1c2-c5ff194641d6"
      },
      "source": [
        "df_diff = df_time.diff()\n",
        "df_diff"
      ],
      "execution_count": 21,
      "outputs": [
        {
          "output_type": "execute_result",
          "data": {
            "text/html": [
              "<div>\n",
              "<style scoped>\n",
              "    .dataframe tbody tr th:only-of-type {\n",
              "        vertical-align: middle;\n",
              "    }\n",
              "\n",
              "    .dataframe tbody tr th {\n",
              "        vertical-align: top;\n",
              "    }\n",
              "\n",
              "    .dataframe thead th {\n",
              "        text-align: right;\n",
              "    }\n",
              "</style>\n",
              "<table border=\"1\" class=\"dataframe\">\n",
              "  <thead>\n",
              "    <tr style=\"text-align: right;\">\n",
              "      <th></th>\n",
              "      <th>Confirmed</th>\n",
              "      <th>Deaths</th>\n",
              "      <th>Recovered</th>\n",
              "    </tr>\n",
              "    <tr>\n",
              "      <th>ObservationDate</th>\n",
              "      <th></th>\n",
              "      <th></th>\n",
              "      <th></th>\n",
              "    </tr>\n",
              "  </thead>\n",
              "  <tbody>\n",
              "    <tr>\n",
              "      <th>2020-01-22</th>\n",
              "      <td>NaN</td>\n",
              "      <td>NaN</td>\n",
              "      <td>NaN</td>\n",
              "    </tr>\n",
              "    <tr>\n",
              "      <th>2020-01-23</th>\n",
              "      <td>98.0</td>\n",
              "      <td>1.0</td>\n",
              "      <td>2.0</td>\n",
              "    </tr>\n",
              "    <tr>\n",
              "      <th>2020-01-24</th>\n",
              "      <td>288.0</td>\n",
              "      <td>8.0</td>\n",
              "      <td>6.0</td>\n",
              "    </tr>\n",
              "    <tr>\n",
              "      <th>2020-01-25</th>\n",
              "      <td>497.0</td>\n",
              "      <td>16.0</td>\n",
              "      <td>3.0</td>\n",
              "    </tr>\n",
              "    <tr>\n",
              "      <th>2020-01-26</th>\n",
              "      <td>680.0</td>\n",
              "      <td>14.0</td>\n",
              "      <td>13.0</td>\n",
              "    </tr>\n",
              "    <tr>\n",
              "      <th>...</th>\n",
              "      <td>...</td>\n",
              "      <td>...</td>\n",
              "      <td>...</td>\n",
              "    </tr>\n",
              "    <tr>\n",
              "      <th>2020-08-05</th>\n",
              "      <td>271164.0</td>\n",
              "      <td>7084.0</td>\n",
              "      <td>221540.0</td>\n",
              "    </tr>\n",
              "    <tr>\n",
              "      <th>2020-08-06</th>\n",
              "      <td>285196.0</td>\n",
              "      <td>7120.0</td>\n",
              "      <td>189126.0</td>\n",
              "    </tr>\n",
              "    <tr>\n",
              "      <th>2020-08-07</th>\n",
              "      <td>280887.0</td>\n",
              "      <td>6384.0</td>\n",
              "      <td>192526.0</td>\n",
              "    </tr>\n",
              "    <tr>\n",
              "      <th>2020-08-08</th>\n",
              "      <td>259470.0</td>\n",
              "      <td>5457.0</td>\n",
              "      <td>201182.0</td>\n",
              "    </tr>\n",
              "    <tr>\n",
              "      <th>2020-08-09</th>\n",
              "      <td>224177.0</td>\n",
              "      <td>4545.0</td>\n",
              "      <td>176716.0</td>\n",
              "    </tr>\n",
              "  </tbody>\n",
              "</table>\n",
              "<p>201 rows × 3 columns</p>\n",
              "</div>"
            ],
            "text/plain": [
              "                 Confirmed  Deaths  Recovered\n",
              "ObservationDate                              \n",
              "2020-01-22             NaN     NaN        NaN\n",
              "2020-01-23            98.0     1.0        2.0\n",
              "2020-01-24           288.0     8.0        6.0\n",
              "2020-01-25           497.0    16.0        3.0\n",
              "2020-01-26           680.0    14.0       13.0\n",
              "...                    ...     ...        ...\n",
              "2020-08-05        271164.0  7084.0   221540.0\n",
              "2020-08-06        285196.0  7120.0   189126.0\n",
              "2020-08-07        280887.0  6384.0   192526.0\n",
              "2020-08-08        259470.0  5457.0   201182.0\n",
              "2020-08-09        224177.0  4545.0   176716.0\n",
              "\n",
              "[201 rows x 3 columns]"
            ]
          },
          "metadata": {
            "tags": []
          },
          "execution_count": 21
        }
      ]
    },
    {
      "cell_type": "code",
      "metadata": {
        "id": "SV_FJVofRf5o",
        "colab_type": "code",
        "colab": {
          "base_uri": "https://localhost:8080/",
          "height": 66
        },
        "outputId": "115c4c9a-4d73-4ba4-c2f5-c98a85d0526d"
      },
      "source": [
        "df_time.head(1).to_dict()"
      ],
      "execution_count": 25,
      "outputs": [
        {
          "output_type": "execute_result",
          "data": {
            "text/plain": [
              "{'Confirmed': {Timestamp('2020-01-22 00:00:00'): 555.0},\n",
              " 'Deaths': {Timestamp('2020-01-22 00:00:00'): 17.0},\n",
              " 'Recovered': {Timestamp('2020-01-22 00:00:00'): 28.0}}"
            ]
          },
          "metadata": {
            "tags": []
          },
          "execution_count": 25
        }
      ]
    },
    {
      "cell_type": "code",
      "metadata": {
        "id": "Sd1SdyXSRxs4",
        "colab_type": "code",
        "colab": {}
      },
      "source": [
        "df_diff = df_diff.fillna({'Confirmed':  555.0,\n",
        " 'Deaths': 17.0,\n",
        " 'Recovered': 28.0})"
      ],
      "execution_count": 27,
      "outputs": []
    },
    {
      "cell_type": "code",
      "metadata": {
        "id": "rpK5R1tRSJI2",
        "colab_type": "code",
        "colab": {
          "base_uri": "https://localhost:8080/",
          "height": 436
        },
        "outputId": "3291ee32-2092-4650-eb72-8dc02584ddd7"
      },
      "source": [
        "df_diff"
      ],
      "execution_count": 28,
      "outputs": [
        {
          "output_type": "execute_result",
          "data": {
            "text/html": [
              "<div>\n",
              "<style scoped>\n",
              "    .dataframe tbody tr th:only-of-type {\n",
              "        vertical-align: middle;\n",
              "    }\n",
              "\n",
              "    .dataframe tbody tr th {\n",
              "        vertical-align: top;\n",
              "    }\n",
              "\n",
              "    .dataframe thead th {\n",
              "        text-align: right;\n",
              "    }\n",
              "</style>\n",
              "<table border=\"1\" class=\"dataframe\">\n",
              "  <thead>\n",
              "    <tr style=\"text-align: right;\">\n",
              "      <th></th>\n",
              "      <th>Confirmed</th>\n",
              "      <th>Deaths</th>\n",
              "      <th>Recovered</th>\n",
              "    </tr>\n",
              "    <tr>\n",
              "      <th>ObservationDate</th>\n",
              "      <th></th>\n",
              "      <th></th>\n",
              "      <th></th>\n",
              "    </tr>\n",
              "  </thead>\n",
              "  <tbody>\n",
              "    <tr>\n",
              "      <th>2020-01-22</th>\n",
              "      <td>555.0</td>\n",
              "      <td>17.0</td>\n",
              "      <td>28.0</td>\n",
              "    </tr>\n",
              "    <tr>\n",
              "      <th>2020-01-23</th>\n",
              "      <td>98.0</td>\n",
              "      <td>1.0</td>\n",
              "      <td>2.0</td>\n",
              "    </tr>\n",
              "    <tr>\n",
              "      <th>2020-01-24</th>\n",
              "      <td>288.0</td>\n",
              "      <td>8.0</td>\n",
              "      <td>6.0</td>\n",
              "    </tr>\n",
              "    <tr>\n",
              "      <th>2020-01-25</th>\n",
              "      <td>497.0</td>\n",
              "      <td>16.0</td>\n",
              "      <td>3.0</td>\n",
              "    </tr>\n",
              "    <tr>\n",
              "      <th>2020-01-26</th>\n",
              "      <td>680.0</td>\n",
              "      <td>14.0</td>\n",
              "      <td>13.0</td>\n",
              "    </tr>\n",
              "    <tr>\n",
              "      <th>...</th>\n",
              "      <td>...</td>\n",
              "      <td>...</td>\n",
              "      <td>...</td>\n",
              "    </tr>\n",
              "    <tr>\n",
              "      <th>2020-08-05</th>\n",
              "      <td>271164.0</td>\n",
              "      <td>7084.0</td>\n",
              "      <td>221540.0</td>\n",
              "    </tr>\n",
              "    <tr>\n",
              "      <th>2020-08-06</th>\n",
              "      <td>285196.0</td>\n",
              "      <td>7120.0</td>\n",
              "      <td>189126.0</td>\n",
              "    </tr>\n",
              "    <tr>\n",
              "      <th>2020-08-07</th>\n",
              "      <td>280887.0</td>\n",
              "      <td>6384.0</td>\n",
              "      <td>192526.0</td>\n",
              "    </tr>\n",
              "    <tr>\n",
              "      <th>2020-08-08</th>\n",
              "      <td>259470.0</td>\n",
              "      <td>5457.0</td>\n",
              "      <td>201182.0</td>\n",
              "    </tr>\n",
              "    <tr>\n",
              "      <th>2020-08-09</th>\n",
              "      <td>224177.0</td>\n",
              "      <td>4545.0</td>\n",
              "      <td>176716.0</td>\n",
              "    </tr>\n",
              "  </tbody>\n",
              "</table>\n",
              "<p>201 rows × 3 columns</p>\n",
              "</div>"
            ],
            "text/plain": [
              "                 Confirmed  Deaths  Recovered\n",
              "ObservationDate                              \n",
              "2020-01-22           555.0    17.0       28.0\n",
              "2020-01-23            98.0     1.0        2.0\n",
              "2020-01-24           288.0     8.0        6.0\n",
              "2020-01-25           497.0    16.0        3.0\n",
              "2020-01-26           680.0    14.0       13.0\n",
              "...                    ...     ...        ...\n",
              "2020-08-05        271164.0  7084.0   221540.0\n",
              "2020-08-06        285196.0  7120.0   189126.0\n",
              "2020-08-07        280887.0  6384.0   192526.0\n",
              "2020-08-08        259470.0  5457.0   201182.0\n",
              "2020-08-09        224177.0  4545.0   176716.0\n",
              "\n",
              "[201 rows x 3 columns]"
            ]
          },
          "metadata": {
            "tags": []
          },
          "execution_count": 28
        }
      ]
    },
    {
      "cell_type": "code",
      "metadata": {
        "id": "JLeUd7bWSNnk",
        "colab_type": "code",
        "colab": {
          "base_uri": "https://localhost:8080/",
          "height": 436
        },
        "outputId": "56319192-d1b9-4a26-a628-95d74bbf3c7f"
      },
      "source": [
        "df_diff.cumsum()"
      ],
      "execution_count": 29,
      "outputs": [
        {
          "output_type": "execute_result",
          "data": {
            "text/html": [
              "<div>\n",
              "<style scoped>\n",
              "    .dataframe tbody tr th:only-of-type {\n",
              "        vertical-align: middle;\n",
              "    }\n",
              "\n",
              "    .dataframe tbody tr th {\n",
              "        vertical-align: top;\n",
              "    }\n",
              "\n",
              "    .dataframe thead th {\n",
              "        text-align: right;\n",
              "    }\n",
              "</style>\n",
              "<table border=\"1\" class=\"dataframe\">\n",
              "  <thead>\n",
              "    <tr style=\"text-align: right;\">\n",
              "      <th></th>\n",
              "      <th>Confirmed</th>\n",
              "      <th>Deaths</th>\n",
              "      <th>Recovered</th>\n",
              "    </tr>\n",
              "    <tr>\n",
              "      <th>ObservationDate</th>\n",
              "      <th></th>\n",
              "      <th></th>\n",
              "      <th></th>\n",
              "    </tr>\n",
              "  </thead>\n",
              "  <tbody>\n",
              "    <tr>\n",
              "      <th>2020-01-22</th>\n",
              "      <td>555.0</td>\n",
              "      <td>17.0</td>\n",
              "      <td>28.0</td>\n",
              "    </tr>\n",
              "    <tr>\n",
              "      <th>2020-01-23</th>\n",
              "      <td>653.0</td>\n",
              "      <td>18.0</td>\n",
              "      <td>30.0</td>\n",
              "    </tr>\n",
              "    <tr>\n",
              "      <th>2020-01-24</th>\n",
              "      <td>941.0</td>\n",
              "      <td>26.0</td>\n",
              "      <td>36.0</td>\n",
              "    </tr>\n",
              "    <tr>\n",
              "      <th>2020-01-25</th>\n",
              "      <td>1438.0</td>\n",
              "      <td>42.0</td>\n",
              "      <td>39.0</td>\n",
              "    </tr>\n",
              "    <tr>\n",
              "      <th>2020-01-26</th>\n",
              "      <td>2118.0</td>\n",
              "      <td>56.0</td>\n",
              "      <td>52.0</td>\n",
              "    </tr>\n",
              "    <tr>\n",
              "      <th>...</th>\n",
              "      <td>...</td>\n",
              "      <td>...</td>\n",
              "      <td>...</td>\n",
              "    </tr>\n",
              "    <tr>\n",
              "      <th>2020-08-05</th>\n",
              "      <td>18811953.0</td>\n",
              "      <td>707820.0</td>\n",
              "      <td>11356275.0</td>\n",
              "    </tr>\n",
              "    <tr>\n",
              "      <th>2020-08-06</th>\n",
              "      <td>19097149.0</td>\n",
              "      <td>714940.0</td>\n",
              "      <td>11545401.0</td>\n",
              "    </tr>\n",
              "    <tr>\n",
              "      <th>2020-08-07</th>\n",
              "      <td>19378036.0</td>\n",
              "      <td>721324.0</td>\n",
              "      <td>11737927.0</td>\n",
              "    </tr>\n",
              "    <tr>\n",
              "      <th>2020-08-08</th>\n",
              "      <td>19637506.0</td>\n",
              "      <td>726781.0</td>\n",
              "      <td>11939109.0</td>\n",
              "    </tr>\n",
              "    <tr>\n",
              "      <th>2020-08-09</th>\n",
              "      <td>19861683.0</td>\n",
              "      <td>731326.0</td>\n",
              "      <td>12115825.0</td>\n",
              "    </tr>\n",
              "  </tbody>\n",
              "</table>\n",
              "<p>201 rows × 3 columns</p>\n",
              "</div>"
            ],
            "text/plain": [
              "                  Confirmed    Deaths   Recovered\n",
              "ObservationDate                                  \n",
              "2020-01-22            555.0      17.0        28.0\n",
              "2020-01-23            653.0      18.0        30.0\n",
              "2020-01-24            941.0      26.0        36.0\n",
              "2020-01-25           1438.0      42.0        39.0\n",
              "2020-01-26           2118.0      56.0        52.0\n",
              "...                     ...       ...         ...\n",
              "2020-08-05       18811953.0  707820.0  11356275.0\n",
              "2020-08-06       19097149.0  714940.0  11545401.0\n",
              "2020-08-07       19378036.0  721324.0  11737927.0\n",
              "2020-08-08       19637506.0  726781.0  11939109.0\n",
              "2020-08-09       19861683.0  731326.0  12115825.0\n",
              "\n",
              "[201 rows x 3 columns]"
            ]
          },
          "metadata": {
            "tags": []
          },
          "execution_count": 29
        }
      ]
    },
    {
      "cell_type": "code",
      "metadata": {
        "id": "_o-7VetWSSGX",
        "colab_type": "code",
        "colab": {
          "base_uri": "https://localhost:8080/",
          "height": 317
        },
        "outputId": "d2436cfd-83ce-473a-bd1f-71c47623ff65"
      },
      "source": [
        "df_diff.resample('M').sum()"
      ],
      "execution_count": 31,
      "outputs": [
        {
          "output_type": "execute_result",
          "data": {
            "text/html": [
              "<div>\n",
              "<style scoped>\n",
              "    .dataframe tbody tr th:only-of-type {\n",
              "        vertical-align: middle;\n",
              "    }\n",
              "\n",
              "    .dataframe tbody tr th {\n",
              "        vertical-align: top;\n",
              "    }\n",
              "\n",
              "    .dataframe thead th {\n",
              "        text-align: right;\n",
              "    }\n",
              "</style>\n",
              "<table border=\"1\" class=\"dataframe\">\n",
              "  <thead>\n",
              "    <tr style=\"text-align: right;\">\n",
              "      <th></th>\n",
              "      <th>Confirmed</th>\n",
              "      <th>Deaths</th>\n",
              "      <th>Recovered</th>\n",
              "    </tr>\n",
              "    <tr>\n",
              "      <th>ObservationDate</th>\n",
              "      <th></th>\n",
              "      <th></th>\n",
              "      <th></th>\n",
              "    </tr>\n",
              "  </thead>\n",
              "  <tbody>\n",
              "    <tr>\n",
              "      <th>2020-01-31</th>\n",
              "      <td>9925.0</td>\n",
              "      <td>213.0</td>\n",
              "      <td>222.0</td>\n",
              "    </tr>\n",
              "    <tr>\n",
              "      <th>2020-02-29</th>\n",
              "      <td>76088.0</td>\n",
              "      <td>2728.0</td>\n",
              "      <td>39560.0</td>\n",
              "    </tr>\n",
              "    <tr>\n",
              "      <th>2020-03-31</th>\n",
              "      <td>771474.0</td>\n",
              "      <td>39166.0</td>\n",
              "      <td>138246.0</td>\n",
              "    </tr>\n",
              "    <tr>\n",
              "      <th>2020-04-30</th>\n",
              "      <td>2399359.0</td>\n",
              "      <td>191281.0</td>\n",
              "      <td>836725.0</td>\n",
              "    </tr>\n",
              "    <tr>\n",
              "      <th>2020-05-31</th>\n",
              "      <td>2910100.0</td>\n",
              "      <td>138647.0</td>\n",
              "      <td>1626576.0</td>\n",
              "    </tr>\n",
              "    <tr>\n",
              "      <th>2020-06-30</th>\n",
              "      <td>4308892.0</td>\n",
              "      <td>139218.0</td>\n",
              "      <td>2711943.0</td>\n",
              "    </tr>\n",
              "    <tr>\n",
              "      <th>2020-07-31</th>\n",
              "      <td>7123998.0</td>\n",
              "      <td>168247.0</td>\n",
              "      <td>5015868.0</td>\n",
              "    </tr>\n",
              "    <tr>\n",
              "      <th>2020-08-31</th>\n",
              "      <td>2261847.0</td>\n",
              "      <td>51826.0</td>\n",
              "      <td>1746685.0</td>\n",
              "    </tr>\n",
              "  </tbody>\n",
              "</table>\n",
              "</div>"
            ],
            "text/plain": [
              "                 Confirmed    Deaths  Recovered\n",
              "ObservationDate                                \n",
              "2020-01-31          9925.0     213.0      222.0\n",
              "2020-02-29         76088.0    2728.0    39560.0\n",
              "2020-03-31        771474.0   39166.0   138246.0\n",
              "2020-04-30       2399359.0  191281.0   836725.0\n",
              "2020-05-31       2910100.0  138647.0  1626576.0\n",
              "2020-06-30       4308892.0  139218.0  2711943.0\n",
              "2020-07-31       7123998.0  168247.0  5015868.0\n",
              "2020-08-31       2261847.0   51826.0  1746685.0"
            ]
          },
          "metadata": {
            "tags": []
          },
          "execution_count": 31
        }
      ]
    },
    {
      "cell_type": "code",
      "metadata": {
        "id": "R0nNdB5BSnVf",
        "colab_type": "code",
        "colab": {
          "base_uri": "https://localhost:8080/",
          "height": 317
        },
        "outputId": "0f7c0be5-31fa-407c-ccbb-61c813642799"
      },
      "source": [
        "df_diff.resample('M').count()"
      ],
      "execution_count": 32,
      "outputs": [
        {
          "output_type": "execute_result",
          "data": {
            "text/html": [
              "<div>\n",
              "<style scoped>\n",
              "    .dataframe tbody tr th:only-of-type {\n",
              "        vertical-align: middle;\n",
              "    }\n",
              "\n",
              "    .dataframe tbody tr th {\n",
              "        vertical-align: top;\n",
              "    }\n",
              "\n",
              "    .dataframe thead th {\n",
              "        text-align: right;\n",
              "    }\n",
              "</style>\n",
              "<table border=\"1\" class=\"dataframe\">\n",
              "  <thead>\n",
              "    <tr style=\"text-align: right;\">\n",
              "      <th></th>\n",
              "      <th>Confirmed</th>\n",
              "      <th>Deaths</th>\n",
              "      <th>Recovered</th>\n",
              "    </tr>\n",
              "    <tr>\n",
              "      <th>ObservationDate</th>\n",
              "      <th></th>\n",
              "      <th></th>\n",
              "      <th></th>\n",
              "    </tr>\n",
              "  </thead>\n",
              "  <tbody>\n",
              "    <tr>\n",
              "      <th>2020-01-31</th>\n",
              "      <td>10</td>\n",
              "      <td>10</td>\n",
              "      <td>10</td>\n",
              "    </tr>\n",
              "    <tr>\n",
              "      <th>2020-02-29</th>\n",
              "      <td>29</td>\n",
              "      <td>29</td>\n",
              "      <td>29</td>\n",
              "    </tr>\n",
              "    <tr>\n",
              "      <th>2020-03-31</th>\n",
              "      <td>31</td>\n",
              "      <td>31</td>\n",
              "      <td>31</td>\n",
              "    </tr>\n",
              "    <tr>\n",
              "      <th>2020-04-30</th>\n",
              "      <td>30</td>\n",
              "      <td>30</td>\n",
              "      <td>30</td>\n",
              "    </tr>\n",
              "    <tr>\n",
              "      <th>2020-05-31</th>\n",
              "      <td>31</td>\n",
              "      <td>31</td>\n",
              "      <td>31</td>\n",
              "    </tr>\n",
              "    <tr>\n",
              "      <th>2020-06-30</th>\n",
              "      <td>30</td>\n",
              "      <td>30</td>\n",
              "      <td>30</td>\n",
              "    </tr>\n",
              "    <tr>\n",
              "      <th>2020-07-31</th>\n",
              "      <td>31</td>\n",
              "      <td>31</td>\n",
              "      <td>31</td>\n",
              "    </tr>\n",
              "    <tr>\n",
              "      <th>2020-08-31</th>\n",
              "      <td>9</td>\n",
              "      <td>9</td>\n",
              "      <td>9</td>\n",
              "    </tr>\n",
              "  </tbody>\n",
              "</table>\n",
              "</div>"
            ],
            "text/plain": [
              "                 Confirmed  Deaths  Recovered\n",
              "ObservationDate                              \n",
              "2020-01-31              10      10         10\n",
              "2020-02-29              29      29         29\n",
              "2020-03-31              31      31         31\n",
              "2020-04-30              30      30         30\n",
              "2020-05-31              31      31         31\n",
              "2020-06-30              30      30         30\n",
              "2020-07-31              31      31         31\n",
              "2020-08-31               9       9          9"
            ]
          },
          "metadata": {
            "tags": []
          },
          "execution_count": 32
        }
      ]
    }
  ]
}