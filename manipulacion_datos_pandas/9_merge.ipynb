{
  "nbformat": 4,
  "nbformat_minor": 0,
  "metadata": {
    "colab": {
      "name": "9_merge.ipynb",
      "provenance": [],
      "collapsed_sections": [],
      "authorship_tag": "ABX9TyPV+Y7c0ka7UU6sKc6wCgQa",
      "include_colab_link": true
    },
    "kernelspec": {
      "name": "python3",
      "display_name": "Python 3"
    }
  },
  "cells": [
    {
      "cell_type": "markdown",
      "metadata": {
        "id": "view-in-github",
        "colab_type": "text"
      },
      "source": [
        "<a href=\"https://colab.research.google.com/github/cristian-rincon/escuela-datascience/blob/master/manipulacion_datos_pandas/9_merge.ipynb\" target=\"_parent\"><img src=\"https://colab.research.google.com/assets/colab-badge.svg\" alt=\"Open In Colab\"/></a>"
      ]
    },
    {
      "cell_type": "markdown",
      "metadata": {
        "id": "NtHhxssJhjp3",
        "colab_type": "text"
      },
      "source": [
        "# Preparando el espacio de trabajo"
      ]
    },
    {
      "cell_type": "code",
      "metadata": {
        "id": "MlhQGhGWhLE6",
        "colab_type": "code",
        "colab": {
          "base_uri": "https://localhost:8080/",
          "height": 34
        },
        "outputId": "5ec5e293-9dbb-4557-ba93-79828029568e"
      },
      "source": [
        "import pandas as pd\n",
        "pd.__version__"
      ],
      "execution_count": 1,
      "outputs": [
        {
          "output_type": "execute_result",
          "data": {
            "application/vnd.google.colaboratory.intrinsic+json": {
              "type": "string"
            },
            "text/plain": [
              "'1.0.5'"
            ]
          },
          "metadata": {
            "tags": []
          },
          "execution_count": 1
        }
      ]
    },
    {
      "cell_type": "markdown",
      "metadata": {
        "id": "IsIGiYRohnVx",
        "colab_type": "text"
      },
      "source": [
        "## Inicializando los dataframes de pruebas"
      ]
    },
    {
      "cell_type": "code",
      "metadata": {
        "id": "IX0Lljnehstk",
        "colab_type": "code",
        "colab": {
          "base_uri": "https://localhost:8080/",
          "height": 167
        },
        "outputId": "22a88658-4b89-493d-d17f-4ba2f2be82f4"
      },
      "source": [
        "df_left = pd.DataFrame(\n",
        "    {'X':['x0','x1','x2','x3'],\n",
        "    'W':['w0','w1','w2','w3'],\n",
        "    'Y':['y0','y1','y2','y3'],\n",
        "    'Mix':['y2','y3','a2','a3']},\n",
        "    index = ['y2','y3','a2','a3'])\n",
        "\n",
        "df_left"
      ],
      "execution_count": 4,
      "outputs": [
        {
          "output_type": "execute_result",
          "data": {
            "text/html": [
              "<div>\n",
              "<style scoped>\n",
              "    .dataframe tbody tr th:only-of-type {\n",
              "        vertical-align: middle;\n",
              "    }\n",
              "\n",
              "    .dataframe tbody tr th {\n",
              "        vertical-align: top;\n",
              "    }\n",
              "\n",
              "    .dataframe thead th {\n",
              "        text-align: right;\n",
              "    }\n",
              "</style>\n",
              "<table border=\"1\" class=\"dataframe\">\n",
              "  <thead>\n",
              "    <tr style=\"text-align: right;\">\n",
              "      <th></th>\n",
              "      <th>X</th>\n",
              "      <th>W</th>\n",
              "      <th>Y</th>\n",
              "      <th>Mix</th>\n",
              "    </tr>\n",
              "  </thead>\n",
              "  <tbody>\n",
              "    <tr>\n",
              "      <th>y2</th>\n",
              "      <td>x0</td>\n",
              "      <td>w0</td>\n",
              "      <td>y0</td>\n",
              "      <td>y2</td>\n",
              "    </tr>\n",
              "    <tr>\n",
              "      <th>y3</th>\n",
              "      <td>x1</td>\n",
              "      <td>w1</td>\n",
              "      <td>y1</td>\n",
              "      <td>y3</td>\n",
              "    </tr>\n",
              "    <tr>\n",
              "      <th>a2</th>\n",
              "      <td>x2</td>\n",
              "      <td>w2</td>\n",
              "      <td>y2</td>\n",
              "      <td>a2</td>\n",
              "    </tr>\n",
              "    <tr>\n",
              "      <th>a3</th>\n",
              "      <td>x3</td>\n",
              "      <td>w3</td>\n",
              "      <td>y3</td>\n",
              "      <td>a3</td>\n",
              "    </tr>\n",
              "  </tbody>\n",
              "</table>\n",
              "</div>"
            ],
            "text/plain": [
              "     X   W   Y Mix\n",
              "y2  x0  w0  y0  y2\n",
              "y3  x1  w1  y1  y3\n",
              "a2  x2  w2  y2  a2\n",
              "a3  x3  w3  y3  a3"
            ]
          },
          "metadata": {
            "tags": []
          },
          "execution_count": 4
        }
      ]
    },
    {
      "cell_type": "code",
      "metadata": {
        "id": "QWPgSHrfhyyQ",
        "colab_type": "code",
        "colab": {
          "base_uri": "https://localhost:8080/",
          "height": 167
        },
        "outputId": "b26bed69-6928-4cb6-8404-3f61e01c4457"
      },
      "source": [
        "df_right = pd.DataFrame(\n",
        "    {'Z':['z2','z3','z4','z5'],\n",
        "     'A':['a2','a3','a4','a5'],\n",
        "     'Y':['y2','y3','y4','y5']},\n",
        "    index = [2,3,4,5])\n",
        "\n",
        "df_right"
      ],
      "execution_count": 3,
      "outputs": [
        {
          "output_type": "execute_result",
          "data": {
            "text/html": [
              "<div>\n",
              "<style scoped>\n",
              "    .dataframe tbody tr th:only-of-type {\n",
              "        vertical-align: middle;\n",
              "    }\n",
              "\n",
              "    .dataframe tbody tr th {\n",
              "        vertical-align: top;\n",
              "    }\n",
              "\n",
              "    .dataframe thead th {\n",
              "        text-align: right;\n",
              "    }\n",
              "</style>\n",
              "<table border=\"1\" class=\"dataframe\">\n",
              "  <thead>\n",
              "    <tr style=\"text-align: right;\">\n",
              "      <th></th>\n",
              "      <th>Z</th>\n",
              "      <th>A</th>\n",
              "      <th>Y</th>\n",
              "    </tr>\n",
              "  </thead>\n",
              "  <tbody>\n",
              "    <tr>\n",
              "      <th>2</th>\n",
              "      <td>z2</td>\n",
              "      <td>a2</td>\n",
              "      <td>y2</td>\n",
              "    </tr>\n",
              "    <tr>\n",
              "      <th>3</th>\n",
              "      <td>z3</td>\n",
              "      <td>a3</td>\n",
              "      <td>y3</td>\n",
              "    </tr>\n",
              "    <tr>\n",
              "      <th>4</th>\n",
              "      <td>z4</td>\n",
              "      <td>a4</td>\n",
              "      <td>y4</td>\n",
              "    </tr>\n",
              "    <tr>\n",
              "      <th>5</th>\n",
              "      <td>z5</td>\n",
              "      <td>a5</td>\n",
              "      <td>y5</td>\n",
              "    </tr>\n",
              "  </tbody>\n",
              "</table>\n",
              "</div>"
            ],
            "text/plain": [
              "    Z   A   Y\n",
              "2  z2  a2  y2\n",
              "3  z3  a3  y3\n",
              "4  z4  a4  y4\n",
              "5  z5  a5  y5"
            ]
          },
          "metadata": {
            "tags": []
          },
          "execution_count": 3
        }
      ]
    },
    {
      "cell_type": "code",
      "metadata": {
        "id": "1FRDCFnrh6F0",
        "colab_type": "code",
        "colab": {
          "base_uri": "https://localhost:8080/",
          "height": 107
        },
        "outputId": "c5469646-6269-4a67-c835-f6cc0a2a1522"
      },
      "source": [
        "pd.merge(df_left,df_right)"
      ],
      "execution_count": 6,
      "outputs": [
        {
          "output_type": "execute_result",
          "data": {
            "text/html": [
              "<div>\n",
              "<style scoped>\n",
              "    .dataframe tbody tr th:only-of-type {\n",
              "        vertical-align: middle;\n",
              "    }\n",
              "\n",
              "    .dataframe tbody tr th {\n",
              "        vertical-align: top;\n",
              "    }\n",
              "\n",
              "    .dataframe thead th {\n",
              "        text-align: right;\n",
              "    }\n",
              "</style>\n",
              "<table border=\"1\" class=\"dataframe\">\n",
              "  <thead>\n",
              "    <tr style=\"text-align: right;\">\n",
              "      <th></th>\n",
              "      <th>X</th>\n",
              "      <th>W</th>\n",
              "      <th>Y</th>\n",
              "      <th>Mix</th>\n",
              "      <th>Z</th>\n",
              "      <th>A</th>\n",
              "    </tr>\n",
              "  </thead>\n",
              "  <tbody>\n",
              "    <tr>\n",
              "      <th>0</th>\n",
              "      <td>x2</td>\n",
              "      <td>w2</td>\n",
              "      <td>y2</td>\n",
              "      <td>a2</td>\n",
              "      <td>z2</td>\n",
              "      <td>a2</td>\n",
              "    </tr>\n",
              "    <tr>\n",
              "      <th>1</th>\n",
              "      <td>x3</td>\n",
              "      <td>w3</td>\n",
              "      <td>y3</td>\n",
              "      <td>a3</td>\n",
              "      <td>z3</td>\n",
              "      <td>a3</td>\n",
              "    </tr>\n",
              "  </tbody>\n",
              "</table>\n",
              "</div>"
            ],
            "text/plain": [
              "    X   W   Y Mix   Z   A\n",
              "0  x2  w2  y2  a2  z2  a2\n",
              "1  x3  w3  y3  a3  z3  a3"
            ]
          },
          "metadata": {
            "tags": []
          },
          "execution_count": 6
        }
      ]
    },
    {
      "cell_type": "markdown",
      "metadata": {
        "id": "45CR36S6jg8T",
        "colab_type": "text"
      },
      "source": [
        "## Tipos de merge\n",
        "\n",
        "* Inner\n",
        "```python\n",
        "pd.merge(df_left,df_right, how='inner')\n",
        "```\n",
        "* Outer\n",
        "```python\n",
        "pd.merge(df_left,df_right, how='outer')\n",
        "```\n",
        "* Left\n",
        "```python\n",
        "pd.merge(df_left,df_right, how='left')\n",
        "```\n",
        "* Right\n",
        "```python\n",
        "pd.merge(df_left,df_right, how='right')\n",
        "```\n",
        "\n",
        "Sólo sería necesario cambiar el parámetro How"
      ]
    },
    {
      "cell_type": "code",
      "metadata": {
        "id": "IyGTPKwliJ9A",
        "colab_type": "code",
        "colab": {
          "base_uri": "https://localhost:8080/",
          "height": 107
        },
        "outputId": "14df4be8-ed2f-4372-f057-3c98558509cc"
      },
      "source": [
        "pd.merge(df_left,df_right, how='inner', on='Y')"
      ],
      "execution_count": 7,
      "outputs": [
        {
          "output_type": "execute_result",
          "data": {
            "text/html": [
              "<div>\n",
              "<style scoped>\n",
              "    .dataframe tbody tr th:only-of-type {\n",
              "        vertical-align: middle;\n",
              "    }\n",
              "\n",
              "    .dataframe tbody tr th {\n",
              "        vertical-align: top;\n",
              "    }\n",
              "\n",
              "    .dataframe thead th {\n",
              "        text-align: right;\n",
              "    }\n",
              "</style>\n",
              "<table border=\"1\" class=\"dataframe\">\n",
              "  <thead>\n",
              "    <tr style=\"text-align: right;\">\n",
              "      <th></th>\n",
              "      <th>X</th>\n",
              "      <th>W</th>\n",
              "      <th>Y</th>\n",
              "      <th>Mix</th>\n",
              "      <th>Z</th>\n",
              "      <th>A</th>\n",
              "    </tr>\n",
              "  </thead>\n",
              "  <tbody>\n",
              "    <tr>\n",
              "      <th>0</th>\n",
              "      <td>x2</td>\n",
              "      <td>w2</td>\n",
              "      <td>y2</td>\n",
              "      <td>a2</td>\n",
              "      <td>z2</td>\n",
              "      <td>a2</td>\n",
              "    </tr>\n",
              "    <tr>\n",
              "      <th>1</th>\n",
              "      <td>x3</td>\n",
              "      <td>w3</td>\n",
              "      <td>y3</td>\n",
              "      <td>a3</td>\n",
              "      <td>z3</td>\n",
              "      <td>a3</td>\n",
              "    </tr>\n",
              "  </tbody>\n",
              "</table>\n",
              "</div>"
            ],
            "text/plain": [
              "    X   W   Y Mix   Z   A\n",
              "0  x2  w2  y2  a2  z2  a2\n",
              "1  x3  w3  y3  a3  z3  a3"
            ]
          },
          "metadata": {
            "tags": []
          },
          "execution_count": 7
        }
      ]
    },
    {
      "cell_type": "code",
      "metadata": {
        "id": "ZDPB8b3YiCXC",
        "colab_type": "code",
        "colab": {
          "base_uri": "https://localhost:8080/",
          "height": 107
        },
        "outputId": "ae998015-3c41-4b98-cd90-a2e6f4cf8c4e"
      },
      "source": [
        "pd.merge(df_left,df_right, how='inner', left_on='Mix', right_on='Y', suffixes=['_left','_right'])"
      ],
      "execution_count": 12,
      "outputs": [
        {
          "output_type": "execute_result",
          "data": {
            "text/html": [
              "<div>\n",
              "<style scoped>\n",
              "    .dataframe tbody tr th:only-of-type {\n",
              "        vertical-align: middle;\n",
              "    }\n",
              "\n",
              "    .dataframe tbody tr th {\n",
              "        vertical-align: top;\n",
              "    }\n",
              "\n",
              "    .dataframe thead th {\n",
              "        text-align: right;\n",
              "    }\n",
              "</style>\n",
              "<table border=\"1\" class=\"dataframe\">\n",
              "  <thead>\n",
              "    <tr style=\"text-align: right;\">\n",
              "      <th></th>\n",
              "      <th>X</th>\n",
              "      <th>W</th>\n",
              "      <th>Y_left</th>\n",
              "      <th>Mix</th>\n",
              "      <th>Z</th>\n",
              "      <th>A</th>\n",
              "      <th>Y_right</th>\n",
              "    </tr>\n",
              "  </thead>\n",
              "  <tbody>\n",
              "    <tr>\n",
              "      <th>0</th>\n",
              "      <td>x0</td>\n",
              "      <td>w0</td>\n",
              "      <td>y0</td>\n",
              "      <td>y2</td>\n",
              "      <td>z2</td>\n",
              "      <td>a2</td>\n",
              "      <td>y2</td>\n",
              "    </tr>\n",
              "    <tr>\n",
              "      <th>1</th>\n",
              "      <td>x1</td>\n",
              "      <td>w1</td>\n",
              "      <td>y1</td>\n",
              "      <td>y3</td>\n",
              "      <td>z3</td>\n",
              "      <td>a3</td>\n",
              "      <td>y3</td>\n",
              "    </tr>\n",
              "  </tbody>\n",
              "</table>\n",
              "</div>"
            ],
            "text/plain": [
              "    X   W Y_left Mix   Z   A Y_right\n",
              "0  x0  w0     y0  y2  z2  a2      y2\n",
              "1  x1  w1     y1  y3  z3  a3      y3"
            ]
          },
          "metadata": {
            "tags": []
          },
          "execution_count": 12
        }
      ]
    },
    {
      "cell_type": "code",
      "metadata": {
        "id": "AKPKAXGbim2i",
        "colab_type": "code",
        "colab": {
          "base_uri": "https://localhost:8080/",
          "height": 107
        },
        "outputId": "b361bfdf-7c8f-4a46-f566-2af8e44f44ec"
      },
      "source": [
        "pd.merge(df_left,df_right, how='inner', left_on='Mix', right_on='A')"
      ],
      "execution_count": 13,
      "outputs": [
        {
          "output_type": "execute_result",
          "data": {
            "text/html": [
              "<div>\n",
              "<style scoped>\n",
              "    .dataframe tbody tr th:only-of-type {\n",
              "        vertical-align: middle;\n",
              "    }\n",
              "\n",
              "    .dataframe tbody tr th {\n",
              "        vertical-align: top;\n",
              "    }\n",
              "\n",
              "    .dataframe thead th {\n",
              "        text-align: right;\n",
              "    }\n",
              "</style>\n",
              "<table border=\"1\" class=\"dataframe\">\n",
              "  <thead>\n",
              "    <tr style=\"text-align: right;\">\n",
              "      <th></th>\n",
              "      <th>X</th>\n",
              "      <th>W</th>\n",
              "      <th>Y_x</th>\n",
              "      <th>Mix</th>\n",
              "      <th>Z</th>\n",
              "      <th>A</th>\n",
              "      <th>Y_y</th>\n",
              "    </tr>\n",
              "  </thead>\n",
              "  <tbody>\n",
              "    <tr>\n",
              "      <th>0</th>\n",
              "      <td>x2</td>\n",
              "      <td>w2</td>\n",
              "      <td>y2</td>\n",
              "      <td>a2</td>\n",
              "      <td>z2</td>\n",
              "      <td>a2</td>\n",
              "      <td>y2</td>\n",
              "    </tr>\n",
              "    <tr>\n",
              "      <th>1</th>\n",
              "      <td>x3</td>\n",
              "      <td>w3</td>\n",
              "      <td>y3</td>\n",
              "      <td>a3</td>\n",
              "      <td>z3</td>\n",
              "      <td>a3</td>\n",
              "      <td>y3</td>\n",
              "    </tr>\n",
              "  </tbody>\n",
              "</table>\n",
              "</div>"
            ],
            "text/plain": [
              "    X   W Y_x Mix   Z   A Y_y\n",
              "0  x2  w2  y2  a2  z2  a2  y2\n",
              "1  x3  w3  y3  a3  z3  a3  y3"
            ]
          },
          "metadata": {
            "tags": []
          },
          "execution_count": 13
        }
      ]
    }
  ]
}