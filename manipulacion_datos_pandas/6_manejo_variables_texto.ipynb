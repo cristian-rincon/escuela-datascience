{
  "nbformat": 4,
  "nbformat_minor": 0,
  "metadata": {
    "colab": {
      "name": "6_manejo_variables_texto.ipynb",
      "provenance": [],
      "authorship_tag": "ABX9TyOAS8IwK68Liwg3rs1kGYJ+",
      "include_colab_link": true
    },
    "kernelspec": {
      "name": "python3",
      "display_name": "Python 3"
    }
  },
  "cells": [
    {
      "cell_type": "markdown",
      "metadata": {
        "id": "view-in-github",
        "colab_type": "text"
      },
      "source": [
        "<a href=\"https://colab.research.google.com/github/cristian-rincon/escuela-datascience/blob/master/manipulacion_datos_pandas/6_manejo_variables_texto.ipynb\" target=\"_parent\"><img src=\"https://colab.research.google.com/assets/colab-badge.svg\" alt=\"Open In Colab\"/></a>"
      ]
    },
    {
      "cell_type": "code",
      "metadata": {
        "id": "khOeFro9dB5J",
        "colab_type": "code",
        "colab": {}
      },
      "source": [
        "import pandas as pd"
      ],
      "execution_count": 2,
      "outputs": []
    },
    {
      "cell_type": "code",
      "metadata": {
        "id": "sVmPdpnKdNTV",
        "colab_type": "code",
        "colab": {}
      },
      "source": [
        "data = {'names':['Sara Moreno 34',\n",
        "                 'jUAn GOMez 23',\n",
        "                 'CArlos mArtinez 89',\n",
        "                 'Alfredo VelaZques 3',\n",
        "                 'luis Mora 56',\n",
        "                 '@freddier #platzi 10',pd.NA]}"
      ],
      "execution_count": 4,
      "outputs": []
    },
    {
      "cell_type": "code",
      "metadata": {
        "id": "vrSGhVWJdhLU",
        "colab_type": "code",
        "colab": {
          "base_uri": "https://localhost:8080/",
          "height": 257
        },
        "outputId": "f9e8516e-0e34-4131-cd13-d8e57253f097"
      },
      "source": [
        "df = pd.DataFrame(data)\n",
        "df"
      ],
      "execution_count": 5,
      "outputs": [
        {
          "output_type": "execute_result",
          "data": {
            "text/html": [
              "<div>\n",
              "<style scoped>\n",
              "    .dataframe tbody tr th:only-of-type {\n",
              "        vertical-align: middle;\n",
              "    }\n",
              "\n",
              "    .dataframe tbody tr th {\n",
              "        vertical-align: top;\n",
              "    }\n",
              "\n",
              "    .dataframe thead th {\n",
              "        text-align: right;\n",
              "    }\n",
              "</style>\n",
              "<table border=\"1\" class=\"dataframe\">\n",
              "  <thead>\n",
              "    <tr style=\"text-align: right;\">\n",
              "      <th></th>\n",
              "      <th>names</th>\n",
              "    </tr>\n",
              "  </thead>\n",
              "  <tbody>\n",
              "    <tr>\n",
              "      <th>0</th>\n",
              "      <td>Sara Moreno 34</td>\n",
              "    </tr>\n",
              "    <tr>\n",
              "      <th>1</th>\n",
              "      <td>jUAn GOMez 23</td>\n",
              "    </tr>\n",
              "    <tr>\n",
              "      <th>2</th>\n",
              "      <td>CArlos mArtinez 89</td>\n",
              "    </tr>\n",
              "    <tr>\n",
              "      <th>3</th>\n",
              "      <td>Alfredo VelaZques 3</td>\n",
              "    </tr>\n",
              "    <tr>\n",
              "      <th>4</th>\n",
              "      <td>luis Mora 56</td>\n",
              "    </tr>\n",
              "    <tr>\n",
              "      <th>5</th>\n",
              "      <td>@freddier #platzi 10</td>\n",
              "    </tr>\n",
              "    <tr>\n",
              "      <th>6</th>\n",
              "      <td>&lt;NA&gt;</td>\n",
              "    </tr>\n",
              "  </tbody>\n",
              "</table>\n",
              "</div>"
            ],
            "text/plain": [
              "                  names\n",
              "0        Sara Moreno 34\n",
              "1         jUAn GOMez 23\n",
              "2    CArlos mArtinez 89\n",
              "3   Alfredo VelaZques 3\n",
              "4          luis Mora 56\n",
              "5  @freddier #platzi 10\n",
              "6                  <NA>"
            ]
          },
          "metadata": {
            "tags": []
          },
          "execution_count": 5
        }
      ]
    },
    {
      "cell_type": "markdown",
      "metadata": {
        "id": "HRXB22Judu5_",
        "colab_type": "text"
      },
      "source": [
        "## Convertir a minúsculas"
      ]
    },
    {
      "cell_type": "code",
      "metadata": {
        "id": "j_3Q31owdnzg",
        "colab_type": "code",
        "colab": {
          "base_uri": "https://localhost:8080/",
          "height": 150
        },
        "outputId": "1bbdb5a9-e3a8-4680-cb40-846fa0ccb97c"
      },
      "source": [
        "df['names'].str.lower()"
      ],
      "execution_count": 6,
      "outputs": [
        {
          "output_type": "execute_result",
          "data": {
            "text/plain": [
              "0          sara moreno 34\n",
              "1           juan gomez 23\n",
              "2      carlos martinez 89\n",
              "3     alfredo velazques 3\n",
              "4            luis mora 56\n",
              "5    @freddier #platzi 10\n",
              "6                    <NA>\n",
              "Name: names, dtype: object"
            ]
          },
          "metadata": {
            "tags": []
          },
          "execution_count": 6
        }
      ]
    },
    {
      "cell_type": "markdown",
      "metadata": {
        "id": "L0n9F2tTdyYn",
        "colab_type": "text"
      },
      "source": [
        "## Convertir a mayúsculas"
      ]
    },
    {
      "cell_type": "code",
      "metadata": {
        "id": "z-Osl8Ibd1z_",
        "colab_type": "code",
        "colab": {
          "base_uri": "https://localhost:8080/",
          "height": 150
        },
        "outputId": "6c5958f3-27ba-482f-cf99-8ee06dbc97f3"
      },
      "source": [
        "df['names'].str.upper()"
      ],
      "execution_count": 7,
      "outputs": [
        {
          "output_type": "execute_result",
          "data": {
            "text/plain": [
              "0          SARA MORENO 34\n",
              "1           JUAN GOMEZ 23\n",
              "2      CARLOS MARTINEZ 89\n",
              "3     ALFREDO VELAZQUES 3\n",
              "4            LUIS MORA 56\n",
              "5    @FREDDIER #PLATZI 10\n",
              "6                    <NA>\n",
              "Name: names, dtype: object"
            ]
          },
          "metadata": {
            "tags": []
          },
          "execution_count": 7
        }
      ]
    },
    {
      "cell_type": "markdown",
      "metadata": {
        "id": "Rf1Y6vLLeBO1",
        "colab_type": "text"
      },
      "source": [
        "## Convertir solo la primera letra en mayúscula"
      ]
    },
    {
      "cell_type": "code",
      "metadata": {
        "id": "aWRoOkO-d5rQ",
        "colab_type": "code",
        "colab": {
          "base_uri": "https://localhost:8080/",
          "height": 150
        },
        "outputId": "dce77659-575b-45a5-f042-c9599055a060"
      },
      "source": [
        "df['names'].str.capitalize()"
      ],
      "execution_count": 8,
      "outputs": [
        {
          "output_type": "execute_result",
          "data": {
            "text/plain": [
              "0          Sara moreno 34\n",
              "1           Juan gomez 23\n",
              "2      Carlos martinez 89\n",
              "3     Alfredo velazques 3\n",
              "4            Luis mora 56\n",
              "5    @freddier #platzi 10\n",
              "6                    <NA>\n",
              "Name: names, dtype: object"
            ]
          },
          "metadata": {
            "tags": []
          },
          "execution_count": 8
        }
      ]
    },
    {
      "cell_type": "markdown",
      "metadata": {
        "id": "atvGF6xgeKG0",
        "colab_type": "text"
      },
      "source": [
        "## Contar la longitud del texto"
      ]
    },
    {
      "cell_type": "code",
      "metadata": {
        "id": "KDpNf7QseHVu",
        "colab_type": "code",
        "colab": {
          "base_uri": "https://localhost:8080/",
          "height": 150
        },
        "outputId": "4db240a3-76c4-4658-c730-32b8676fc599"
      },
      "source": [
        "df['names'].str.len()"
      ],
      "execution_count": 9,
      "outputs": [
        {
          "output_type": "execute_result",
          "data": {
            "text/plain": [
              "0      14\n",
              "1      13\n",
              "2      18\n",
              "3      19\n",
              "4      12\n",
              "5      20\n",
              "6    <NA>\n",
              "Name: names, dtype: object"
            ]
          },
          "metadata": {
            "tags": []
          },
          "execution_count": 9
        }
      ]
    },
    {
      "cell_type": "markdown",
      "metadata": {
        "id": "bDT622AaeWWf",
        "colab_type": "text"
      },
      "source": [
        "## Dividir el texto por espacio ' '"
      ]
    },
    {
      "cell_type": "code",
      "metadata": {
        "id": "mi1xnQdmeQeX",
        "colab_type": "code",
        "colab": {
          "base_uri": "https://localhost:8080/",
          "height": 150
        },
        "outputId": "9db00b3e-2261-4049-a742-2aa8797cf3ef"
      },
      "source": [
        "df['names'].str.split(' ')"
      ],
      "execution_count": 10,
      "outputs": [
        {
          "output_type": "execute_result",
          "data": {
            "text/plain": [
              "0          [Sara, Moreno, 34]\n",
              "1           [jUAn, GOMez, 23]\n",
              "2      [CArlos, mArtinez, 89]\n",
              "3     [Alfredo, VelaZques, 3]\n",
              "4            [luis, Mora, 56]\n",
              "5    [@freddier, #platzi, 10]\n",
              "6                        <NA>\n",
              "Name: names, dtype: object"
            ]
          },
          "metadata": {
            "tags": []
          },
          "execution_count": 10
        }
      ]
    },
    {
      "cell_type": "markdown",
      "metadata": {
        "id": "arP2tJHmeihO",
        "colab_type": "text"
      },
      "source": [
        "### Ó por un símbolo #"
      ]
    },
    {
      "cell_type": "code",
      "metadata": {
        "id": "RkI2UDOIegyu",
        "colab_type": "code",
        "colab": {
          "base_uri": "https://localhost:8080/",
          "height": 150
        },
        "outputId": "461dc762-bf57-49e5-9e12-63b2b3623ea4"
      },
      "source": [
        "df['names'].str.split('#')"
      ],
      "execution_count": 11,
      "outputs": [
        {
          "output_type": "execute_result",
          "data": {
            "text/plain": [
              "0           [Sara Moreno 34]\n",
              "1            [jUAn GOMez 23]\n",
              "2       [CArlos mArtinez 89]\n",
              "3      [Alfredo VelaZques 3]\n",
              "4             [luis Mora 56]\n",
              "5    [@freddier , platzi 10]\n",
              "6                       <NA>\n",
              "Name: names, dtype: object"
            ]
          },
          "metadata": {
            "tags": []
          },
          "execution_count": 11
        }
      ]
    },
    {
      "cell_type": "markdown",
      "metadata": {
        "id": "ZuWDE414e0xP",
        "colab_type": "text"
      },
      "source": [
        "## Seleccionar los primeros 5 caracteres"
      ]
    },
    {
      "cell_type": "code",
      "metadata": {
        "id": "71Wp8t55esXJ",
        "colab_type": "code",
        "colab": {
          "base_uri": "https://localhost:8080/",
          "height": 150
        },
        "outputId": "79a5f5a1-0d0d-48b7-d411-a19c3b709964"
      },
      "source": [
        "df['names'].str[:5]"
      ],
      "execution_count": 12,
      "outputs": [
        {
          "output_type": "execute_result",
          "data": {
            "text/plain": [
              "0    Sara \n",
              "1    jUAn \n",
              "2    CArlo\n",
              "3    Alfre\n",
              "4    luis \n",
              "5    @fred\n",
              "6     <NA>\n",
              "Name: names, dtype: object"
            ]
          },
          "metadata": {
            "tags": []
          },
          "execution_count": 12
        }
      ]
    },
    {
      "cell_type": "markdown",
      "metadata": {
        "id": "Npil7-GGfBM-",
        "colab_type": "text"
      },
      "source": [
        "### últimos 5 caracteres"
      ]
    },
    {
      "cell_type": "code",
      "metadata": {
        "id": "-65_GL5Ee5Ze",
        "colab_type": "code",
        "colab": {
          "base_uri": "https://localhost:8080/",
          "height": 150
        },
        "outputId": "5822b12e-d226-47cc-86b0-8f880b745632"
      },
      "source": [
        "df['names'].str[-5:]"
      ],
      "execution_count": 14,
      "outputs": [
        {
          "output_type": "execute_result",
          "data": {
            "text/plain": [
              "0    no 34\n",
              "1    ez 23\n",
              "2    ez 89\n",
              "3    ues 3\n",
              "4    ra 56\n",
              "5    zi 10\n",
              "6     <NA>\n",
              "Name: names, dtype: object"
            ]
          },
          "metadata": {
            "tags": []
          },
          "execution_count": 14
        }
      ]
    },
    {
      "cell_type": "code",
      "metadata": {
        "id": "A3CM2SsEfF0_",
        "colab_type": "code",
        "colab": {
          "base_uri": "https://localhost:8080/",
          "height": 150
        },
        "outputId": "57831a85-1ff1-4f70-acbd-fbeae83c9e39"
      },
      "source": [
        "df['names'].str.replace('Alfredo','Cristian')"
      ],
      "execution_count": 15,
      "outputs": [
        {
          "output_type": "execute_result",
          "data": {
            "text/plain": [
              "0          Sara Moreno 34\n",
              "1           jUAn GOMez 23\n",
              "2      CArlos mArtinez 89\n",
              "3    Cristian VelaZques 3\n",
              "4            luis Mora 56\n",
              "5    @freddier #platzi 10\n",
              "6                    <NA>\n",
              "Name: names, dtype: object"
            ]
          },
          "metadata": {
            "tags": []
          },
          "execution_count": 15
        }
      ]
    },
    {
      "cell_type": "code",
      "metadata": {
        "id": "xLwmoPT1fT0v",
        "colab_type": "code",
        "colab": {
          "base_uri": "https://localhost:8080/",
          "height": 150
        },
        "outputId": "ad24c00a-5f56-41e9-fdfc-9954dadb2419"
      },
      "source": [
        "df['names'].str.findall('ara')"
      ],
      "execution_count": 16,
      "outputs": [
        {
          "output_type": "execute_result",
          "data": {
            "text/plain": [
              "0    [ara]\n",
              "1       []\n",
              "2       []\n",
              "3       []\n",
              "4       []\n",
              "5       []\n",
              "6     <NA>\n",
              "Name: names, dtype: object"
            ]
          },
          "metadata": {
            "tags": []
          },
          "execution_count": 16
        }
      ]
    },
    {
      "cell_type": "code",
      "metadata": {
        "id": "BUVTLAoYfZqL",
        "colab_type": "code",
        "colab": {
          "base_uri": "https://localhost:8080/",
          "height": 150
        },
        "outputId": "e8526e08-153a-47b5-9933-4ee08b0e6e54"
      },
      "source": [
        "df['names'].str.contains('or')"
      ],
      "execution_count": 21,
      "outputs": [
        {
          "output_type": "execute_result",
          "data": {
            "text/plain": [
              "0     True\n",
              "1    False\n",
              "2    False\n",
              "3    False\n",
              "4     True\n",
              "5    False\n",
              "6     <NA>\n",
              "Name: names, dtype: object"
            ]
          },
          "metadata": {
            "tags": []
          },
          "execution_count": 21
        }
      ]
    },
    {
      "cell_type": "code",
      "metadata": {
        "id": "16_E6LxsfuG7",
        "colab_type": "code",
        "colab": {
          "base_uri": "https://localhost:8080/",
          "height": 150
        },
        "outputId": "7db41763-0950-497b-e1e4-4ac0a36c7f42"
      },
      "source": [
        "df['names'].str.lower().str.count('a')"
      ],
      "execution_count": 22,
      "outputs": [
        {
          "output_type": "execute_result",
          "data": {
            "text/plain": [
              "0       2\n",
              "1       1\n",
              "2       2\n",
              "3       2\n",
              "4       1\n",
              "5       1\n",
              "6    <NA>\n",
              "Name: names, dtype: object"
            ]
          },
          "metadata": {
            "tags": []
          },
          "execution_count": 22
        }
      ]
    },
    {
      "cell_type": "code",
      "metadata": {
        "id": "WzK-EE52ffed",
        "colab_type": "code",
        "colab": {
          "base_uri": "https://localhost:8080/",
          "height": 150
        },
        "outputId": "61fa2a4e-c13d-47e8-9d34-1e7f028b1f45"
      },
      "source": [
        "df['names'].str.extract('([0-9]+)',expand=False)"
      ],
      "execution_count": 27,
      "outputs": [
        {
          "output_type": "execute_result",
          "data": {
            "text/plain": [
              "0     34\n",
              "1     23\n",
              "2     89\n",
              "3      3\n",
              "4     56\n",
              "5     10\n",
              "6    NaN\n",
              "Name: names, dtype: object"
            ]
          },
          "metadata": {
            "tags": []
          },
          "execution_count": 27
        }
      ]
    },
    {
      "cell_type": "code",
      "metadata": {
        "id": "Kbd2nRJ4gER1",
        "colab_type": "code",
        "colab": {
          "base_uri": "https://localhost:8080/",
          "height": 150
        },
        "outputId": "65957d40-f40d-485c-d0fc-d14b35fe1e22"
      },
      "source": [
        "df['names'].str.replace('@[^\\s]+','')"
      ],
      "execution_count": 29,
      "outputs": [
        {
          "output_type": "execute_result",
          "data": {
            "text/plain": [
              "0         Sara Moreno 34\n",
              "1          jUAn GOMez 23\n",
              "2     CArlos mArtinez 89\n",
              "3    Alfredo VelaZques 3\n",
              "4           luis Mora 56\n",
              "5             #platzi 10\n",
              "6                   <NA>\n",
              "Name: names, dtype: object"
            ]
          },
          "metadata": {
            "tags": []
          },
          "execution_count": 29
        }
      ]
    }
  ]
}