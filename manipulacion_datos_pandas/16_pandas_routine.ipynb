{
  "nbformat": 4,
  "nbformat_minor": 0,
  "metadata": {
    "colab": {
      "name": "16_pandas_routine.ipynb",
      "provenance": [],
      "collapsed_sections": [],
      "authorship_tag": "ABX9TyOdDgKBazoF78vbApbOfj7a",
      "include_colab_link": true
    },
    "kernelspec": {
      "name": "python3",
      "display_name": "Python 3"
    }
  },
  "cells": [
    {
      "cell_type": "markdown",
      "metadata": {
        "id": "view-in-github",
        "colab_type": "text"
      },
      "source": [
        "<a href=\"https://colab.research.google.com/github/cristian-rincon/escuela-datascience/blob/master/manipulacion_datos_pandas/16_pandas_routine.ipynb\" target=\"_parent\"><img src=\"https://colab.research.google.com/assets/colab-badge.svg\" alt=\"Open In Colab\"/></a>"
      ]
    },
    {
      "cell_type": "markdown",
      "metadata": {
        "id": "D2xE4iU52T9v",
        "colab_type": "text"
      },
      "source": [
        "# Rutina de preprocesamiento de datos con Pandas"
      ]
    },
    {
      "cell_type": "markdown",
      "metadata": {
        "id": "P9zOxTjQ5hCt",
        "colab_type": "text"
      },
      "source": [
        "## Dataset a usar en esta rutina:"
      ]
    },
    {
      "cell_type": "markdown",
      "metadata": {
        "id": "bHYjt5yn2m76",
        "colab_type": "text"
      },
      "source": [
        "\n",
        "Temperature (°C) https://www.kaggle.com/berkeleyearth/climate-change-earth-surface-temperature-data#GlobalLandTemperaturesByCountry.csv"
      ]
    },
    {
      "cell_type": "markdown",
      "metadata": {
        "id": "bgZ6RqPL5lDt",
        "colab_type": "text"
      },
      "source": [
        "Para evitar la descarga local del archivo, realizaremos unos pasos aprovechando la API de Kaggle, de tal forma que podamos descargar el archivo directamente en drive."
      ]
    },
    {
      "cell_type": "markdown",
      "metadata": {
        "id": "4LVgyxcv5yQM",
        "colab_type": "text"
      },
      "source": [
        "### 1. Instalando kaggle"
      ]
    },
    {
      "cell_type": "code",
      "metadata": {
        "id": "QDbH7jxV2NHm",
        "colab_type": "code",
        "colab": {}
      },
      "source": [
        "! pip install -q kaggle"
      ],
      "execution_count": 2,
      "outputs": []
    },
    {
      "cell_type": "markdown",
      "metadata": {
        "id": "ku_N7IiB551C",
        "colab_type": "text"
      },
      "source": [
        "### 2. Importando el sistema de archivos que nos provee Colab"
      ]
    },
    {
      "cell_type": "code",
      "metadata": {
        "id": "EgH-3Mr-3gJy",
        "colab_type": "code",
        "colab": {}
      },
      "source": [
        "from google.colab import files"
      ],
      "execution_count": 4,
      "outputs": []
    },
    {
      "cell_type": "markdown",
      "metadata": {
        "id": "NGN1a8os6HW6",
        "colab_type": "text"
      },
      "source": [
        "### 3. Creación y carga de API key\n",
        "\n",
        "3.1. Lo primero que debemos hacer es ir a [Kaggle](https://www.kaggle.com/) > account y con el mouse bajamos hasta la opción API.\n",
        "\n",
        "3.2. Una vez allí, hacemos click en la opción **Create New API Token**, lo cual descargará un archivo _.json_ que nos permitirá conectarnos a la api de Kaggle.\n",
        "\n",
        "3.3. Ahora usaremos el módulo de files para cargar el archivo en nuestro sistema local."
      ]
    },
    {
      "cell_type": "code",
      "metadata": {
        "id": "bkh2t69m3pr0",
        "colab_type": "code",
        "colab": {
          "resources": {
            "http://localhost:8080/nbextensions/google.colab/files.js": {
              "data": "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",
              "ok": true,
              "headers": [
                [
                  "content-type",
                  "application/javascript"
                ]
              ],
              "status": 200,
              "status_text": ""
            }
          },
          "base_uri": "https://localhost:8080/",
          "height": 90
        },
        "outputId": "f5c7d5a9-fd7c-4cf0-950a-cb2dc2503647"
      },
      "source": [
        "files.upload()"
      ],
      "execution_count": 5,
      "outputs": [
        {
          "output_type": "display_data",
          "data": {
            "text/html": [
              "\n",
              "     <input type=\"file\" id=\"files-fdd184d8-f2ac-4eca-852b-4ca0c58da85e\" name=\"files[]\" multiple disabled\n",
              "        style=\"border:none\" />\n",
              "     <output id=\"result-fdd184d8-f2ac-4eca-852b-4ca0c58da85e\">\n",
              "      Upload widget is only available when the cell has been executed in the\n",
              "      current browser session. Please rerun this cell to enable.\n",
              "      </output>\n",
              "      <script src=\"/nbextensions/google.colab/files.js\"></script> "
            ],
            "text/plain": [
              "<IPython.core.display.HTML object>"
            ]
          },
          "metadata": {
            "tags": []
          }
        },
        {
          "output_type": "stream",
          "text": [
            "Saving kaggle.json to kaggle.json\n"
          ],
          "name": "stdout"
        },
        {
          "output_type": "execute_result",
          "data": {
            "text/plain": [
              "{'kaggle.json': b'{\"username\":\"cristianrincon\",\"key\":\"5c50bee4a04b2ff77b36cc4f8cf6d5a1\"}'}"
            ]
          },
          "metadata": {
            "tags": []
          },
          "execution_count": 5
        }
      ]
    },
    {
      "cell_type": "markdown",
      "metadata": {
        "id": "lXE9iQep7uGs",
        "colab_type": "text"
      },
      "source": [
        "3.4. Creamos una carpeta oculta en el sistema de archivos con el nombre _.kaggle_."
      ]
    },
    {
      "cell_type": "code",
      "metadata": {
        "id": "bMqNwpTQ3wUd",
        "colab_type": "code",
        "colab": {}
      },
      "source": [
        " ! mkdir ~/.kaggle"
      ],
      "execution_count": 6,
      "outputs": []
    },
    {
      "cell_type": "markdown",
      "metadata": {
        "id": "yt4BV4r-75aI",
        "colab_type": "text"
      },
      "source": [
        "3.5. Copiamos el archivo de credenciales que subimos en el paso 3.3 a la carpeta que creamos previamente."
      ]
    },
    {
      "cell_type": "code",
      "metadata": {
        "id": "Y6oxuNAt3zPn",
        "colab_type": "code",
        "colab": {}
      },
      "source": [
        "! cp kaggle.json ~/.kaggle/"
      ],
      "execution_count": 7,
      "outputs": []
    },
    {
      "cell_type": "markdown",
      "metadata": {
        "id": "lDS1LiRN8FRk",
        "colab_type": "text"
      },
      "source": [
        "3.6. Cambiamos los permisos para permitir lectura de las credenciales."
      ]
    },
    {
      "cell_type": "code",
      "metadata": {
        "id": "YxFSJZpR32XJ",
        "colab_type": "code",
        "colab": {}
      },
      "source": [
        "!chmod 600 ~/.kaggle/kaggle.json"
      ],
      "execution_count": 8,
      "outputs": []
    },
    {
      "cell_type": "markdown",
      "metadata": {
        "id": "0Q9eqve88lrg",
        "colab_type": "text"
      },
      "source": [
        "### 4. Probando la conexión a la API de Kaggle"
      ]
    },
    {
      "cell_type": "markdown",
      "metadata": {
        "id": "XJJP_jmf8sJX",
        "colab_type": "text"
      },
      "source": [
        "vamos utilizar el comando para listar algunos de los datasets que tenemos disponibles para consulta y verificar de esta forma que nos permita conectarnos de manera correcta."
      ]
    },
    {
      "cell_type": "code",
      "metadata": {
        "id": "ckn0v_2V36Xu",
        "colab_type": "code",
        "colab": {
          "base_uri": "https://localhost:8080/",
          "height": 403
        },
        "outputId": "3dd23e90-bb3d-4f82-a7c4-aa430a7363b0"
      },
      "source": [
        "! kaggle datasets list"
      ],
      "execution_count": 9,
      "outputs": [
        {
          "output_type": "stream",
          "text": [
            "Warning: Looks like you're using an outdated API Version, please consider updating (server 1.5.6 / client 1.5.4)\n",
            "ref                                                               title                                             size  lastUpdated          downloadCount  \n",
            "----------------------------------------------------------------  -----------------------------------------------  -----  -------------------  -------------  \n",
            "gpreda/covid19-tweets                                             COVID19 Tweets                                    21MB  2020-08-14 07:51:12           2064  \n",
            "christianlillelund/passenger-list-for-the-estonia-ferry-disaster  The Estonia Disaster Passenger List               14KB  2020-07-26 15:40:17            576  \n",
            "futurecorporation/epitope-prediction                              COVID-19/SARS B-cell Epitope Prediction            1MB  2020-07-24 02:53:28            488  \n",
            "Cornell-University/arxiv                                          arXiv Dataset                                    877MB  2020-08-14 23:50:57           1359  \n",
            "vidyapb/indian-school-education-statistics                        Indian School Education Statistics                24KB  2020-07-23 17:26:11           1133  \n",
            "claytonmiller/ashrae-global-thermal-comfort-database-ii           ASHRAE Global Thermal Comfort Database II          3MB  2020-07-21 02:47:43            118  \n",
            "jeffreybraun/chipotle-locations                                   Chipotle Locations                               124KB  2020-07-28 20:20:41            538  \n",
            "ahsen1330/us-police-shootings                                     US Police Shootings                              126KB  2020-07-30 04:23:34           1319  \n",
            "jeffreybraun/chopped-10-years-of-episode-data                     Chopped: 10+ Years of Episode Data               305KB  2020-07-30 15:19:41            161  \n",
            "susuwatari/ppp-loan-data-paycheck-protection-program              PPP Loan Data (Paycheck Protection Program)       26MB  2020-08-01 23:29:41            271  \n",
            "shuyangli94/this-american-life-podcast-transcriptsalignments      This American Life Podcast Dialog Transcripts     76MB  2020-08-01 20:45:13             38  \n",
            "umairnasir14/impact-factor-of-top-1000-journals                   Impact factor of top 1000 journals               397KB  2020-08-03 08:25:35            151  \n",
            "benroshan/factors-affecting-campus-placement                      Campus Recruitment                                 5KB  2020-04-11 11:09:02          14104  \n",
            "bobbyscience/league-of-legends-diamond-ranked-games-10-min        League of Legends Diamond Ranked Games (10 min)  539KB  2020-04-13 13:53:02           5563  \n",
            "divyansh22/flight-delay-prediction                                January Flight Delay Prediction                   23MB  2020-04-14 13:15:41           4715  \n",
            "clmentbisaillon/fake-and-real-news-dataset                        Fake and real news dataset                        41MB  2020-03-26 18:51:15          11879  \n",
            "ikiulian/global-hospital-beds-capacity-for-covid19                Global Hospital Beds Capacity (for covid-19)     284KB  2020-04-26 09:39:35           4023  \n",
            "praveengovi/coronahack-chest-xraydataset                          CoronaHack -Chest X-Ray-Dataset                    1GB  2020-03-20 01:26:40           5624  \n",
            "bappekim/air-pollution-in-seoul                                   Air Pollution in Seoul                            20MB  2020-04-03 16:33:49           5624  \n",
            "imdevskp/india-district-wise-shape-files                          India 2020 District Level Shape files             22MB  2020-04-10 09:03:16           1411  \n"
          ],
          "name": "stdout"
        }
      ]
    },
    {
      "cell_type": "markdown",
      "metadata": {
        "id": "9qwjPGzA85N3",
        "colab_type": "text"
      },
      "source": [
        "### 5. Descargando un archivo desde Kaggle a nuestro Drive\n",
        "\n",
        "5.1. Para este paso podemos ir a la página principal del dataset que queremos descargar.\n",
        "5.2. Hacemos click en el botón a la derecha de **New Notebook**, lo cual desplegará un menú y en él seleccionaremos la opción **Copy API Command**.\n",
        "\n",
        "5.3. Usaremos el comando para descargar datasets desde kaggle \n",
        "\n",
        "```shell\n",
        "! kaggle datasets download -d <ruta del dataset en kaggle, copiada al presionar el botón Copy API Command>\n",
        "```"
      ]
    },
    {
      "cell_type": "code",
      "metadata": {
        "id": "PKuEWGN-4Fwd",
        "colab_type": "code",
        "colab": {
          "base_uri": "https://localhost:8080/",
          "height": 67
        },
        "outputId": "a321566a-f72c-46b8-8085-3588e732159a"
      },
      "source": [
        "! kaggle datasets download -d berkeleyearth/climate-change-earth-surface-temperature-data"
      ],
      "execution_count": 11,
      "outputs": [
        {
          "output_type": "stream",
          "text": [
            "Downloading climate-change-earth-surface-temperature-data.zip to /content\n",
            " 96% 81.0M/84.7M [00:04<00:00, 13.6MB/s]\n",
            "100% 84.7M/84.7M [00:04<00:00, 18.6MB/s]\n"
          ],
          "name": "stdout"
        }
      ]
    },
    {
      "cell_type": "markdown",
      "metadata": {
        "id": "PisZKhvh-RQl",
        "colab_type": "text"
      },
      "source": [
        "## Bonus - Activar la unidad de drive para usarla en Colab\n",
        "\n",
        "### 1. Importamos la librería ``drive`` desde ``google.colab``\n",
        "\n",
        "1.2. Usamos el método mount para especificar la unidad a montar."
      ]
    },
    {
      "cell_type": "code",
      "metadata": {
        "id": "Ora3qLiz4obS",
        "colab_type": "code",
        "colab": {
          "base_uri": "https://localhost:8080/",
          "height": 121
        },
        "outputId": "99add875-ddde-4e84-8514-487b82a34907"
      },
      "source": [
        "from google.colab import drive\n",
        "drive.mount('/content/drive/')"
      ],
      "execution_count": 12,
      "outputs": [
        {
          "output_type": "stream",
          "text": [
            "Go to this URL in a browser: https://accounts.google.com/o/oauth2/auth?client_id=947318989803-6bn6qk8qdgf4n4g3pfee6491hc0brc4i.apps.googleusercontent.com&redirect_uri=urn%3aietf%3awg%3aoauth%3a2.0%3aoob&scope=email%20https%3a%2f%2fwww.googleapis.com%2fauth%2fdocs.test%20https%3a%2f%2fwww.googleapis.com%2fauth%2fdrive%20https%3a%2f%2fwww.googleapis.com%2fauth%2fdrive.photos.readonly%20https%3a%2f%2fwww.googleapis.com%2fauth%2fpeopleapi.readonly&response_type=code\n",
            "\n",
            "Enter your authorization code:\n",
            "··········\n",
            "Mounted at /content/drive/\n"
          ],
          "name": "stdout"
        }
      ]
    },
    {
      "cell_type": "markdown",
      "metadata": {
        "id": "HCTssZDe-0wH",
        "colab_type": "text"
      },
      "source": [
        "### 2. Descomprimir el archivo desde drive\n",
        "\n",
        "2.1. Creamos el directorio donde queremos guardar nuestro archivo descomprimido con el comando:\n",
        "\n",
        "```bash\n",
        "!mkdir '/content/drive/My Drive/Colab Notebooks/db/'\n",
        "```"
      ]
    },
    {
      "cell_type": "code",
      "metadata": {
        "id": "V1jk41YJ4zJ0",
        "colab_type": "code",
        "colab": {}
      },
      "source": [
        "# !mkdir '/content/drive/My Drive/Colab Notebooks/manipulacion_datos_pandas/db/'"
      ],
      "execution_count": 13,
      "outputs": []
    },
    {
      "cell_type": "markdown",
      "metadata": {
        "id": "c9rFzrmg_Pna",
        "colab_type": "text"
      },
      "source": [
        "2.2. Finalmente, descomprimiremos el archivo utilizando el comando unzip de la siguiente forma:\n",
        "\n",
        "```bash\n",
        "!unzip <archivo a descomprimir> -d <'ruta de destino del archivo'>\n",
        "```"
      ]
    },
    {
      "cell_type": "code",
      "metadata": {
        "id": "c6QfQHwl5MlS",
        "colab_type": "code",
        "colab": {
          "base_uri": "https://localhost:8080/",
          "height": 118
        },
        "outputId": "ad25de4d-462e-4722-b58b-269984c15735"
      },
      "source": [
        "!unzip climate-change-earth-surface-temperature-data.zip -d '/content/drive/My Drive/Colab Notebooks/manipulacion_datos_pandas/db/'"
      ],
      "execution_count": 14,
      "outputs": [
        {
          "output_type": "stream",
          "text": [
            "Archive:  climate-change-earth-surface-temperature-data.zip\n",
            "  inflating: /content/drive/My Drive/Colab Notebooks/manipulacion_datos_pandas/db/GlobalLandTemperaturesByCity.csv  \n",
            "  inflating: /content/drive/My Drive/Colab Notebooks/manipulacion_datos_pandas/db/GlobalLandTemperaturesByCountry.csv  \n",
            "  inflating: /content/drive/My Drive/Colab Notebooks/manipulacion_datos_pandas/db/GlobalLandTemperaturesByMajorCity.csv  \n",
            "  inflating: /content/drive/My Drive/Colab Notebooks/manipulacion_datos_pandas/db/GlobalLandTemperaturesByState.csv  \n",
            "  inflating: /content/drive/My Drive/Colab Notebooks/manipulacion_datos_pandas/db/GlobalTemperatures.csv  \n"
          ],
          "name": "stdout"
        }
      ]
    }
  ]
}