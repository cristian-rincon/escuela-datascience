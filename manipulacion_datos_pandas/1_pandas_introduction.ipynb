{
  "nbformat": 4,
  "nbformat_minor": 0,
  "metadata": {
    "colab": {
      "name": "1_pandas_introduction.ipynb",
      "provenance": [],
      "authorship_tag": "ABX9TyPHtl6K7iEg0fM/BHl/ucyW",
      "include_colab_link": true
    },
    "kernelspec": {
      "name": "python3",
      "display_name": "Python 3"
    }
  },
  "cells": [
    {
      "cell_type": "markdown",
      "metadata": {
        "id": "view-in-github",
        "colab_type": "text"
      },
      "source": [
        "<a href=\"https://colab.research.google.com/github/cristian-rincon/escuela-datascience/blob/master/manipulacion_datos_pandas/1_pandas_introduction.ipynb\" target=\"_parent\"><img src=\"https://colab.research.google.com/assets/colab-badge.svg\" alt=\"Open In Colab\"/></a>"
      ]
    },
    {
      "cell_type": "code",
      "metadata": {
        "id": "7XlyYDHQMwBZ",
        "colab_type": "code",
        "colab": {
          "base_uri": "https://localhost:8080/",
          "height": 33
        },
        "outputId": "7f09b48b-0676-4204-9469-10535c3d8ee0"
      },
      "source": [
        "import numpy as np\n",
        "\n",
        "list_1 = [1,2,3,4,5]\n",
        "\n",
        "list_2 = np.array(list_1) + 10 # this will add 10 to every number into the array\n",
        "list_2"
      ],
      "execution_count": null,
      "outputs": [
        {
          "output_type": "execute_result",
          "data": {
            "text/plain": [
              "array([11, 12, 13, 14, 15])"
            ]
          },
          "metadata": {
            "tags": []
          },
          "execution_count": 15
        }
      ]
    },
    {
      "cell_type": "markdown",
      "metadata": {
        "id": "5pEzMvusPgpz",
        "colab_type": "text"
      },
      "source": [
        "## Getting information about how many elements are into np array"
      ]
    },
    {
      "cell_type": "code",
      "metadata": {
        "id": "mt7abeAIOLyx",
        "colab_type": "code",
        "colab": {
          "base_uri": "https://localhost:8080/",
          "height": 33
        },
        "outputId": "9e4b5390-1905-402d-8965-4937e28d5016"
      },
      "source": [
        "list_3 = np.array(list_2).shape\n",
        "list_3"
      ],
      "execution_count": null,
      "outputs": [
        {
          "output_type": "execute_result",
          "data": {
            "text/plain": [
              "(5,)"
            ]
          },
          "metadata": {
            "tags": []
          },
          "execution_count": 9
        }
      ]
    },
    {
      "cell_type": "markdown",
      "metadata": {
        "id": "ZD1_RPZuPbQX",
        "colab_type": "text"
      },
      "source": [
        "## Creating matrix"
      ]
    },
    {
      "cell_type": "code",
      "metadata": {
        "id": "t8xQ8ZzzOlt6",
        "colab_type": "code",
        "colab": {
          "base_uri": "https://localhost:8080/",
          "height": 50
        },
        "outputId": "15c2288a-9832-4733-dfc0-11acf9e5be1b"
      },
      "source": [
        "sample_matrix = np.array([list_1,list_2])\n",
        "sample_matrix"
      ],
      "execution_count": null,
      "outputs": [
        {
          "output_type": "execute_result",
          "data": {
            "text/plain": [
              "array([[ 1,  2,  3,  4,  5],\n",
              "       [11, 12, 13, 14, 15]])"
            ]
          },
          "metadata": {
            "tags": []
          },
          "execution_count": 12
        }
      ]
    },
    {
      "cell_type": "code",
      "metadata": {
        "id": "OAc9s7KyO3nQ",
        "colab_type": "code",
        "colab": {
          "base_uri": "https://localhost:8080/",
          "height": 33
        },
        "outputId": "0d242b34-866b-4542-9567-274d04d34801"
      },
      "source": [
        "sample_matrix.shape"
      ],
      "execution_count": null,
      "outputs": [
        {
          "output_type": "execute_result",
          "data": {
            "text/plain": [
              "(2, 5)"
            ]
          },
          "metadata": {
            "tags": []
          },
          "execution_count": 13
        }
      ]
    },
    {
      "cell_type": "markdown",
      "metadata": {
        "id": "X7M7FfZcPSg4",
        "colab_type": "text"
      },
      "source": [
        "## Access to element into matrix"
      ]
    },
    {
      "cell_type": "code",
      "metadata": {
        "id": "y_cVdNqSPDGJ",
        "colab_type": "code",
        "colab": {
          "base_uri": "https://localhost:8080/",
          "height": 33
        },
        "outputId": "f706e316-3bbd-4e6d-c242-3484d4fcb941"
      },
      "source": [
        "sample_matrix[0][1]"
      ],
      "execution_count": null,
      "outputs": [
        {
          "output_type": "execute_result",
          "data": {
            "text/plain": [
              "2"
            ]
          },
          "metadata": {
            "tags": []
          },
          "execution_count": 14
        }
      ]
    },
    {
      "cell_type": "markdown",
      "metadata": {
        "id": "2tg1Y0xqQqOz",
        "colab_type": "text"
      },
      "source": [
        "## Pandas Series"
      ]
    },
    {
      "cell_type": "code",
      "metadata": {
        "id": "cYvyAes3Q8YM",
        "colab_type": "code",
        "colab": {}
      },
      "source": [
        "import pandas as pd"
      ],
      "execution_count": null,
      "outputs": []
    },
    {
      "cell_type": "code",
      "metadata": {
        "id": "NDoYXF2sRAQq",
        "colab_type": "code",
        "colab": {
          "base_uri": "https://localhost:8080/",
          "height": 116
        },
        "outputId": "234683df-0ca3-4e47-96af-ba2167264c39"
      },
      "source": [
        "pd.Series([10,9,8,7,6])"
      ],
      "execution_count": null,
      "outputs": [
        {
          "output_type": "execute_result",
          "data": {
            "text/plain": [
              "0    10\n",
              "1     9\n",
              "2     8\n",
              "3     7\n",
              "4     6\n",
              "dtype: int64"
            ]
          },
          "metadata": {
            "tags": []
          },
          "execution_count": 17
        }
      ]
    },
    {
      "cell_type": "code",
      "metadata": {
        "id": "senCMDH0RHw5",
        "colab_type": "code",
        "colab": {
          "base_uri": "https://localhost:8080/",
          "height": 33
        },
        "outputId": "bd7f1d62-f728-46bf-8b2b-0bb9a6942427"
      },
      "source": [
        "serie_1 = pd.Series([10,9,8,7,6])\n",
        "serie_1.values"
      ],
      "execution_count": null,
      "outputs": [
        {
          "output_type": "execute_result",
          "data": {
            "text/plain": [
              "array([10,  9,  8,  7,  6])"
            ]
          },
          "metadata": {
            "tags": []
          },
          "execution_count": 18
        }
      ]
    },
    {
      "cell_type": "code",
      "metadata": {
        "id": "KIVknmnoRVUQ",
        "colab_type": "code",
        "colab": {
          "base_uri": "https://localhost:8080/",
          "height": 33
        },
        "outputId": "0493388d-004c-4768-cff5-c2b2add89565"
      },
      "source": [
        "serie_1.index"
      ],
      "execution_count": null,
      "outputs": [
        {
          "output_type": "execute_result",
          "data": {
            "text/plain": [
              "RangeIndex(start=0, stop=5, step=1)"
            ]
          },
          "metadata": {
            "tags": []
          },
          "execution_count": 19
        }
      ]
    },
    {
      "cell_type": "code",
      "metadata": {
        "id": "ElfIq61kRZ7q",
        "colab_type": "code",
        "colab": {
          "base_uri": "https://localhost:8080/",
          "height": 33
        },
        "outputId": "2ae75b3c-f8be-4c2d-9a11-643e77046455"
      },
      "source": [
        "serie_1.shape"
      ],
      "execution_count": null,
      "outputs": [
        {
          "output_type": "execute_result",
          "data": {
            "text/plain": [
              "(5,)"
            ]
          },
          "metadata": {
            "tags": []
          },
          "execution_count": 20
        }
      ]
    },
    {
      "cell_type": "code",
      "metadata": {
        "id": "jWcTo4TlRcpF",
        "colab_type": "code",
        "colab": {
          "base_uri": "https://localhost:8080/",
          "height": 33
        },
        "outputId": "15277b53-bfd5-415b-d75b-7ce081b99e35"
      },
      "source": [
        "serie_1[3]"
      ],
      "execution_count": null,
      "outputs": [
        {
          "output_type": "execute_result",
          "data": {
            "text/plain": [
              "7"
            ]
          },
          "metadata": {
            "tags": []
          },
          "execution_count": 21
        }
      ]
    },
    {
      "cell_type": "markdown",
      "metadata": {
        "id": "M5ZGkXk6R7zo",
        "colab_type": "text"
      },
      "source": [
        "### Custom index"
      ]
    },
    {
      "cell_type": "code",
      "metadata": {
        "id": "0GBeV0buRmIr",
        "colab_type": "code",
        "colab": {
          "base_uri": "https://localhost:8080/",
          "height": 116
        },
        "outputId": "407e70dc-e165-4408-c62b-7d1930970965"
      },
      "source": [
        "sr_1 = pd.Series([10,9,8,7,6], index=['a','b','c','d','e'])\n",
        "sr_1"
      ],
      "execution_count": null,
      "outputs": [
        {
          "output_type": "execute_result",
          "data": {
            "text/plain": [
              "a    10\n",
              "b     9\n",
              "c     8\n",
              "d     7\n",
              "e     6\n",
              "dtype: int64"
            ]
          },
          "metadata": {
            "tags": []
          },
          "execution_count": 22
        }
      ]
    },
    {
      "cell_type": "code",
      "metadata": {
        "id": "WBtj8s8-SJ_m",
        "colab_type": "code",
        "colab": {
          "base_uri": "https://localhost:8080/",
          "height": 100
        },
        "outputId": "64f467ca-a119-40db-9ad0-3e8b345eb719"
      },
      "source": [
        "sr_1['b':'e']"
      ],
      "execution_count": null,
      "outputs": [
        {
          "output_type": "execute_result",
          "data": {
            "text/plain": [
              "b    9\n",
              "c    8\n",
              "d    7\n",
              "e    6\n",
              "dtype: int64"
            ]
          },
          "metadata": {
            "tags": []
          },
          "execution_count": 24
        }
      ]
    },
    {
      "cell_type": "markdown",
      "metadata": {
        "id": "-1lTzYEsSQ7S",
        "colab_type": "text"
      },
      "source": [
        "## Dictionary"
      ]
    },
    {
      "cell_type": "code",
      "metadata": {
        "id": "xp1WvQbrSPGG",
        "colab_type": "code",
        "colab": {
          "base_uri": "https://localhost:8080/",
          "height": 33
        },
        "outputId": "1827fca2-1514-4b26-b50a-3eaa052c971c"
      },
      "source": [
        "dict_data = {'CO':100,\n",
        "            'MX':200,\n",
        "            'AR':300}\n",
        "dict_data"
      ],
      "execution_count": null,
      "outputs": [
        {
          "output_type": "execute_result",
          "data": {
            "text/plain": [
              "{'AR': 300, 'CO': 100, 'MX': 200}"
            ]
          },
          "metadata": {
            "tags": []
          },
          "execution_count": 26
        }
      ]
    },
    {
      "cell_type": "code",
      "metadata": {
        "id": "vbkCXLVKSjrs",
        "colab_type": "code",
        "colab": {
          "base_uri": "https://localhost:8080/",
          "height": 33
        },
        "outputId": "64d06245-969b-4ed8-9716-ff4c846e9869"
      },
      "source": [
        "dict_data.keys()"
      ],
      "execution_count": null,
      "outputs": [
        {
          "output_type": "execute_result",
          "data": {
            "text/plain": [
              "dict_keys(['CO', 'MX', 'AR'])"
            ]
          },
          "metadata": {
            "tags": []
          },
          "execution_count": 27
        }
      ]
    },
    {
      "cell_type": "code",
      "metadata": {
        "id": "xsX0_R8CSnaN",
        "colab_type": "code",
        "colab": {
          "base_uri": "https://localhost:8080/",
          "height": 33
        },
        "outputId": "6b15b372-e7e3-4aff-b45e-0076d7c8dd4d"
      },
      "source": [
        "dict_data['CO']"
      ],
      "execution_count": null,
      "outputs": [
        {
          "output_type": "execute_result",
          "data": {
            "text/plain": [
              "100"
            ]
          },
          "metadata": {
            "tags": []
          },
          "execution_count": 29
        }
      ]
    },
    {
      "cell_type": "markdown",
      "metadata": {
        "id": "qVAAcQrvTlZh",
        "colab_type": "text"
      },
      "source": [
        "## Convert data from dict to Pandas Series"
      ]
    },
    {
      "cell_type": "code",
      "metadata": {
        "id": "hPjMq_LxSvwx",
        "colab_type": "code",
        "colab": {
          "base_uri": "https://localhost:8080/",
          "height": 83
        },
        "outputId": "37904c70-ac08-4245-949e-2b1ae07bd0b8"
      },
      "source": [
        "sr_2 = pd.Series(dict_data, index=['CO','MX','PE']) # If not a index, pandas will fill it with NaN\n",
        "sr_2"
      ],
      "execution_count": null,
      "outputs": [
        {
          "output_type": "execute_result",
          "data": {
            "text/plain": [
              "CO    100.0\n",
              "MX    200.0\n",
              "PE      NaN\n",
              "dtype: float64"
            ]
          },
          "metadata": {
            "tags": []
          },
          "execution_count": 34
        }
      ]
    },
    {
      "cell_type": "markdown",
      "metadata": {
        "id": "zMVxbLPzTivu",
        "colab_type": "text"
      },
      "source": [
        "### Get True if value is NULL "
      ]
    },
    {
      "cell_type": "code",
      "metadata": {
        "id": "6poOjkw4TUTL",
        "colab_type": "code",
        "colab": {
          "base_uri": "https://localhost:8080/",
          "height": 83
        },
        "outputId": "a3768e7a-18d7-4fba-8604-92334370d326"
      },
      "source": [
        "sr_2.isnull()"
      ],
      "execution_count": null,
      "outputs": [
        {
          "output_type": "execute_result",
          "data": {
            "text/plain": [
              "CO    False\n",
              "MX    False\n",
              "PE     True\n",
              "dtype: bool"
            ]
          },
          "metadata": {
            "tags": []
          },
          "execution_count": 35
        }
      ]
    },
    {
      "cell_type": "markdown",
      "metadata": {
        "id": "mzizQJFMT0lP",
        "colab_type": "text"
      },
      "source": [
        "### Get True if value is not NULL"
      ]
    },
    {
      "cell_type": "code",
      "metadata": {
        "id": "qksFdmVeTZpX",
        "colab_type": "code",
        "colab": {
          "base_uri": "https://localhost:8080/",
          "height": 83
        },
        "outputId": "296b414b-1f04-45e4-a1b7-494dd2f44106"
      },
      "source": [
        "sr_2.notnull()"
      ],
      "execution_count": null,
      "outputs": [
        {
          "output_type": "execute_result",
          "data": {
            "text/plain": [
              "CO     True\n",
              "MX     True\n",
              "PE    False\n",
              "dtype: bool"
            ]
          },
          "metadata": {
            "tags": []
          },
          "execution_count": 37
        }
      ]
    },
    {
      "cell_type": "code",
      "metadata": {
        "id": "Dtm0QD0MTJEv",
        "colab_type": "code",
        "colab": {}
      },
      "source": [
        ""
      ],
      "execution_count": null,
      "outputs": []
    }
  ]
}