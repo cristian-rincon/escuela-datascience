{
  "nbformat": 4,
  "nbformat_minor": 0,
  "metadata": {
    "colab": {
      "name": "Setup.ipynb",
      "provenance": [],
      "authorship_tag": "ABX9TyPepCfkl2edY9IsET04iTBl",
      "include_colab_link": true
    },
    "kernelspec": {
      "name": "python3",
      "display_name": "Python 3"
    }
  },
  "cells": [
    {
      "cell_type": "markdown",
      "metadata": {
        "id": "view-in-github",
        "colab_type": "text"
      },
      "source": [
        "<a href=\"https://colab.research.google.com/github/cristian-rincon/escuela-datascience/blob/master/fundamentos_algebra_lineal/Setup.ipynb\" target=\"_parent\"><img src=\"https://colab.research.google.com/assets/colab-badge.svg\" alt=\"Open In Colab\"/></a>"
      ]
    },
    {
      "cell_type": "markdown",
      "metadata": {
        "id": "x5NpoYGRQoMm",
        "colab_type": "text"
      },
      "source": [
        "* Jupyter Notebook\n",
        "* scipy (tambien instalará numpy)\n",
        "* pillow (libreria para manejo de imágenes)\n",
        "* imageio (lectura / escritura de imágenes)\n",
        "* matplotlib (para graficar)\n",
        "* seaborn (visualizaciones estadísticas)\n",
        "* scikit-learn (aprendizaje automático - lo usaremos para un ejemplo de PCA)"
      ]
    },
    {
      "cell_type": "code",
      "metadata": {
        "id": "_k5xyzO9Qbkf",
        "colab_type": "code",
        "colab": {
          "base_uri": "https://localhost:8080/",
          "height": 327
        },
        "outputId": "4e2f6c4f-5d4f-4a65-ff38-3169ccbac6f1"
      },
      "source": [
        "import seaborn as sns\n",
        "vuelos = sns.load_dataset(\"flights\")\n",
        "vuelos = vuelos.pivot(\"month\", \"year\", \"passengers\")\n",
        "ax = sns.heatmap(vuelos)"
      ],
      "execution_count": 1,
      "outputs": [
        {
          "output_type": "stream",
          "text": [
            "/usr/local/lib/python3.6/dist-packages/statsmodels/tools/_testing.py:19: FutureWarning: pandas.util.testing is deprecated. Use the functions in the public API at pandas.testing instead.\n",
            "  import pandas.util.testing as tm\n"
          ],
          "name": "stderr"
        },
        {
          "output_type": "display_data",
          "data": {
            "image/png": "[encoded data removed]",
            "text/plain": [
              "<Figure size 432x288 with 2 Axes>"
            ]
          },
          "metadata": {
            "tags": [],
            "needs_background": "light"
          }
        }
      ]
    },
    {
      "cell_type": "code",
      "metadata": {
        "id": "7vV1LZRASA-v",
        "colab_type": "code",
        "colab": {
          "base_uri": "https://localhost:8080/",
          "height": 33
        },
        "outputId": "06a0f2ef-f5d9-4e9b-87f6-507925b96fcf"
      },
      "source": [
        "from platform import python_version\n",
        "print(python_version())"
      ],
      "execution_count": 2,
      "outputs": [
        {
          "output_type": "stream",
          "text": [
            "3.6.9\n"
          ],
          "name": "stdout"
        }
      ]
    }
  ]
}