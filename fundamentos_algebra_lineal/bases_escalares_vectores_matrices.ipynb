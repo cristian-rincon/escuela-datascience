{
  "nbformat": 4,
  "nbformat_minor": 0,
  "metadata": {
    "colab": {
      "name": "bases_escalares_vectores_matrices.ipynb",
      "provenance": [],
      "authorship_tag": "ABX9TyPYvIivVpb9E0FkQhIRVuCR",
      "include_colab_link": true
    },
    "kernelspec": {
      "name": "python3",
      "display_name": "Python 3"
    }
  },
  "cells": [
    {
      "cell_type": "markdown",
      "metadata": {
        "id": "view-in-github",
        "colab_type": "text"
      },
      "source": [
        "<a href=\"https://colab.research.google.com/github/cristian-rincon/escuela-datascience/blob/master/fundamentos_algebra_lineal/bases_escalares_vectores_matrices.ipynb\" target=\"_parent\"><img src=\"https://colab.research.google.com/assets/colab-badge.svg\" alt=\"Open In Colab\"/></a>"
      ]
    },
    {
      "cell_type": "markdown",
      "metadata": {
        "id": "6DFwBa7TTYmr",
        "colab_type": "text"
      },
      "source": [
        "## Escalares\n",
        "\n",
        "Un escalar puede ser un número, no tiene dimensiones"
      ]
    },
    {
      "cell_type": "code",
      "metadata": {
        "id": "ZJr9KwoRTOlO",
        "colab_type": "code",
        "colab": {
          "base_uri": "https://localhost:8080/",
          "height": 34
        },
        "outputId": "a50ab8df-4ce4-40c6-b20e-5a6df62e6bd6"
      },
      "source": [
        "escalar = 3.1416\n",
        "escalar"
      ],
      "execution_count": 3,
      "outputs": [
        {
          "output_type": "execute_result",
          "data": {
            "text/plain": [
              "3.1416"
            ]
          },
          "metadata": {
            "tags": []
          },
          "execution_count": 3
        }
      ]
    },
    {
      "cell_type": "code",
      "metadata": {
        "id": "K64afMHITwMD",
        "colab_type": "code",
        "colab": {
          "base_uri": "https://localhost:8080/",
          "height": 34
        },
        "outputId": "a962c4b4-cb07-410b-d84c-e617edca86e4"
      },
      "source": [
        "escalar_python = True\n",
        "escalar_python"
      ],
      "execution_count": 4,
      "outputs": [
        {
          "output_type": "execute_result",
          "data": {
            "text/plain": [
              "True"
            ]
          },
          "metadata": {
            "tags": []
          },
          "execution_count": 4
        }
      ]
    },
    {
      "cell_type": "code",
      "metadata": {
        "id": "WL5Du4OaT1Fa",
        "colab_type": "code",
        "colab": {
          "base_uri": "https://localhost:8080/",
          "height": 34
        },
        "outputId": "ada1ccb5-dfcd-48ea-eb98-31b849eec075"
      },
      "source": [
        "type(escalar_python)"
      ],
      "execution_count": 5,
      "outputs": [
        {
          "output_type": "execute_result",
          "data": {
            "text/plain": [
              "bool"
            ]
          },
          "metadata": {
            "tags": []
          },
          "execution_count": 5
        }
      ]
    },
    {
      "cell_type": "code",
      "metadata": {
        "id": "AJEc06o3Ut_w",
        "colab_type": "code",
        "colab": {}
      },
      "source": [
        "import numpy as np # numerical python"
      ],
      "execution_count": 6,
      "outputs": []
    },
    {
      "cell_type": "markdown",
      "metadata": {
        "id": "iH2jVMPAT5wz",
        "colab_type": "text"
      },
      "source": [
        "## Vectores\n",
        "\n",
        "Un lugar donde se pueden colocar muchos números, como una lista"
      ]
    },
    {
      "cell_type": "code",
      "metadata": {
        "id": "3vGdMQiFT43W",
        "colab_type": "code",
        "colab": {
          "base_uri": "https://localhost:8080/",
          "height": 34
        },
        "outputId": "83ec3695-2fe5-43c9-ae2d-c6324b36ebe0"
      },
      "source": [
        "vector = np.array([1,2,3,4,5])\n",
        "vector"
      ],
      "execution_count": 7,
      "outputs": [
        {
          "output_type": "execute_result",
          "data": {
            "text/plain": [
              "array([1, 2, 3, 4, 5])"
            ]
          },
          "metadata": {
            "tags": []
          },
          "execution_count": 7
        }
      ]
    },
    {
      "cell_type": "markdown",
      "metadata": {
        "id": "QpJX9u7MUNLO",
        "colab_type": "text"
      },
      "source": [
        "## Matrices\n",
        "\n",
        "Muchos vectores apilados, 1 o 2 grados de libertad, filas, columnas"
      ]
    },
    {
      "cell_type": "code",
      "metadata": {
        "id": "tVVMqOniUMna",
        "colab_type": "code",
        "colab": {
          "base_uri": "https://localhost:8080/",
          "height": 68
        },
        "outputId": "1f66396e-ef2b-4c69-87ba-c7075c1c4b82"
      },
      "source": [
        "matriz = np.array([[1,2,3],[4,5,6],[7,8,9]])\n",
        "matriz"
      ],
      "execution_count": 9,
      "outputs": [
        {
          "output_type": "execute_result",
          "data": {
            "text/plain": [
              "array([[1, 2, 3],\n",
              "       [4, 5, 6],\n",
              "       [7, 8, 9]])"
            ]
          },
          "metadata": {
            "tags": []
          },
          "execution_count": 9
        }
      ]
    },
    {
      "cell_type": "markdown",
      "metadata": {
        "id": "NZFz9bljUTb3",
        "colab_type": "text"
      },
      "source": [
        "## Tensor\n",
        "\n",
        "1 o más grados de libertad, como si se tuviera una o más matrices. En este caso el movimiento es entre filas, columnas y matrices"
      ]
    },
    {
      "cell_type": "code",
      "metadata": {
        "id": "Uy5irX3tVKQ_",
        "colab_type": "code",
        "colab": {
          "base_uri": "https://localhost:8080/",
          "height": 204
        },
        "outputId": "6485a1a0-82af-4ce6-d210-fc849255e387"
      },
      "source": [
        "tensor = np.array([\n",
        "    [[255,255,255],[255,255,255],[255,255,255]],\n",
        "    [[0,0,0],[0,0,0],[0,0,0]],\n",
        "    [[128,128,128],[128,128,128],[128,128,128]]\n",
        "])\n",
        "tensor"
      ],
      "execution_count": 10,
      "outputs": [
        {
          "output_type": "execute_result",
          "data": {
            "text/plain": [
              "array([[[255, 255, 255],\n",
              "        [255, 255, 255],\n",
              "        [255, 255, 255]],\n",
              "\n",
              "       [[  0,   0,   0],\n",
              "        [  0,   0,   0],\n",
              "        [  0,   0,   0]],\n",
              "\n",
              "       [[128, 128, 128],\n",
              "        [128, 128, 128],\n",
              "        [128, 128, 128]]])"
            ]
          },
          "metadata": {
            "tags": []
          },
          "execution_count": 10
        }
      ]
    },
    {
      "cell_type": "code",
      "metadata": {
        "id": "RzEb7HVxVthm",
        "colab_type": "code",
        "colab": {}
      },
      "source": [
        "%matplotlib inline\n",
        "import matplotlib.pyplot as plt"
      ],
      "execution_count": 11,
      "outputs": []
    },
    {
      "cell_type": "code",
      "metadata": {
        "id": "nAPLeoEQVz9M",
        "colab_type": "code",
        "colab": {
          "base_uri": "https://localhost:8080/",
          "height": 269
        },
        "outputId": "efb3e6a5-ab47-4f0f-8ccf-efd7e1362b54"
      },
      "source": [
        "plt.imshow(tensor, interpolation='nearest')\n",
        "plt.show()"
      ],
      "execution_count": 13,
      "outputs": [
        {
          "output_type": "display_data",
          "data": {
            "image/png": "[encoded data removed]",
            "text/plain": [
              "<Figure size 432x288 with 1 Axes>"
            ]
          },
          "metadata": {
            "tags": [],
            "needs_background": "light"
          }
        }
      ]
    },
    {
      "cell_type": "markdown",
      "metadata": {
        "id": "JI3rkXbNW2Nk",
        "colab_type": "text"
      },
      "source": [
        "# Dimensión de un escalar, vector, matriz o tensor"
      ]
    },
    {
      "cell_type": "code",
      "metadata": {
        "id": "rcAEoqcbW79K",
        "colab_type": "code",
        "colab": {}
      },
      "source": [
        "escalar = 3.1416"
      ],
      "execution_count": 14,
      "outputs": []
    },
    {
      "cell_type": "code",
      "metadata": {
        "id": "EjPgCqdSXIZ0",
        "colab_type": "code",
        "colab": {}
      },
      "source": [
        "vector = np.array([1,2,3])"
      ],
      "execution_count": 15,
      "outputs": []
    },
    {
      "cell_type": "code",
      "metadata": {
        "id": "K5YRwZ-LXNGb",
        "colab_type": "code",
        "colab": {}
      },
      "source": [
        "tensor = np.array([\n",
        "    [[1,3],[4,6],[6,8]],\n",
        "    [[11,13],[14,16],[17,19]],\n",
        "    [[21,23],[24,26],[27,28]],\n",
        "    [[32,33],[34,36],[37,39]],\n",
        "])"
      ],
      "execution_count": 16,
      "outputs": []
    },
    {
      "cell_type": "code",
      "metadata": {
        "id": "HEgmY2yFXavP",
        "colab_type": "code",
        "colab": {}
      },
      "source": [
        "# .shape - sirve para obtener las dimensiones de un objeto"
      ],
      "execution_count": 17,
      "outputs": []
    },
    {
      "cell_type": "code",
      "metadata": {
        "id": "HP6FFP4cXfrR",
        "colab_type": "code",
        "colab": {
          "base_uri": "https://localhost:8080/",
          "height": 34
        },
        "outputId": "b590c581-71ad-4b9c-d18f-97aa6377ab23"
      },
      "source": [
        "vector.shape"
      ],
      "execution_count": 18,
      "outputs": [
        {
          "output_type": "execute_result",
          "data": {
            "text/plain": [
              "(3,)"
            ]
          },
          "metadata": {
            "tags": []
          },
          "execution_count": 18
        }
      ]
    },
    {
      "cell_type": "code",
      "metadata": {
        "id": "j6qWVyk-YjlE",
        "colab_type": "code",
        "colab": {
          "base_uri": "https://localhost:8080/",
          "height": 34
        },
        "outputId": "8b74178b-8c4b-475e-ee3d-eabe65e7cdbb"
      },
      "source": [
        "matriz.shape"
      ],
      "execution_count": 19,
      "outputs": [
        {
          "output_type": "execute_result",
          "data": {
            "text/plain": [
              "(3, 3)"
            ]
          },
          "metadata": {
            "tags": []
          },
          "execution_count": 19
        }
      ]
    },
    {
      "cell_type": "code",
      "metadata": {
        "id": "5-A_6eSdYpOQ",
        "colab_type": "code",
        "colab": {
          "base_uri": "https://localhost:8080/",
          "height": 34
        },
        "outputId": "cf83ede7-f450-4d52-9f49-2deed03fd16f"
      },
      "source": [
        "matriz.size # retorna la multiplicación de las dimensiones, la cantidad total de elementos"
      ],
      "execution_count": 20,
      "outputs": [
        {
          "output_type": "execute_result",
          "data": {
            "text/plain": [
              "9"
            ]
          },
          "metadata": {
            "tags": []
          },
          "execution_count": 20
        }
      ]
    },
    {
      "cell_type": "code",
      "metadata": {
        "id": "QWB4AwOVYwMt",
        "colab_type": "code",
        "colab": {
          "base_uri": "https://localhost:8080/",
          "height": 34
        },
        "outputId": "e3c3e896-056e-4b7d-84ea-aa8bd560af7c"
      },
      "source": [
        "tensor.shape"
      ],
      "execution_count": 21,
      "outputs": [
        {
          "output_type": "execute_result",
          "data": {
            "text/plain": [
              "(4, 3, 2)"
            ]
          },
          "metadata": {
            "tags": []
          },
          "execution_count": 21
        }
      ]
    },
    {
      "cell_type": "code",
      "metadata": {
        "id": "YkSPYzLaYyG7",
        "colab_type": "code",
        "colab": {
          "base_uri": "https://localhost:8080/",
          "height": 34
        },
        "outputId": "9e97dd4f-6915-471a-af21-4c10bf2a0309"
      },
      "source": [
        "tensor.size"
      ],
      "execution_count": 22,
      "outputs": [
        {
          "output_type": "execute_result",
          "data": {
            "text/plain": [
              "24"
            ]
          },
          "metadata": {
            "tags": []
          },
          "execution_count": 22
        }
      ]
    }
  ]
}